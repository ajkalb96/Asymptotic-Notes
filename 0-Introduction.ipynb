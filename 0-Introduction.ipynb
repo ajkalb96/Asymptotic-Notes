{
 "cells": [
  {
   "cell_type": "markdown",
   "metadata": {},
   "source": [
    "# Introduction \n",
    "\n",
    "This series of notebooks forms a series teaching perturbation theory using a computer algebra system, in particular Sympy. It is important to know that at this stage, several topics do not have affiliated codes, and as such has been omitted. As such, we will introduce each chapter with the necessary libraries without much comment.\n",
    "\n",
    "In terms of ideas, the following textbooks/notes were used as reference:\n",
    "- Hunter, John. Lecture Notes on Asmpytotics https://www.math.ucdavis.edu/~hunter/asymptotics/asymptotics.html. This is from where the first pass of content was developed, including many of the examples\n",
    "- Greenberg, Michael. Foundations of Applied Mathematics, Dover.\n",
    "\n",
    "This book does not claim to introduce revolutionary ideas to the field or new explanations, but to introduce the ideas to novices alongside tools to automate the process. \n",
    "\n",
    "## Prerequisites\n",
    "\n",
    "This course requires a familiarity with differential equations. The best litmus test at the present moment is the content of 0.1-Series Solutions, which might be taught in an ODE course, or is something readily picked up by the sufficiently proficient."
   ]
  },
  {
   "cell_type": "markdown",
   "metadata": {},
   "source": []
  }
 ],
 "metadata": {
  "language_info": {
   "name": "python"
  }
 },
 "nbformat": 4,
 "nbformat_minor": 2
}
