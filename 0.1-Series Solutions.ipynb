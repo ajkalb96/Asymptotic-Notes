{
 "cells": [
  {
   "cell_type": "code",
   "execution_count": 1,
   "metadata": {},
   "outputs": [],
   "source": [
    "from sympy import *\n",
    "from IPython.display import display\n",
    "init_printing(use_latex='mathjax')"
   ]
  },
  {
   "cell_type": "markdown",
   "metadata": {},
   "source": [
    "# Series Solutions to ODEs\n",
    "\n",
    "Before we bein asymptotics in earnest, we explain how Sympy can be used to compute series solutions. Most of the techniques used in later codes make themselves present here as well. The idea of this first code is to generate a series solution to the equation $$\\ddot{y} - y = 0.$$ First we must define our variables $x$ which is a *symbol* a fundamental building block of Sympy's computer algebra system. Then we define $N$ to indicate the number of terms in our series, followed by the symbol array $\\{a_i\\}_{i=0}^{N-1}$, built out of an f-string on top of slice notation. Finally, we define $y=\\sum_{i=0}^{N-1}a_ix^i.$ Note, the variable array `a_` is simply a personal convention to match $\\LaTeX$/Markdown syntax. \n",
    "\n",
    "The function call `diff(x,y,z)` indicates derivatives with respect to variables x, y, z. There are other ways to set up derivatives in Sympy, but this is the most common, and the one used the most.\n",
    "\n",
    "In summary what this code does is that it takes the series solution for $y$, defines the equation with that solution embedded into it. Then the equation is internally transformed before we call `collect(x)` which gathers terms by their powers of $x$, `evaluate=False` tells us that we want each of these terms separated into a dictionary whose keys are the powers of $x$ and the values are those coefficients, which is then printed.\n",
    "\n",
    "The idea behind a series solution is that each of these coefficients should become 0, so that the equation as a whole would be uniformly 0. As such, that is precisely what we do in the following for loop. We also define a dictionary `replacements` where we can store previously solved $a_i$ values for use in later equations. It is important to note that we solve all $a_i$ in terms of $a_0,a_1$ since these will are the leading coefficients of the two linearly independent solutions.\n",
    "\n",
    "Finally, we substitute all the variables we solved for back into our definition of $y$ and print."
   ]
  },
  {
   "cell_type": "code",
   "execution_count": 2,
   "metadata": {},
   "outputs": [
    {
     "data": {
      "text/latex": [
       "$\\displaystyle \\left\\{ 1 : - a_{0} + 2 a_{2}, \\  x : - a_{1} + 6 a_{3}, \\  x^{2} : - a_{2} + 12 a_{4}, \\  x^{3} : - a_{3} + 20 a_{5}, \\  x^{4} : - a_{4} + 30 a_{6}, \\  x^{5} : - a_{5} + 42 a_{7}, \\  x^{6} : - a_{6} + 56 a_{8}, \\  x^{7} : - a_{7} + 72 a_{9}, \\  x^{8} : - a_{8}, \\  x^{9} : - a_{9}\\right\\}$"
      ],
      "text/plain": [
       "⎧                               2                3                4            ↪\n",
       "⎨1: -a₀ + 2⋅a₂, x: -a₁ + 6⋅a₃, x : -a₂ + 12⋅a₄, x : -a₃ + 20⋅a₅, x : -a₄ + 30⋅ ↪\n",
       "⎩                                                                              ↪\n",
       "\n",
       "↪      5                6                7                8        9     ⎫\n",
       "↪ a₆, x : -a₅ + 42⋅a₇, x : -a₆ + 56⋅a₈, x : -a₇ + 72⋅a₉, x : -a₈, x : -a₉⎬\n",
       "↪                                                                        ⎭"
      ]
     },
     "metadata": {},
     "output_type": "display_data"
    },
    {
     "data": {
      "text/latex": [
       "$\\displaystyle \\frac{a_{0} x^{8}}{40320} + \\frac{a_{0} x^{6}}{720} + \\frac{a_{0} x^{4}}{24} + \\frac{a_{0} x^{2}}{2} + a_{0} + \\frac{a_{1} x^{9}}{362880} + \\frac{a_{1} x^{7}}{5040} + \\frac{a_{1} x^{5}}{120} + \\frac{a_{1} x^{3}}{6} + a_{1} x$"
      ],
      "text/plain": [
       "    8       6       4       2            9        7       5       3       \n",
       "a₀⋅x    a₀⋅x    a₀⋅x    a₀⋅x         a₁⋅x     a₁⋅x    a₁⋅x    a₁⋅x        \n",
       "───── + ───── + ───── + ───── + a₀ + ────── + ───── + ───── + ───── + a₁⋅x\n",
       "40320    720     24       2          362880   5040     120      6         "
      ]
     },
     "metadata": {},
     "output_type": "display_data"
    }
   ],
   "source": [
    "x = symbols('x')\n",
    "N = 10\n",
    "a_ = symbols(f'a0:{N}')\n",
    "y = sum([a_[i]*x**i for i in range(N)])\n",
    "\n",
    "eqn = y.diff(x,x) - y\n",
    "eqn = eqn.expand().powsimp().collect(x,evaluate=False)\n",
    "display(eqn)\n",
    "replacements = {}\n",
    "for i in range(N-2):\n",
    "    replacements[a_[i+2]] = solve(eqn[x**i].subs(replacements),a_[i+2])[0]\n",
    "    \n",
    "display(y.subs(replacements))\n"
   ]
  },
  {
   "cell_type": "markdown",
   "metadata": {},
   "source": [
    "## Frobenius Method\n",
    "\n",
    "The Frobenius method operates in a similar method as the above power series solution, however we instead use the more generic power series $y=x^\\alpha\\sum_{i=0}^{N-1}a_ix^i,$ which we use to solve the differential equation $$x\\ddot{y} + \\dot{y} + xy = 0.$$ Since `collect` only works for integer powers of $x$, we factor out the generic $x^\\alpha$ that appears in all terms, imitatin a division by $x^\\alpha$ once all the derivatives have done their part. \n",
    "\n",
    "We then start by solving the *indicial polynomial* which occupies the most negative order of $x,$ here $x^{-1}.$ This gives the valid values of $\\alpha.$ We thn solve the coefficients like before, then printing the full $y$ in the end."
   ]
  },
  {
   "cell_type": "code",
   "execution_count": 17,
   "metadata": {},
   "outputs": [
    {
     "data": {
      "text/latex": [
       "$\\displaystyle \\left\\{ 1 : a_{1} \\alpha^{2} + 2 a_{1} \\alpha + a_{1}, \\  \\frac{1}{x} : a_{0} \\alpha^{2}, \\  x : a_{0} + a_{2} \\alpha^{2} + 4 a_{2} \\alpha + 4 a_{2}, \\  x^{2} : a_{1} + a_{3} \\alpha^{2} + 6 a_{3} \\alpha + 9 a_{3}, \\  x^{3} : a_{2} + a_{4} \\alpha^{2} + 8 a_{4} \\alpha + 16 a_{4}, \\  x^{4} : a_{3} + a_{5} \\alpha^{2} + 10 a_{5} \\alpha + 25 a_{5}, \\  x^{5} : a_{4} + a_{6} \\alpha^{2} + 12 a_{6} \\alpha + 36 a_{6}, \\  x^{6} : a_{5} + a_{7} \\alpha^{2} + 14 a_{7} \\alpha + 49 a_{7}, \\  x^{7} : a_{6} + a_{8} \\alpha^{2} + 16 a_{8} \\alpha + 64 a_{8}, \\  x^{8} : a_{7} + a_{9} \\alpha^{2} + 18 a_{9} \\alpha + 81 a_{9}, \\  x^{9} : a_{8}, \\  x^{10} : a_{9}\\right\\}$"
      ],
      "text/plain": [
       "⎧       2                1      2              2                   2           ↪\n",
       "⎨1: a₁⋅α  + 2⋅a₁⋅α + a₁, ─: a₀⋅α , x: a₀ + a₂⋅α  + 4⋅a₂⋅α + 4⋅a₂, x : a₁ + a₃⋅ ↪\n",
       "⎩                        x                                                     ↪\n",
       "\n",
       "↪  2                   3           2                    4           2          ↪\n",
       "↪ α  + 6⋅a₃⋅α + 9⋅a₃, x : a₂ + a₄⋅α  + 8⋅a₄⋅α + 16⋅a₄, x : a₃ + a₅⋅α  + 10⋅a₅⋅ ↪\n",
       "↪                                                                              ↪\n",
       "\n",
       "↪             5           2                     6           2                  ↪\n",
       "↪ α + 25⋅a₅, x : a₄ + a₆⋅α  + 12⋅a₆⋅α + 36⋅a₆, x : a₅ + a₇⋅α  + 14⋅a₇⋅α + 49⋅a ↪\n",
       "↪                                                                              ↪\n",
       "\n",
       "↪     7           2                     8           2                     9    ↪\n",
       "↪ ₇, x : a₆ + a₈⋅α  + 16⋅a₈⋅α + 64⋅a₈, x : a₇ + a₉⋅α  + 18⋅a₉⋅α + 81⋅a₉, x : a ↪\n",
       "↪                                                                              ↪\n",
       "\n",
       "↪     10    ⎫\n",
       "↪ ₈, x  : a₉⎬\n",
       "↪           ⎭"
      ]
     },
     "metadata": {},
     "output_type": "display_data"
    },
    {
     "data": {
      "text/latex": [
       "$\\displaystyle \\frac{a_{0} x^{8}}{147456} - \\frac{a_{0} x^{6}}{2304} + \\frac{a_{0} x^{4}}{64} - \\frac{a_{0} x^{2}}{4} + a_{0}$"
      ],
      "text/plain": [
       "    8        6       4       2     \n",
       "a₀⋅x     a₀⋅x    a₀⋅x    a₀⋅x      \n",
       "────── - ───── + ───── - ───── + a₀\n",
       "147456   2304     64       4       "
      ]
     },
     "metadata": {},
     "output_type": "display_data"
    }
   ],
   "source": [
    "x, alpha = symbols('x alpha')\n",
    "N = 10\n",
    "a_ = symbols(f'a0:{N}')\n",
    "y = sum([a_[i]*x**(i+alpha) for i in range(N)])\n",
    "\n",
    "eqn = x*y.diff(x,x) + y.diff(x) + x*y\n",
    "eqn = eqn.expand().subs(x**alpha,1).collect(x,evaluate=False)\n",
    "display(eqn)\n",
    "\n",
    "replacements = [{alpha:a} for a in solve(eqn[x**-1],alpha)]\n",
    "\n",
    "for r in replacements:\n",
    "    for i in range(N-1):\n",
    "        r[a_[i+1]] = solve(eqn[x**i].subs(r),a_[i+1])[0]\n",
    "    display(y.subs(r))\n"
   ]
  },
  {
   "cell_type": "code",
   "execution_count": null,
   "metadata": {},
   "outputs": [],
   "source": []
  }
 ],
 "metadata": {
  "kernelspec": {
   "display_name": "Python 3",
   "language": "python",
   "name": "python3"
  },
  "language_info": {
   "codemirror_mode": {
    "name": "ipython",
    "version": 3
   },
   "file_extension": ".py",
   "mimetype": "text/x-python",
   "name": "python",
   "nbconvert_exporter": "python",
   "pygments_lexer": "ipython3",
   "version": "3.12.4"
  }
 },
 "nbformat": 4,
 "nbformat_minor": 2
}
