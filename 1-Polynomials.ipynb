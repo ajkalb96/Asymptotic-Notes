{
 "cells": [
  {
   "cell_type": "markdown",
   "metadata": {},
   "source": [
    "We begin each chapter by importing Sympy and other necessary libraries."
   ]
  },
  {
   "cell_type": "code",
   "execution_count": 16,
   "metadata": {},
   "outputs": [],
   "source": [
    "import sympy as sp\n",
    "import matplotlib.pyplot as plt\n",
    "import numpy as np\n",
    "from IPython.display import display\n",
    "sp.init_printing(use_latex='mathjax')"
   ]
  },
  {
   "cell_type": "markdown",
   "metadata": {},
   "source": [
    "# Perturbation Theory\n",
    "\n",
    "In broad strokes, the objective of perturbation theory is to bridge the gap between a simple problem to a harder problem by means of a continuous parameter change. In more mathematical language, we have a problem $P(x;\\epsilon)$ for which $P(x;0)$ has a simple solution, our objective is to understand how a solution $x$ depends on $\\epsilon$ in the limit $\\epsilon\\to0$.\n",
    "\n",
    "Sometimes a problem depends on a large parameter $E$ whose solution is known as $E\\to\\infty$. This can be recast into the above case by considering $\\epsilon = \\frac 1E$."
   ]
  },
  {
   "cell_type": "markdown",
   "metadata": {},
   "source": [
    "## Polynomial Examples\n",
    "\n",
    "### Regular Perturbation\n",
    "We begin by consider the polynomial equation $x^6 + \\epsilon x - 1 = 0.$ Here we define the polynomial"
   ]
  },
  {
   "cell_type": "code",
   "execution_count": 2,
   "metadata": {},
   "outputs": [
    {
     "data": {
      "text/latex": [
       "$\\displaystyle \\epsilon x + x^{6} - 1$"
      ],
      "text/plain": [
       "       6    \n",
       "ε⋅x + x  - 1"
      ]
     },
     "metadata": {},
     "output_type": "display_data"
    }
   ],
   "source": [
    "x, epsilon = sp.symbols(\"x epsilon\")\n",
    "poly = x**6 + epsilon*x - 1\n",
    "display(poly)"
   ]
  },
  {
   "cell_type": "markdown",
   "metadata": {},
   "source": [
    "We look for a solution of the form $X\\approx x_0 + \\epsilon x_1 + \\epsilon^2 x_2 + \\epsilon^3 x_3 + O(\\epsilon^4).$ Big O notation is used to describe the behavior of functions in a limit (here $\\epsilon\\to0$) in a simple manner. This will be defined formally later. This code defines the series solution, and then substitutes it into the polynomial."
   ]
  },
  {
   "cell_type": "code",
   "execution_count": 3,
   "metadata": {},
   "outputs": [
    {
     "data": {
      "text/latex": [
       "$\\displaystyle \\epsilon^{18} x_{3}^{6} + 6 \\epsilon^{17} x_{2} x_{3}^{5} + 6 \\epsilon^{16} x_{1} x_{3}^{5} + 15 \\epsilon^{16} x_{2}^{2} x_{3}^{4} + 6 \\epsilon^{15} x_{0} x_{3}^{5} + 30 \\epsilon^{15} x_{1} x_{2} x_{3}^{4} + 20 \\epsilon^{15} x_{2}^{3} x_{3}^{3} + 30 \\epsilon^{14} x_{0} x_{2} x_{3}^{4} + 15 \\epsilon^{14} x_{1}^{2} x_{3}^{4} + 60 \\epsilon^{14} x_{1} x_{2}^{2} x_{3}^{3} + 15 \\epsilon^{14} x_{2}^{4} x_{3}^{2} + 30 \\epsilon^{13} x_{0} x_{1} x_{3}^{4} + 60 \\epsilon^{13} x_{0} x_{2}^{2} x_{3}^{3} + 60 \\epsilon^{13} x_{1}^{2} x_{2} x_{3}^{3} + 60 \\epsilon^{13} x_{1} x_{2}^{3} x_{3}^{2} + 6 \\epsilon^{13} x_{2}^{5} x_{3} + 15 \\epsilon^{12} x_{0}^{2} x_{3}^{4} + 120 \\epsilon^{12} x_{0} x_{1} x_{2} x_{3}^{3} + 60 \\epsilon^{12} x_{0} x_{2}^{3} x_{3}^{2} + 20 \\epsilon^{12} x_{1}^{3} x_{3}^{3} + 90 \\epsilon^{12} x_{1}^{2} x_{2}^{2} x_{3}^{2} + 30 \\epsilon^{12} x_{1} x_{2}^{4} x_{3} + \\epsilon^{12} x_{2}^{6} + 60 \\epsilon^{11} x_{0}^{2} x_{2} x_{3}^{3} + 60 \\epsilon^{11} x_{0} x_{1}^{2} x_{3}^{3} + 180 \\epsilon^{11} x_{0} x_{1} x_{2}^{2} x_{3}^{2} + 30 \\epsilon^{11} x_{0} x_{2}^{4} x_{3} + 60 \\epsilon^{11} x_{1}^{3} x_{2} x_{3}^{2} + 60 \\epsilon^{11} x_{1}^{2} x_{2}^{3} x_{3} + 6 \\epsilon^{11} x_{1} x_{2}^{5} + 60 \\epsilon^{10} x_{0}^{2} x_{1} x_{3}^{3} + 90 \\epsilon^{10} x_{0}^{2} x_{2}^{2} x_{3}^{2} + 180 \\epsilon^{10} x_{0} x_{1}^{2} x_{2} x_{3}^{2} + 120 \\epsilon^{10} x_{0} x_{1} x_{2}^{3} x_{3} + 6 \\epsilon^{10} x_{0} x_{2}^{5} + 15 \\epsilon^{10} x_{1}^{4} x_{3}^{2} + 60 \\epsilon^{10} x_{1}^{3} x_{2}^{2} x_{3} + 15 \\epsilon^{10} x_{1}^{2} x_{2}^{4} + 20 \\epsilon^{9} x_{0}^{3} x_{3}^{3} + 180 \\epsilon^{9} x_{0}^{2} x_{1} x_{2} x_{3}^{2} + 60 \\epsilon^{9} x_{0}^{2} x_{2}^{3} x_{3} + 60 \\epsilon^{9} x_{0} x_{1}^{3} x_{3}^{2} + 180 \\epsilon^{9} x_{0} x_{1}^{2} x_{2}^{2} x_{3} + 30 \\epsilon^{9} x_{0} x_{1} x_{2}^{4} + 30 \\epsilon^{9} x_{1}^{4} x_{2} x_{3} + 20 \\epsilon^{9} x_{1}^{3} x_{2}^{3} + 60 \\epsilon^{8} x_{0}^{3} x_{2} x_{3}^{2} + 90 \\epsilon^{8} x_{0}^{2} x_{1}^{2} x_{3}^{2} + 180 \\epsilon^{8} x_{0}^{2} x_{1} x_{2}^{2} x_{3} + 15 \\epsilon^{8} x_{0}^{2} x_{2}^{4} + 120 \\epsilon^{8} x_{0} x_{1}^{3} x_{2} x_{3} + 60 \\epsilon^{8} x_{0} x_{1}^{2} x_{2}^{3} + 6 \\epsilon^{8} x_{1}^{5} x_{3} + 15 \\epsilon^{8} x_{1}^{4} x_{2}^{2} + 60 \\epsilon^{7} x_{0}^{3} x_{1} x_{3}^{2} + 60 \\epsilon^{7} x_{0}^{3} x_{2}^{2} x_{3} + 180 \\epsilon^{7} x_{0}^{2} x_{1}^{2} x_{2} x_{3} + 60 \\epsilon^{7} x_{0}^{2} x_{1} x_{2}^{3} + 30 \\epsilon^{7} x_{0} x_{1}^{4} x_{3} + 60 \\epsilon^{7} x_{0} x_{1}^{3} x_{2}^{2} + 6 \\epsilon^{7} x_{1}^{5} x_{2} + 15 \\epsilon^{6} x_{0}^{4} x_{3}^{2} + 120 \\epsilon^{6} x_{0}^{3} x_{1} x_{2} x_{3} + 20 \\epsilon^{6} x_{0}^{3} x_{2}^{3} + 60 \\epsilon^{6} x_{0}^{2} x_{1}^{3} x_{3} + 90 \\epsilon^{6} x_{0}^{2} x_{1}^{2} x_{2}^{2} + 30 \\epsilon^{6} x_{0} x_{1}^{4} x_{2} + \\epsilon^{6} x_{1}^{6} + 30 \\epsilon^{5} x_{0}^{4} x_{2} x_{3} + 60 \\epsilon^{5} x_{0}^{3} x_{1}^{2} x_{3} + 60 \\epsilon^{5} x_{0}^{3} x_{1} x_{2}^{2} + 60 \\epsilon^{5} x_{0}^{2} x_{1}^{3} x_{2} + 6 \\epsilon^{5} x_{0} x_{1}^{5} + 30 \\epsilon^{4} x_{0}^{4} x_{1} x_{3} + 15 \\epsilon^{4} x_{0}^{4} x_{2}^{2} + 60 \\epsilon^{4} x_{0}^{3} x_{1}^{2} x_{2} + 15 \\epsilon^{4} x_{0}^{2} x_{1}^{4} + \\epsilon^{4} x_{3} + 6 \\epsilon^{3} x_{0}^{5} x_{3} + 30 \\epsilon^{3} x_{0}^{4} x_{1} x_{2} + 20 \\epsilon^{3} x_{0}^{3} x_{1}^{3} + \\epsilon^{3} x_{2} + 6 \\epsilon^{2} x_{0}^{5} x_{2} + 15 \\epsilon^{2} x_{0}^{4} x_{1}^{2} + \\epsilon^{2} x_{1} + 6 \\epsilon x_{0}^{5} x_{1} + \\epsilon x_{0} + x_{0}^{6} - 1$"
      ],
      "text/plain": [
       " 18   6      17      5      16      5       16   2   4      15      5       15 ↪\n",
       "ε  ⋅x₃  + 6⋅ε  ⋅x₂⋅x₃  + 6⋅ε  ⋅x₁⋅x₃  + 15⋅ε  ⋅x₂ ⋅x₃  + 6⋅ε  ⋅x₀⋅x₃  + 30⋅ε   ↪\n",
       "\n",
       "↪          4       15   3   3       14         4       14   2   4       14     ↪\n",
       "↪ ⋅x₁⋅x₂⋅x₃  + 20⋅ε  ⋅x₂ ⋅x₃  + 30⋅ε  ⋅x₀⋅x₂⋅x₃  + 15⋅ε  ⋅x₁ ⋅x₃  + 60⋅ε  ⋅x₁⋅ ↪\n",
       "\n",
       "↪   2   3       14   4   2       13         4       13      2   3       13   2 ↪\n",
       "↪ x₂ ⋅x₃  + 15⋅ε  ⋅x₂ ⋅x₃  + 30⋅ε  ⋅x₀⋅x₁⋅x₃  + 60⋅ε  ⋅x₀⋅x₂ ⋅x₃  + 60⋅ε  ⋅x₁  ↪\n",
       "\n",
       "↪       3       13      3   2      13   5          12   2   4        12        ↪\n",
       "↪ ⋅x₂⋅x₃  + 60⋅ε  ⋅x₁⋅x₂ ⋅x₃  + 6⋅ε  ⋅x₂ ⋅x₃ + 15⋅ε  ⋅x₀ ⋅x₃  + 120⋅ε  ⋅x₀⋅x₁⋅ ↪\n",
       "\n",
       "↪      3       12      3   2       12   3   3       12   2   2   2       12    ↪\n",
       "↪ x₂⋅x₃  + 60⋅ε  ⋅x₀⋅x₂ ⋅x₃  + 20⋅ε  ⋅x₁ ⋅x₃  + 90⋅ε  ⋅x₁ ⋅x₂ ⋅x₃  + 30⋅ε  ⋅x₁ ↪\n",
       "\n",
       "↪    4       12   6       11   2      3       11      2   3        11          ↪\n",
       "↪ ⋅x₂ ⋅x₃ + ε  ⋅x₂  + 60⋅ε  ⋅x₀ ⋅x₂⋅x₃  + 60⋅ε  ⋅x₀⋅x₁ ⋅x₃  + 180⋅ε  ⋅x₀⋅x₁⋅x₂ ↪\n",
       "\n",
       "↪ 2   2       11      4          11   3      2       11   2   3         11     ↪\n",
       "↪  ⋅x₃  + 30⋅ε  ⋅x₀⋅x₂ ⋅x₃ + 60⋅ε  ⋅x₁ ⋅x₂⋅x₃  + 60⋅ε  ⋅x₁ ⋅x₂ ⋅x₃ + 6⋅ε  ⋅x₁⋅ ↪\n",
       "\n",
       "↪   5       10   2      3       10   2   2   2        10      2      2         ↪\n",
       "↪ x₂  + 60⋅ε  ⋅x₀ ⋅x₁⋅x₃  + 90⋅ε  ⋅x₀ ⋅x₂ ⋅x₃  + 180⋅ε  ⋅x₀⋅x₁ ⋅x₂⋅x₃  + 120⋅ε ↪\n",
       "\n",
       "↪ 10         3         10      5       10   4   2       10   3   2          10 ↪\n",
       "↪   ⋅x₀⋅x₁⋅x₂ ⋅x₃ + 6⋅ε  ⋅x₀⋅x₂  + 15⋅ε  ⋅x₁ ⋅x₃  + 60⋅ε  ⋅x₁ ⋅x₂ ⋅x₃ + 15⋅ε   ↪\n",
       "\n",
       "↪    2   4       9   3   3        9   2         2       9   2   3          9   ↪\n",
       "↪ ⋅x₁ ⋅x₂  + 20⋅ε ⋅x₀ ⋅x₃  + 180⋅ε ⋅x₀ ⋅x₁⋅x₂⋅x₃  + 60⋅ε ⋅x₀ ⋅x₂ ⋅x₃ + 60⋅ε ⋅x ↪\n",
       "\n",
       "↪     3   2        9      2   2          9         4       9   4             9 ↪\n",
       "↪ ₀⋅x₁ ⋅x₃  + 180⋅ε ⋅x₀⋅x₁ ⋅x₂ ⋅x₃ + 30⋅ε ⋅x₀⋅x₁⋅x₂  + 30⋅ε ⋅x₁ ⋅x₂⋅x₃ + 20⋅ε  ↪\n",
       "\n",
       "↪    3   3       8   3      2       8   2   2   2        8   2      2          ↪\n",
       "↪ ⋅x₁ ⋅x₂  + 60⋅ε ⋅x₀ ⋅x₂⋅x₃  + 90⋅ε ⋅x₀ ⋅x₁ ⋅x₃  + 180⋅ε ⋅x₀ ⋅x₁⋅x₂ ⋅x₃ + 15⋅ ↪\n",
       "\n",
       "↪  8   2   4        8      3             8      2   3      8   5          8    ↪\n",
       "↪ ε ⋅x₀ ⋅x₂  + 120⋅ε ⋅x₀⋅x₁ ⋅x₂⋅x₃ + 60⋅ε ⋅x₀⋅x₁ ⋅x₂  + 6⋅ε ⋅x₁ ⋅x₃ + 15⋅ε ⋅x₁ ↪\n",
       "\n",
       "↪ 4   2       7   3      2       7   3   2           7   2   2             7   ↪\n",
       "↪  ⋅x₂  + 60⋅ε ⋅x₀ ⋅x₁⋅x₃  + 60⋅ε ⋅x₀ ⋅x₂ ⋅x₃ + 180⋅ε ⋅x₀ ⋅x₁ ⋅x₂⋅x₃ + 60⋅ε ⋅x ↪\n",
       "\n",
       "↪  2      3       7      4          7      3   2      7   5          6   4   2 ↪\n",
       "↪ ₀ ⋅x₁⋅x₂  + 30⋅ε ⋅x₀⋅x₁ ⋅x₃ + 60⋅ε ⋅x₀⋅x₁ ⋅x₂  + 6⋅ε ⋅x₁ ⋅x₂ + 15⋅ε ⋅x₀ ⋅x₃  ↪\n",
       "\n",
       "↪         6   3                6   3   3       6   2   3          6   2   2    ↪\n",
       "↪  + 120⋅ε ⋅x₀ ⋅x₁⋅x₂⋅x₃ + 20⋅ε ⋅x₀ ⋅x₂  + 60⋅ε ⋅x₀ ⋅x₁ ⋅x₃ + 90⋅ε ⋅x₀ ⋅x₁ ⋅x₂ ↪\n",
       "\n",
       "↪ 2       6      4       6   6       5   4             5   3   2          5    ↪\n",
       "↪   + 30⋅ε ⋅x₀⋅x₁ ⋅x₂ + ε ⋅x₁  + 30⋅ε ⋅x₀ ⋅x₂⋅x₃ + 60⋅ε ⋅x₀ ⋅x₁ ⋅x₃ + 60⋅ε ⋅x₀ ↪\n",
       "\n",
       "↪ 3      2       5   2   3         5      5       4   4             4   4   2  ↪\n",
       "↪  ⋅x₁⋅x₂  + 60⋅ε ⋅x₀ ⋅x₁ ⋅x₂ + 6⋅ε ⋅x₀⋅x₁  + 30⋅ε ⋅x₀ ⋅x₁⋅x₃ + 15⋅ε ⋅x₀ ⋅x₂   ↪\n",
       "\n",
       "↪       4   3   2          4   2   4    4         3   5          3   4         ↪\n",
       "↪ + 60⋅ε ⋅x₀ ⋅x₁ ⋅x₂ + 15⋅ε ⋅x₀ ⋅x₁  + ε ⋅x₃ + 6⋅ε ⋅x₀ ⋅x₃ + 30⋅ε ⋅x₀ ⋅x₁⋅x₂ + ↪\n",
       "\n",
       "↪      3   3   3    3         2   5          2   4   2    2            5       ↪\n",
       "↪  20⋅ε ⋅x₀ ⋅x₁  + ε ⋅x₂ + 6⋅ε ⋅x₀ ⋅x₂ + 15⋅ε ⋅x₀ ⋅x₁  + ε ⋅x₁ + 6⋅ε⋅x₀ ⋅x₁ +  ↪\n",
       "\n",
       "↪          6    \n",
       "↪ ε⋅x₀ + x₀  - 1"
      ]
     },
     "metadata": {},
     "output_type": "display_data"
    }
   ],
   "source": [
    "N = 4\n",
    "x_ = [sp.symbols(f'x_{i}') for i in range(N)]\n",
    "X = sum([epsilon**i * x_[i] for i in range(N)])\n",
    "poly_expand = sp.expand(poly.subs({x:X})) #+ sp.Order(epsilon**N)\n",
    "display(poly_expand)"
   ]
  },
  {
   "cell_type": "markdown",
   "metadata": {},
   "source": [
    "The previous code spits out a whole lot of terms. As it turns out, we only need the first few to build our asymptotic expansion. To just see these terms, remove the comment in the above code.\n",
    "\n",
    "As such, if solutions for the $x_i$ variables can be found to cancel out these leading terms, then the solution is accurate up to $O(\\epsilon^N)$. Therefore, we use Sympy to identify the terms at each order, which must be found to vanish."
   ]
  },
  {
   "cell_type": "code",
   "execution_count": 4,
   "metadata": {},
   "outputs": [
    {
     "data": {
      "text/latex": [
       "$\\displaystyle x_{0}^{6} - 1$"
      ],
      "text/plain": [
       "  6    \n",
       "x₀  - 1"
      ]
     },
     "metadata": {},
     "output_type": "display_data"
    },
    {
     "data": {
      "text/latex": [
       "$\\displaystyle 6 x_{0}^{5} x_{1} + x_{0}$"
      ],
      "text/plain": [
       "    5        \n",
       "6⋅x₀ ⋅x₁ + x₀"
      ]
     },
     "metadata": {},
     "output_type": "display_data"
    },
    {
     "data": {
      "text/latex": [
       "$\\displaystyle 6 x_{0}^{5} x_{2} + 15 x_{0}^{4} x_{1}^{2} + x_{1}$"
      ],
      "text/plain": [
       "    5           4   2     \n",
       "6⋅x₀ ⋅x₂ + 15⋅x₀ ⋅x₁  + x₁"
      ]
     },
     "metadata": {},
     "output_type": "display_data"
    },
    {
     "data": {
      "text/latex": [
       "$\\displaystyle 6 x_{0}^{5} x_{3} + 30 x_{0}^{4} x_{1} x_{2} + 20 x_{0}^{3} x_{1}^{3} + x_{2}$"
      ],
      "text/plain": [
       "    5           4              3   3     \n",
       "6⋅x₀ ⋅x₃ + 30⋅x₀ ⋅x₁⋅x₂ + 20⋅x₀ ⋅x₁  + x₂"
      ]
     },
     "metadata": {},
     "output_type": "display_data"
    }
   ],
   "source": [
    "dropO = lambda s: sp.sympify(str(s).replace('O','0 *'))\n",
    "poly_expand = dropO(poly_expand)\n",
    "\n",
    "expansion_terms = poly_expand.collect(epsilon,evaluate=False)\n",
    "\n",
    "eqns = []\n",
    "for n in range(N):\n",
    "    eqns.append(expansion_terms[epsilon**n])\n",
    "    display(eqns[n])"
   ]
  },
  {
   "cell_type": "markdown",
   "metadata": {},
   "source": [
    "The following block of codes solves for the coefficients, then builds out the asymptotic expansions."
   ]
  },
  {
   "cell_type": "code",
   "execution_count": 5,
   "metadata": {},
   "outputs": [
    {
     "data": {
      "text/latex": [
       "$\\displaystyle - \\frac{\\epsilon^{3}}{81} + \\frac{\\epsilon^{2}}{24} - \\frac{\\epsilon}{6} - 1$"
      ],
      "text/plain": [
       "   3    2        \n",
       "  ε    ε    ε    \n",
       "- ── + ── - ─ - 1\n",
       "  81   24   6    "
      ]
     },
     "metadata": {},
     "output_type": "display_data"
    },
    {
     "data": {
      "text/latex": [
       "$\\displaystyle - \\frac{\\epsilon^{3}}{81} - \\frac{\\epsilon^{2}}{24} - \\frac{\\epsilon}{6} + 1$"
      ],
      "text/plain": [
       "   3    2        \n",
       "  ε    ε    ε    \n",
       "- ── - ── - ─ + 1\n",
       "  81   24   6    "
      ]
     },
     "metadata": {},
     "output_type": "display_data"
    },
    {
     "data": {
      "text/latex": [
       "$\\displaystyle \\epsilon^{3} \\left(\\frac{1}{162} + \\frac{\\sqrt{3} i}{162}\\right) - \\frac{\\epsilon^{2}}{24} - \\frac{i \\epsilon}{3 \\sqrt{3} - 3 i} - \\frac{1}{2} - \\frac{\\sqrt{3} i}{2}$"
      ],
      "text/plain": [
       "                   2                        \n",
       " 3 ⎛ 1    √3⋅ⅈ⎞   ε       ⅈ⋅ε       1   √3⋅ⅈ\n",
       "ε ⋅⎜─── + ────⎟ - ── - ────────── - ─ - ────\n",
       "   ⎝162   162 ⎠   24   3⋅√3 - 3⋅ⅈ   2    2  "
      ]
     },
     "metadata": {},
     "output_type": "display_data"
    },
    {
     "data": {
      "text/latex": [
       "$\\displaystyle \\epsilon^{3} \\left(\\frac{1}{162} - \\frac{\\sqrt{3} i}{162}\\right) - \\frac{\\epsilon^{2}}{24} + \\frac{i \\epsilon}{3 \\left(\\sqrt{3} + i\\right)} - \\frac{1}{2} + \\frac{\\sqrt{3} i}{2}$"
      ],
      "text/plain": [
       "                   2                        \n",
       " 3 ⎛ 1    √3⋅ⅈ⎞   ε       ⅈ⋅ε       1   √3⋅ⅈ\n",
       "ε ⋅⎜─── - ────⎟ - ── + ────────── - ─ + ────\n",
       "   ⎝162   162 ⎠   24   3⋅(√3 + ⅈ)   2    2  "
      ]
     },
     "metadata": {},
     "output_type": "display_data"
    },
    {
     "data": {
      "text/latex": [
       "$\\displaystyle \\epsilon^{3} \\left(\\frac{1}{162} - \\frac{\\sqrt{3} i}{162}\\right) + \\frac{\\epsilon^{2}}{24} + \\frac{i \\epsilon}{3 \\left(\\sqrt{3} + i\\right)} + \\frac{1}{2} - \\frac{\\sqrt{3} i}{2}$"
      ],
      "text/plain": [
       "                   2                        \n",
       " 3 ⎛ 1    √3⋅ⅈ⎞   ε       ⅈ⋅ε       1   √3⋅ⅈ\n",
       "ε ⋅⎜─── - ────⎟ + ── + ────────── + ─ - ────\n",
       "   ⎝162   162 ⎠   24   3⋅(√3 + ⅈ)   2    2  "
      ]
     },
     "metadata": {},
     "output_type": "display_data"
    },
    {
     "data": {
      "text/latex": [
       "$\\displaystyle \\epsilon^{3} \\left(\\frac{1}{162} + \\frac{\\sqrt{3} i}{162}\\right) + \\frac{\\epsilon^{2}}{24} - \\frac{i \\epsilon}{3 \\sqrt{3} - 3 i} + \\frac{1}{2} + \\frac{\\sqrt{3} i}{2}$"
      ],
      "text/plain": [
       "                   2                        \n",
       " 3 ⎛ 1    √3⋅ⅈ⎞   ε       ⅈ⋅ε       1   √3⋅ⅈ\n",
       "ε ⋅⎜─── + ────⎟ + ── - ────────── + ─ + ────\n",
       "   ⎝162   162 ⎠   24   3⋅√3 - 3⋅ⅈ   2    2  "
      ]
     },
     "metadata": {},
     "output_type": "display_data"
    }
   ],
   "source": [
    "#solve coefficients\n",
    "expansions = [{x_[0]:i} for i in sp.solve(eqns[0],x_[0])]\n",
    "for expansion in expansions:\n",
    "    for n in range(1,N):\n",
    "        expansion[x_[n]] = sp.solve(eqns[n].subs(expansion),x_[n])[0]\n",
    "#build out expansions     \n",
    "expansions = [X.subs(expansion) for expansion in expansions]\n",
    "for expansion in expansions:\n",
    "    display(expansion)"
   ]
  },
  {
   "cell_type": "markdown",
   "metadata": {},
   "source": [
    "In the unperturbed case, we know that $x^6 - 1 = 0$ has solutions of the sixth roots of unity, which we see are the dominant terms of the expansion.\n",
    "\n",
    "This latter code does much of the same as above, but then plugs in an actual $\\epsilon$ value (`eps_actual` below), and shows how successive approximations will converge to the real solution to the polynomial (found here using a generic numerical method)."
   ]
  },
  {
   "cell_type": "code",
   "execution_count": 15,
   "metadata": {},
   "outputs": [
    {
     "data": {
      "image/png": "[encoded data removed]",
      "text/plain": [
       "<Figure size 640x480 with 1 Axes>"
      ]
     },
     "metadata": {},
     "output_type": "display_data"
    }
   ],
   "source": [
    "def produceExpansions(poly,x,epsilon,N):\n",
    "    x_ = [sp.symbols(f'x_{i}') for i in range(N)]\n",
    "    X = sum([epsilon**i * x_[i] for i in range(N)])\n",
    "    poly_expand = sp.expand(poly.subs({x:X}))\n",
    "\n",
    "    eqns = [poly_expand.coeff(epsilon,n) for n in range(N)]\n",
    "    \n",
    "    #solve coefficients\n",
    "    expansions = [{x_[0]:i} for i in sp.solve(eqns[0],x_[0])]\n",
    "    for expansion in expansions:\n",
    "        for n in range(1,N):\n",
    "            expansion[x_[n]] = sp.solve(eqns[n].subs(expansion),x_[n])[0]\n",
    "    #build out expansions     \n",
    "    return [X.subs(expansion) for expansion in expansions]\n",
    "\n",
    "def numericSolver(polynomial,x,epsilon,eps_actual):\n",
    "    poly_actual = polynomial.subs({epsilon:eps_actual})\n",
    "    return sp.solve(poly_actual,x)\n",
    "\n",
    "eps_actual = 1.1\n",
    "\n",
    "roots = np.array(numericSolver(poly,x,epsilon,eps_actual)).astype(complex)\n",
    "for root in roots:\n",
    "    plt.plot(root.real,root.imag,'ro')\n",
    "\n",
    "for n in range(1,7):\n",
    "    roots = np.array(produceExpansions(poly,x,epsilon,n))\n",
    "    for root in roots:\n",
    "        z = complex(root.subs(epsilon,eps_actual))\n",
    "        plt.plot(z.real,z.imag,'kx')\n",
    "\n",
    "plt.ylabel('Imaginary')\n",
    "plt.xlabel('Real')\n",
    "plt.show()"
   ]
  },
  {
   "cell_type": "markdown",
   "metadata": {},
   "source": [
    "This code produces just the expansions, without evaluation."
   ]
  },
  {
   "cell_type": "code",
   "execution_count": 58,
   "metadata": {},
   "outputs": [],
   "source": [
    "\n"
   ]
  },
  {
   "cell_type": "markdown",
   "metadata": {},
   "source": [
    "### Singular Perturbation\n",
    "\n",
    "Now we consider the polynomial $\\epsilon x^6 + x - 1 = 0.$ In the situation where $\\epsilon=0,$ the polynomial has one solution, whereas the perturbed solutions have six solutions. This qualitative difference is an example of a *singular perturbation,* which broadly refers to scenarios where the limit $\\epsilon\\to0$ does not approach the behavior at 0. The following code the expansion of that one solution."
   ]
  },
  {
   "cell_type": "code",
   "execution_count": 59,
   "metadata": {},
   "outputs": [
    {
     "data": {
      "text/latex": [
       "$\\displaystyle \\left[ - 51 \\epsilon^{3} + 6 \\epsilon^{2} - \\epsilon + 1\\right]$"
      ],
      "text/plain": [
       "⎡      3      2        ⎤\n",
       "⎣- 51⋅ε  + 6⋅ε  - ε + 1⎦"
      ]
     },
     "metadata": {},
     "output_type": "display_data"
    }
   ],
   "source": [
    "poly_singular = epsilon*x**6 + x - 1\n",
    "\n",
    "display(produceExpansions(poly_singular,x,epsilon,4))"
   ]
  },
  {
   "cell_type": "markdown",
   "metadata": {},
   "source": [
    "As $\\epsilon\\to0$ solutions to this polynomial display unbounded growth. To find these solution, we must introduce a scaled variable $x = y/\\delta$"
   ]
  },
  {
   "cell_type": "code",
   "execution_count": 9,
   "metadata": {},
   "outputs": [
    {
     "data": {
      "text/latex": [
       "$\\displaystyle -1 + \\frac{y}{\\delta} + \\frac{\\epsilon y^{6}}{\\delta^{6}}$"
      ],
      "text/plain": [
       "            6\n",
       "     y   ε⋅y \n",
       "-1 + ─ + ────\n",
       "     δ     6 \n",
       "          δ  "
      ]
     },
     "metadata": {},
     "output_type": "display_data"
    }
   ],
   "source": [
    "y,delta = sp.symbols('y delta')\n",
    "display(poly_singular.subs({x:y/delta}))"
   ]
  },
  {
   "cell_type": "markdown",
   "metadata": {},
   "source": [
    "\n",
    "For this scaling to be useful we must choose a $\\delta$ such that\n",
    "- There are multiple terms of highest order\n",
    "- This is no longer a singular perturbation\n",
    "\n",
    "The first requirement tells us that either $\\delta = 1, \\epsilon^{1/5}.$ However, only the latter eliminates the singular perturbation, now producing the equation $y^6 + y - \\epsilon^{1/5} = 0.$\n",
    "\n",
    "As such, we will solve this new problem in much the same way as before, but now with the asymptotic series $y\\approx y_0 + y_1\\epsilon^{1/5} + y_2\\epsilon^{2/5} + y_3\\epsilon^{3/5} + O(\\epsilon^{4/5})$"
   ]
  },
  {
   "cell_type": "code",
   "execution_count": 10,
   "metadata": {},
   "outputs": [
    {
     "data": {
      "text/latex": [
       "$\\displaystyle - \\frac{14 \\epsilon^{\\frac{2}{5}}}{125} + \\frac{3 \\sqrt[5]{\\epsilon}}{25} - \\frac{1}{5} - \\frac{1}{\\sqrt[5]{\\epsilon}}$"
      ],
      "text/plain": [
       "      2/5     5 ___            \n",
       "  14⋅ε      3⋅╲╱ ε    1     1  \n",
       "- ─────── + ─────── - ─ - ─────\n",
       "    125       25      5   5 ___\n",
       "                          ╲╱ ε "
      ]
     },
     "metadata": {},
     "output_type": "display_data"
    },
    {
     "data": {
      "text/latex": [
       "$\\displaystyle 1$"
      ],
      "text/plain": [
       "1"
      ]
     },
     "metadata": {},
     "output_type": "display_data"
    },
    {
     "data": {
      "text/latex": [
       "$\\displaystyle - \\frac{7 \\sqrt{5} \\epsilon^{\\frac{2}{5}}}{250} + \\frac{7 \\epsilon^{\\frac{2}{5}}}{250} + \\frac{7 \\epsilon^{\\frac{2}{5}} \\sqrt{-10 + 2 \\sqrt{5}}}{500} + \\frac{7 \\epsilon^{\\frac{2}{5}} \\sqrt{-50 + 10 \\sqrt{5}}}{500} - \\frac{3 \\sqrt{5} \\sqrt[5]{\\epsilon}}{100} - \\frac{3 \\sqrt[5]{\\epsilon}}{100} + \\frac{3 \\sqrt[5]{\\epsilon} \\sqrt{-10 + 2 \\sqrt{5}}}{100} - \\frac{1}{5} + \\frac{1}{4 \\sqrt[5]{\\epsilon}} + \\frac{\\sqrt{5}}{4 \\sqrt[5]{\\epsilon}} + \\frac{\\sqrt{- \\frac{5}{8} + \\frac{\\sqrt{5}}{8}}}{\\sqrt[5]{\\epsilon}}$"
      ],
      "text/plain": [
       "                                                                               ↪\n",
       "                                                                               ↪\n",
       "        2/5      2/5      2/5   ____________      2/5   _____________        5 ↪\n",
       "  7⋅√5⋅ε      7⋅ε      7⋅ε   ⋅╲╱ -10 + 2⋅√5    7⋅ε   ⋅╲╱ -50 + 10⋅√5    3⋅√5⋅╲ ↪\n",
       "- ───────── + ────── + ───────────────────── + ────────────────────── - ────── ↪\n",
       "     250       250              500                     500                100 ↪\n",
       "                                                                               ↪\n",
       "\n",
       "↪                                                                       ______ ↪\n",
       "↪                                                                      ╱   5   ↪\n",
       "↪  ___     5 ___     5 ___   ____________                             ╱  - ─ + ↪\n",
       "↪ ╱ ε    3⋅╲╱ ε    3⋅╲╱ ε ⋅╲╱ -10 + 2⋅√5    1      1        √5      ╲╱     8   ↪\n",
       "↪ ──── - ─────── + ────────────────────── - ─ + ─────── + ─────── + ────────── ↪\n",
       "↪          100              100             5     5 ___     5 ___       5 ___  ↪\n",
       "↪                                               4⋅╲╱ ε    4⋅╲╱ ε        ╲╱ ε   ↪\n",
       "\n",
       "↪ ____\n",
       "↪  √5 \n",
       "↪  ── \n",
       "↪  8  \n",
       "↪ ────\n",
       "↪     \n",
       "↪     "
      ]
     },
     "metadata": {},
     "output_type": "display_data"
    },
    {
     "data": {
      "text/latex": [
       "$\\displaystyle \\frac{7 \\epsilon^{\\frac{2}{5}}}{250} + \\frac{7 \\sqrt{5} \\epsilon^{\\frac{2}{5}}}{250} + \\frac{7 \\epsilon^{\\frac{2}{5}} \\sqrt{-10 + 2 \\sqrt{5}}}{250} - \\frac{3 \\sqrt[5]{\\epsilon}}{100} + \\frac{3 \\sqrt{5} \\sqrt[5]{\\epsilon}}{100} - \\frac{3 \\sqrt[5]{\\epsilon} \\sqrt{-50 + 10 \\sqrt{5}}}{200} - \\frac{3 \\sqrt[5]{\\epsilon} \\sqrt{-10 + 2 \\sqrt{5}}}{200} - \\frac{1}{5} - \\frac{\\sqrt{5}}{4 \\sqrt[5]{\\epsilon}} + \\frac{1}{4 \\sqrt[5]{\\epsilon}} - \\frac{\\sqrt{- \\frac{25}{8} + \\frac{5 \\sqrt{5}}{8}}}{2 \\sqrt[5]{\\epsilon}} - \\frac{\\sqrt{- \\frac{5}{8} + \\frac{\\sqrt{5}}{8}}}{2 \\sqrt[5]{\\epsilon}}$"
      ],
      "text/plain": [
       "                                                                               ↪\n",
       "                                                                               ↪\n",
       "   2/5         2/5      2/5   ____________     5 ___        5 ___     5 ___    ↪\n",
       "7⋅ε      7⋅√5⋅ε      7⋅ε   ⋅╲╱ -10 + 2⋅√5    3⋅╲╱ ε    3⋅√5⋅╲╱ ε    3⋅╲╱ ε ⋅╲╱ ↪\n",
       "────── + ───────── + ───────────────────── - ─────── + ────────── - ────────── ↪\n",
       " 250        250               250              100        100                  ↪\n",
       "                                                                               ↪\n",
       "\n",
       "↪                                                                      _______ ↪\n",
       "↪                                                                     ╱   25   ↪\n",
       "↪ _____________     5 ___   ____________                             ╱  - ── + ↪\n",
       "↪  -50 + 10⋅√5    3⋅╲╱ ε ⋅╲╱ -10 + 2⋅√5    1     √5         1      ╲╱     8    ↪\n",
       "↪ ───────────── - ────────────────────── - ─ - ─────── + ─────── - ─────────── ↪\n",
       "↪ 200                      200             5     5 ___     5 ___          5 __ ↪\n",
       "↪                                              4⋅╲╱ ε    4⋅╲╱ ε         2⋅╲╱ ε ↪\n",
       "\n",
       "↪ ______       __________\n",
       "↪  5⋅√5       ╱   5   √5 \n",
       "↪  ────      ╱  - ─ + ── \n",
       "↪   8      ╲╱     8   8  \n",
       "↪ ────── - ──────────────\n",
       "↪ _             5 ___    \n",
       "↪             2⋅╲╱ ε     "
      ]
     },
     "metadata": {},
     "output_type": "display_data"
    },
    {
     "data": {
      "text/latex": [
       "$\\displaystyle - \\frac{7 \\sqrt{5} \\epsilon^{\\frac{2}{5}}}{250} + \\frac{7 \\epsilon^{\\frac{2}{5}}}{250} - \\frac{21 \\epsilon^{\\frac{2}{5}} \\sqrt{-10 - 2 \\sqrt{5}}}{1000} - \\frac{\\epsilon^{\\frac{2}{5}} \\sqrt{-50 - 10 \\sqrt{5}}}{500} - \\frac{\\epsilon^{\\frac{2}{5}} \\sqrt{-50 + 10 \\sqrt{5}}}{400} + \\frac{3 \\epsilon^{\\frac{2}{5}} \\sqrt{-10 + 2 \\sqrt{5}}}{2000} - \\frac{3 \\sqrt{5} \\sqrt[5]{\\epsilon}}{100} - \\frac{3 \\sqrt[5]{\\epsilon}}{100} - \\frac{3 \\sqrt[5]{\\epsilon} \\sqrt{-50 - 10 \\sqrt{5}}}{400} - \\frac{3 \\sqrt[5]{\\epsilon} \\sqrt{-10 - 2 \\sqrt{5}}}{400} - \\frac{3 \\sqrt[5]{\\epsilon} \\sqrt{-10 + 2 \\sqrt{5}}}{400} + \\frac{3 \\sqrt[5]{\\epsilon} \\sqrt{-50 + 10 \\sqrt{5}}}{400} - \\frac{1}{5} + \\frac{1}{4 \\sqrt[5]{\\epsilon}} + \\frac{\\sqrt{5}}{4 \\sqrt[5]{\\epsilon}} - \\frac{\\sqrt{- \\frac{25}{8} - \\frac{5 \\sqrt{5}}{8}}}{4 \\sqrt[5]{\\epsilon}} - \\frac{\\sqrt{- \\frac{5}{8} - \\frac{\\sqrt{5}}{8}}}{4 \\sqrt[5]{\\epsilon}} - \\frac{\\sqrt{- \\frac{5}{8} + \\frac{\\sqrt{5}}{8}}}{4 \\sqrt[5]{\\epsilon}} + \\frac{\\sqrt{- \\frac{25}{8} + \\frac{5 \\sqrt{5}}{8}}}{4 \\sqrt[5]{\\epsilon}}$"
      ],
      "text/plain": [
       "                                                                               ↪\n",
       "                                                                               ↪\n",
       "        2/5      2/5       2/5   ____________    2/5   _____________    2/5    ↪\n",
       "  7⋅√5⋅ε      7⋅ε      21⋅ε   ⋅╲╱ -10 - 2⋅√5    ε   ⋅╲╱ -50 - 10⋅√5    ε   ⋅╲╱ ↪\n",
       "- ───────── + ────── - ────────────────────── - ──────────────────── - ─────── ↪\n",
       "     250       250              1000                    500                    ↪\n",
       "                                                                               ↪\n",
       "\n",
       "↪                                                                              ↪\n",
       "↪                                                                              ↪\n",
       "↪ _____________      2/5   ____________        5 ___     5 ___     5 ___   ___ ↪\n",
       "↪  -50 + 10⋅√5    3⋅ε   ⋅╲╱ -10 + 2⋅√5    3⋅√5⋅╲╱ ε    3⋅╲╱ ε    3⋅╲╱ ε ⋅╲╱ -5 ↪\n",
       "↪ ───────────── + ───────────────────── - ────────── - ─────── - ───────────── ↪\n",
       "↪  400                    2000               100         100               400 ↪\n",
       "↪                                                                              ↪\n",
       "\n",
       "↪                                                                              ↪\n",
       "↪                                                                              ↪\n",
       "↪ __________     5 ___   ____________     5 ___   ____________     5 ___   ___ ↪\n",
       "↪ 0 - 10⋅√5    3⋅╲╱ ε ⋅╲╱ -10 - 2⋅√5    3⋅╲╱ ε ⋅╲╱ -10 + 2⋅√5    3⋅╲╱ ε ⋅╲╱ -5 ↪\n",
       "↪ ────────── - ────────────────────── - ────────────────────── + ───────────── ↪\n",
       "↪                       400                      400                       400 ↪\n",
       "↪                                                                              ↪\n",
       "\n",
       "↪                                          _____________       __________      ↪\n",
       "↪                                         ╱   25   5⋅√5       ╱   5   √5       ↪\n",
       "↪ __________                             ╱  - ── - ────      ╱  - ─ - ──       ↪\n",
       "↪ 0 + 10⋅√5    1      1        √5      ╲╱     8     8      ╲╱     8   8     ╲╱ ↪\n",
       "↪ ────────── - ─ + ─────── + ─────── - ───────────────── - ────────────── - ── ↪\n",
       "↪              5     5 ___     5 ___          5 ___             5 ___          ↪\n",
       "↪                  4⋅╲╱ ε    4⋅╲╱ ε         4⋅╲╱ ε            4⋅╲╱ ε           ↪\n",
       "\n",
       "↪   __________       _____________\n",
       "↪  ╱   5   √5       ╱   25   5⋅√5 \n",
       "↪ ╱  - ─ + ──      ╱  - ── + ──── \n",
       "↪      8   8     ╲╱     8     8   \n",
       "↪ ──────────── + ─────────────────\n",
       "↪    5 ___              5 ___     \n",
       "↪  4⋅╲╱ ε             4⋅╲╱ ε      "
      ]
     },
     "metadata": {},
     "output_type": "display_data"
    },
    {
     "data": {
      "text/latex": [
       "$\\displaystyle \\frac{7 \\epsilon^{\\frac{2}{5}}}{250} + \\frac{7 \\sqrt{5} \\epsilon^{\\frac{2}{5}}}{250} - \\frac{21 \\epsilon^{\\frac{2}{5}} \\sqrt{-10 + 2 \\sqrt{5}}}{1000} - \\frac{\\epsilon^{\\frac{2}{5}} \\sqrt{-50 - 10 \\sqrt{5}}}{400} - \\frac{3 \\epsilon^{\\frac{2}{5}} \\sqrt{-10 - 2 \\sqrt{5}}}{2000} + \\frac{\\epsilon^{\\frac{2}{5}} \\sqrt{-50 + 10 \\sqrt{5}}}{500} - \\frac{3 \\sqrt[5]{\\epsilon}}{100} + \\frac{3 \\sqrt{5} \\sqrt[5]{\\epsilon}}{100} - \\frac{3 \\sqrt[5]{\\epsilon} \\sqrt{-10 + 2 \\sqrt{5}}}{400} + \\frac{3 \\sqrt[5]{\\epsilon} \\sqrt{-10 - 2 \\sqrt{5}}}{400} + \\frac{3 \\sqrt[5]{\\epsilon} \\sqrt{-50 + 10 \\sqrt{5}}}{400} + \\frac{3 \\sqrt[5]{\\epsilon} \\sqrt{-50 - 10 \\sqrt{5}}}{400} - \\frac{1}{5} - \\frac{\\sqrt{5}}{4 \\sqrt[5]{\\epsilon}} + \\frac{1}{4 \\sqrt[5]{\\epsilon}} - \\frac{\\sqrt{- \\frac{5}{8} + \\frac{\\sqrt{5}}{8}}}{4 \\sqrt[5]{\\epsilon}} + \\frac{\\sqrt{- \\frac{5}{8} - \\frac{\\sqrt{5}}{8}}}{4 \\sqrt[5]{\\epsilon}} + \\frac{\\sqrt{- \\frac{25}{8} + \\frac{5 \\sqrt{5}}{8}}}{4 \\sqrt[5]{\\epsilon}} + \\frac{\\sqrt{- \\frac{25}{8} - \\frac{5 \\sqrt{5}}{8}}}{4 \\sqrt[5]{\\epsilon}}$"
      ],
      "text/plain": [
       "                                                                               ↪\n",
       "                                                                               ↪\n",
       "   2/5         2/5       2/5   ____________    2/5   _____________      2/5    ↪\n",
       "7⋅ε      7⋅√5⋅ε      21⋅ε   ⋅╲╱ -10 + 2⋅√5    ε   ⋅╲╱ -50 - 10⋅√5    3⋅ε   ⋅╲╱ ↪\n",
       "────── + ───────── - ────────────────────── - ──────────────────── - ───────── ↪\n",
       " 250        250               1000                    400                    2 ↪\n",
       "                                                                               ↪\n",
       "\n",
       "↪                                                                              ↪\n",
       "↪                                                                              ↪\n",
       "↪ ____________    2/5   _____________     5 ___        5 ___     5 ___   _____ ↪\n",
       "↪  -10 - 2⋅√5    ε   ⋅╲╱ -50 + 10⋅√5    3⋅╲╱ ε    3⋅√5⋅╲╱ ε    3⋅╲╱ ε ⋅╲╱ -10  ↪\n",
       "↪ ──────────── + ──────────────────── - ─────── + ────────── - ─────────────── ↪\n",
       "↪ 000                    500              100        100                400    ↪\n",
       "↪                                                                              ↪\n",
       "\n",
       "↪                                                                              ↪\n",
       "↪                                                                              ↪\n",
       "↪ _______     5 ___   ____________     5 ___   _____________     5 ___   _____ ↪\n",
       "↪ + 2⋅√5    3⋅╲╱ ε ⋅╲╱ -10 - 2⋅√5    3⋅╲╱ ε ⋅╲╱ -50 + 10⋅√5    3⋅╲╱ ε ⋅╲╱ -50  ↪\n",
       "↪ ─────── + ────────────────────── + ─────────────────────── + ─────────────── ↪\n",
       "↪                    400                       400                       400   ↪\n",
       "↪                                                                              ↪\n",
       "\n",
       "↪                                        __________       __________       ___ ↪\n",
       "↪                                       ╱   5   √5       ╱   5   √5       ╱    ↪\n",
       "↪ ________                             ╱  - ─ + ──      ╱  - ─ - ──      ╱  -  ↪\n",
       "↪ - 10⋅√5    1     √5         1      ╲╱     8   8     ╲╱     8   8     ╲╱      ↪\n",
       "↪ ──────── - ─ - ─────── + ─────── - ────────────── + ────────────── + ─────── ↪\n",
       "↪            5     5 ___     5 ___        5 ___            5 ___               ↪\n",
       "↪                4⋅╲╱ ε    4⋅╲╱ ε       4⋅╲╱ ε           4⋅╲╱ ε             4⋅ ↪\n",
       "\n",
       "↪ __________       _____________\n",
       "↪ 25   5⋅√5       ╱   25   5⋅√5 \n",
       "↪ ── + ────      ╱  - ── - ──── \n",
       "↪ 8     8      ╲╱     8     8   \n",
       "↪ ────────── + ─────────────────\n",
       "↪ 5 ___               5 ___     \n",
       "↪ ╲╱ ε              4⋅╲╱ ε      "
      ]
     },
     "metadata": {},
     "output_type": "display_data"
    }
   ],
   "source": [
    "scale = epsilon**sp.Rational(1,5)\n",
    "poly_singular_mod = (poly_singular.subs({x:y/scale})*scale).expand().powsimp()\n",
    "\n",
    "expansions = produceExpansions(poly_singular_mod,y,scale,4)\n",
    "for expansion in expansions:\n",
    "    expansion = (expansion/scale).expand().powsimp() #return to x\n",
    "    display(expansion)"
   ]
  },
  {
   "cell_type": "markdown",
   "metadata": {},
   "source": [
    "A few caveats to the above code are worth noting\n",
    "\n",
    "- The supplied algorithm of works when the leading order term of the expansion at scale is $O(1)$ with subdominant terms being integer powers of some $\\epsilon^\\alpha.$ While this is often true, it is not always, as will be discussed later.\n",
    "- After the expansion in $y$ is produced, it must be returned to an expansion in $x$, which is done in the commented line\n",
    "\n",
    "Another example to consider is $(1-\\epsilon)x^2 - 2x + 1 = 0.$ Here the unperturbed solution has a single, repeated root, whereas the singular perturbations splits that into two simple solutions. In this case, rescaling is not necessary; it suffices to consider a series of the form $x\\approx x_0 + x_1\\epsilon^{1/2} + x_2\\epsilon + O(\\epsilon^{3/2})$\n",
    "\n",
    "Since the leading order of both solutions is $1$ the code has been refactored to branch at the next step"
   ]
  },
  {
   "cell_type": "code",
   "execution_count": 30,
   "metadata": {},
   "outputs": [
    {
     "data": {
      "text/latex": [
       "$\\displaystyle \\left[ \\left\\{ x_{0} : 1, \\  x_{1} : -1, \\  x_{2} : 1, \\  x_{3} : -1, \\  x_{4} : 1\\right\\}, \\  \\left\\{ x_{0} : 1, \\  x_{1} : 1, \\  x_{2} : 1, \\  x_{3} : 1, \\  x_{4} : 1\\right\\}\\right]$"
      ],
      "text/plain": [
       "[{x₀: 1, x₁: -1, x₂: 1, x₃: -1, x₄: 1}, {x₀: 1, x₁: 1, x₂: 1, x₃: 1, x₄: 1}]"
      ]
     },
     "metadata": {},
     "output_type": "display_data"
    },
    {
     "data": {
      "text/latex": [
       "$\\displaystyle \\left[ - \\epsilon^{\\frac{3}{2}} - \\sqrt{\\epsilon} + \\epsilon^{2} + \\epsilon + 1, \\  \\epsilon^{\\frac{3}{2}} + \\sqrt{\\epsilon} + \\epsilon^{2} + \\epsilon + 1\\right]$"
      ],
      "text/plain": [
       "⎡   3/2         2           3/2         2        ⎤\n",
       "⎣- ε    - √ε + ε  + ε + 1, ε    + √ε + ε  + ε + 1⎦"
      ]
     },
     "metadata": {},
     "output_type": "display_data"
    }
   ],
   "source": [
    "poly_double = (1-epsilon)*x**2 - 2*x + 1\n",
    "\n",
    "N = 5\n",
    "scale = epsilon**sp.Rational(1,2)\n",
    "x_ = [sp.symbols(f'x_{i}') for i in range(N)]\n",
    "X = sum([scale**i * x_[i] for i in range(N)])\n",
    "poly_expand = sp.expand(poly_double.subs({x:X}))\n",
    "expansion_terms = poly_expand.collect(epsilon,evaluate=False)\n",
    "\n",
    "eqns = [expansion_terms[scale**n] for n in range(N+1)]\n",
    "#solve coefficients\n",
    "lead_soln = sp.solve(eqns[0],x_[0])[0]\n",
    "#display(sp.solve(eqns[1].subs(replacements),x_[1]))\n",
    "expansions = [{x_[0]:lead_soln, x_[1]:i} for i in sp.solve(eqns[2].subs(x_[0],lead_soln),x_[1])]\n",
    "for expansion in expansions:\n",
    "    for n in range(2,N):\n",
    "        expansion[x_[n]] = sp.solve(eqns[n+1].subs(expansion),x_[n])[0]\n",
    "\n",
    "display(expansions)\n",
    "#build out expansions     \n",
    "expansions = [X.subs(expansion) for expansion in expansions]\n",
    "display(expansions)\n"
   ]
  }
 ],
 "metadata": {
  "kernelspec": {
   "display_name": "Python 3",
   "language": "python",
   "name": "python3"
  },
  "language_info": {
   "codemirror_mode": {
    "name": "ipython",
    "version": 3
   },
   "file_extension": ".py",
   "mimetype": "text/x-python",
   "name": "python",
   "nbconvert_exporter": "python",
   "pygments_lexer": "ipython3",
   "version": "3.12.4"
  }
 },
 "nbformat": 4,
 "nbformat_minor": 2
}
