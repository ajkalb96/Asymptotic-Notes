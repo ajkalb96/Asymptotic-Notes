{
 "cells": [
  {
   "cell_type": "code",
   "execution_count": 1,
   "metadata": {},
   "outputs": [],
   "source": [
    "from sympy import *\n",
    "import matplotlib.pyplot as plt\n",
    "import numpy as np\n",
    "from IPython.display import display\n",
    "init_printing(use_latex='mathjax')"
   ]
  },
  {
   "cell_type": "markdown",
   "metadata": {},
   "source": [
    "# Asymptotic Expansion of Integrals\n",
    "\n",
    "We'll consider the following integral from Euler $$I(x) = \\int_0^\\infty \\frac{e^{-t}}{1+xt} dt, x\\geq 0.$$ \n",
    "\n",
    "This first batch of code will expand $(1+xt)^{-1},$ then perform the integration to produce a divergent series. You can compare the accuracy of the approximation to the integral itself with different values of `x_0,trunc`."
   ]
  },
  {
   "cell_type": "code",
   "execution_count": 2,
   "metadata": {},
   "outputs": [
    {
     "data": {
      "text/latex": [
       "$\\displaystyle 0.915633339397881$"
      ],
      "text/plain": [
       "0.915633339397881"
      ]
     },
     "metadata": {},
     "output_type": "display_data"
    },
    {
     "data": {
      "text/latex": [
       "$\\displaystyle 24 x^{4} - 6 x^{3} + 2 x^{2} - x + 1$"
      ],
      "text/plain": [
       "    4      3      2        \n",
       "24⋅x  - 6⋅x  + 2⋅x  - x + 1"
      ]
     },
     "metadata": {},
     "output_type": "display_data"
    },
    {
     "data": {
      "text/latex": [
       "$\\displaystyle 0.9164$"
      ],
      "text/plain": [
       "0.916400000000000"
      ]
     },
     "metadata": {},
     "output_type": "display_data"
    }
   ],
   "source": [
    "x_0 = 0.1\n",
    "trunc = 5\n",
    "x,t  = symbols('x t')\n",
    "Euler_Integral = lambda y: N(integrate(exp(-t)/(1+x*t),(t,0,oo)).subs({x:y}))\n",
    "display(Euler_Integral(x_0))\n",
    "\n",
    "J = integrate(exp(-t)*series(1/(1+x*t),t,x0=0,n=trunc),(t,0,oo))\n",
    "display(J)\n",
    "display(J.subs({x:x_0}))"
   ]
  },
  {
   "cell_type": "markdown",
   "metadata": {},
   "source": [
    "## Perturbed Gaussian Integrals\n",
    "\n",
    "Most of these methods are built upon the behavior of the Gaussian integral $\\int_{-\\infty}^\\infty e^{-ax^2} dx = \\frac1{\\sqrt{2\\pi a}},$ so we'll begin with a basic perturbation $\\int_{-\\infty}^\\infty e^{-ax^2 - \\epsilon x^4} dx$"
   ]
  },
  {
   "cell_type": "code",
   "execution_count": 3,
   "metadata": {},
   "outputs": [
    {
     "data": {
      "text/latex": [
       "$\\displaystyle 1.67408585556458$"
      ],
      "text/plain": [
       "1.67408585556458"
      ]
     },
     "metadata": {},
     "output_type": "display_data"
    },
    {
     "data": {
      "text/latex": [
       "$\\displaystyle \\left(1 - \\epsilon x^{4} + \\frac{\\epsilon^{2} x^{8}}{2} - \\frac{\\epsilon^{3} x^{12}}{6} + O\\left(\\epsilon^{4}\\right)\\right) e^{- a x^{2}}$"
      ],
      "text/plain": [
       "⎛            2  8    3  12        ⎞      2\n",
       "⎜       4   ε ⋅x    ε ⋅x      ⎛ 4⎞⎟  -a⋅x \n",
       "⎜1 - ε⋅x  + ───── - ────── + O⎝ε ⎠⎟⋅ℯ     \n",
       "⎝             2       6           ⎠       "
      ]
     },
     "metadata": {},
     "output_type": "display_data"
    },
    {
     "data": {
      "text/latex": [
       "$\\displaystyle 1.6496975744346$"
      ],
      "text/plain": [
       "1.64969757443460"
      ]
     },
     "metadata": {},
     "output_type": "display_data"
    }
   ],
   "source": [
    "a,x,epsilon = symbols('a x epsilon')\n",
    "a_act, eps_act = 1, 0.1\n",
    "trunc = 4\n",
    "#subs should happen first because sympy seems to do something with epsilon, \n",
    "#causing problems when epsilon is 0\n",
    "Gaussian_Integral = N(integrate(exp(-a*x**2-epsilon*x**4).subs({a:a_act,epsilon:eps_act}),(x,-oo,oo)))\n",
    "display(Gaussian_Integral)\n",
    "\n",
    "dropO = lambda s: sympify(str(s).replace('O','0 *'))\n",
    "J = exp(-a*x**2)*series(exp(-epsilon*x**4),epsilon,x0=0,n=trunc)\n",
    "display(J)\n",
    "J = N(integrate(dropO(J).subs({a:a_act,epsilon:eps_act}),(x,-oo,oo)))\n",
    "display(J)"
   ]
  },
  {
   "cell_type": "markdown",
   "metadata": {},
   "source": [
    "## Method of Stationary Phase\n",
    "\n",
    "A variation on this Gaussian idea is done with the Fresnel integral $$I(\\epsilon) = \\int_{-\\infty}^\\infty e^{it^2/\\epsilon} dt = e^{\\text{sgn}(\\epsilon)i\\pi/4}\\sqrt{2\\pi|\\epsilon|}$$\n",
    "\n",
    "From this we consider the general integral $$I(\\epsilon) = \\int_{-\\infty}^\\infty f(t)e^{i\\phi(t)/\\epsilon} dt.$$ The key to this analysis are the critical points $c$ where $\\phi'(c) = 0.$ \n",
    "as $\\epsilon\\to0,$ the exponential term becomes highly oscillatory, which results in cancellation **except** at the critical points. The expansion is a sum of the following terms at each critiical point\n",
    "$$I(\\epsilon)\\sim\\int f(c)\\exp\\frac{i}{\\epsilon}\\left(\\phi(c) + \\frac{\\phi''(c)}{2}(t-c)^2\\right)dt$$ \n",
    "$$\\sim f(c)e^{i\\phi(c)/\\epsilon}\\int \\exp\\left[\\frac{i\\phi''(c)}{2\\epsilon} s^2\\right]ds$$ \n",
    "$$\\sim f(c)e^{\\text{sgn}(\\phi''(c))i\\pi/4 + i\\phi(c)/\\epsilon}\\sqrt{\\frac{2\\pi\\epsilon}{|\\phi''(c)|}}$$\n",
    "\n",
    "We can generate the expansion with the following code"
   ]
  },
  {
   "cell_type": "code",
   "execution_count": 5,
   "metadata": {},
   "outputs": [
    {
     "data": {
      "text/latex": [
       "$\\displaystyle \\frac{\\sqrt{10} \\sqrt{\\pi} \\sqrt{\\epsilon} e^{\\frac{i \\left(- \\pi \\epsilon + 9\\right)}{4 \\epsilon}}}{2}$"
      ],
      "text/plain": [
       "           ⅈ⋅(-π⋅ε + 9)\n",
       "           ────────────\n",
       "               4⋅ε     \n",
       "√10⋅√π⋅√ε⋅ℯ            \n",
       "───────────────────────\n",
       "           2           "
      ]
     },
     "metadata": {},
     "output_type": "display_data"
    }
   ],
   "source": [
    "t,epsilon = symbols('t epsilon')\n",
    "f = t**2\n",
    "phi = -(t**2 - 1)*(t**2 - 4)\n",
    "\n",
    "def stationary_phase(phi,f,epsilon,t):\n",
    "    phi_t = phi.diff(t)\n",
    "    phi_tt = phi.diff(t,t)\n",
    "    critical_points = [_ for _ in solveset(phi_t,t)]\n",
    "    expansion = 0\n",
    "    for c in critical_points:\n",
    "        a = phi_tt.subs(t,c)\n",
    "        pc = phi.subs(t,c)\n",
    "        fc = f.subs(t,c)\n",
    "        expansion += fc*sqrt(2*pi*epsilon/abs(a))*exp(I*pc/epsilon + sign(a)*I*pi/4)\n",
    "    return expansion.simplify()\n",
    "display(stationary_phase(phi,f,epsilon,t))"
   ]
  },
  {
   "cell_type": "markdown",
   "metadata": {},
   "source": [
    "## Laplace's Method\n",
    "\n",
    "If we instead consider the integral $$I(\\epsilon) = \\int_{-\\infty}^\\infty f(t)e^{\\phi(t)/\\epsilon} dt.$$ As before, the terms contributed to the expansion comes out of the critical points. Since the exponent is real, this expansion **only works if there is a unique global maximum of $\\phi$.** If located at $x=c,$ we have that $\\phi''(c)\\leq 0$\n",
    "$$I(\\epsilon)\\sim\\int f(c)\\exp\\frac{1}{\\epsilon}\\left(\\phi(c) - \\frac{|\\phi''(c)|}{2}(t-c)^2\\right)dt$$ \n",
    "$$\\sim f(c)e^{\\phi(c)/\\epsilon}\\int \\exp\\left[-\\frac{|\\phi''(c)|}{2\\epsilon} s^2\\right]ds$$ \n",
    "$$\\sim f(c)e^{\\phi(c)/\\epsilon}\\sqrt{\\frac{2\\pi\\epsilon}{|\\phi''(c)|}}$$\n",
    "\n",
    "We can generate the expansion with the following code"
   ]
  },
  {
   "cell_type": "code",
   "execution_count": 6,
   "metadata": {},
   "outputs": [
    {
     "data": {
      "text/latex": [
       "$\\displaystyle \\frac{\\sqrt{\\pi} \\sqrt{\\epsilon} \\left(49 - 5 \\sqrt{73}\\right) e^{\\frac{73 \\sqrt{73} + 827}{512 \\epsilon}}}{8 \\sqrt{3 \\sqrt{73} + 73}}$"
      ],
      "text/plain": [
       "                    73⋅√73 + 827\n",
       "                    ────────────\n",
       "                       512⋅ε    \n",
       "√π⋅√ε⋅(49 - 5⋅√73)⋅ℯ            \n",
       "────────────────────────────────\n",
       "            ____________        \n",
       "        8⋅╲╱ 3⋅√73 + 73         "
      ]
     },
     "metadata": {},
     "output_type": "display_data"
    }
   ],
   "source": [
    "t,epsilon = symbols('t epsilon')\n",
    "f = t**2\n",
    "phi = -(t+1)*(t-1)**2*(t-2)\n",
    "\n",
    "def laplace_method(phi,f,epsilon,t):\n",
    "    phi_t = phi.diff(t)\n",
    "    phi_tt = phi.diff(t,t)\n",
    "    critical_points = [_ for _ in solveset(phi_t,t)]\n",
    "    c = critical_points[np.argmax([phi.subs(t,c) for c in critical_points])]\n",
    "    pc = phi.subs(t,c)\n",
    "    if limit(phi,t,oo) > pc or limit(phi,t,-oo) > pc:\n",
    "        raise Exception(\"Exponential term must have global maximum in domain\")\n",
    "    a = phi_tt.subs(t,c)\n",
    "    fc = f.subs(t,c)\n",
    "    expansion = fc*sqrt(2*pi*epsilon/abs(a))*exp(pc/epsilon)\n",
    "    return expansion.simplify()\n",
    "display(laplace_method(phi,f,epsilon,t))"
   ]
  },
  {
   "cell_type": "markdown",
   "metadata": {},
   "source": [
    "## Method of Steepest Descent\n",
    "\n",
    "The method of steepest descent approximates complex integrals of the form $$I(\\epsilon) = \\int_C f(z)e^{\\phi(z)/\\epsilon} dz$$ on some contour $C,$ which can be changed to some other contour $C'$ since the integrand is analytic. Thus we can deform the contour such that $\\text{Im}(\\phi)$ is constant, and thus factored out, then $$I(\\epsilon) = e^{i\\text{Im}(\\phi)/\\epsilon} = \\int_{C'} f(z)e^{\\text{Re}(\\phi)/\\epsilon} dz$$ is solved via Laplace's method.\n",
    "\n",
    "While an important tool to mention, there is not a nice way to perform such contour operations in SymPy."
   ]
  }
 ],
 "metadata": {
  "kernelspec": {
   "display_name": "Python 3",
   "language": "python",
   "name": "python3"
  },
  "language_info": {
   "codemirror_mode": {
    "name": "ipython",
    "version": 3
   },
   "file_extension": ".py",
   "mimetype": "text/x-python",
   "name": "python",
   "nbconvert_exporter": "python",
   "pygments_lexer": "ipython3",
   "version": "3.12.4"
  }
 },
 "nbformat": 4,
 "nbformat_minor": 2
}
