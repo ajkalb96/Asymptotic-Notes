{
 "cells": [
  {
   "cell_type": "code",
   "execution_count": 1,
   "metadata": {},
   "outputs": [],
   "source": [
    "from sympy import *\n",
    "from IPython.display import display\n",
    "init_printing(use_latex='mathjax')"
   ]
  },
  {
   "cell_type": "markdown",
   "metadata": {},
   "source": [
    "# WKB\n",
    "\n",
    "The WKB theory is a method for approximating a solution whose highest deriative is multiplied by a small parameter $\\epsilon,$ where the solution is assumed to take the form $y\\sim \\exp\\left[\\frac1\\delta\\sum_n\\delta^nS_n(x)\\right],$ in the limit $\\delta\\to0.$ The following code goes over a generic example of $$\\epsilon^2\\frac{d^2y}{dx^2} = Q(x)y,$$ and produces the expansion."
   ]
  },
  {
   "cell_type": "code",
   "execution_count": 78,
   "metadata": {},
   "outputs": [
    {
     "data": {
      "text/latex": [
       "$\\displaystyle \\left\\{ 1 : - Q{\\left(x \\right)} + \\left(\\frac{d}{d x} S_{0}{\\left(x \\right)}\\right)^{2}, \\  \\epsilon : 2 \\frac{d}{d x} S_{0}{\\left(x \\right)} \\frac{d}{d x} S_{1}{\\left(x \\right)} + \\frac{d^{2}}{d x^{2}} S_{0}{\\left(x \\right)}, \\  \\epsilon^{2} : \\left(\\frac{d}{d x} S_{1}{\\left(x \\right)}\\right)^{2} + \\frac{d^{2}}{d x^{2}} S_{1}{\\left(x \\right)}\\right\\}$"
      ],
      "text/plain": [
       "⎧                      2                              2                        ↪\n",
       "⎪           ⎛d        ⎞        d         d           d            2  ⎛d        ↪\n",
       "⎨1: -Q(x) + ⎜──(S₀(x))⎟ , ε: 2⋅──(S₀(x))⋅──(S₁(x)) + ───(S₀(x)), ε : ⎜──(S₁(x) ↪\n",
       "⎪           ⎝dx       ⎠        dx        dx            2             ⎝dx       ↪\n",
       "⎩                                                    dx                        ↪\n",
       "\n",
       "↪   2    2        ⎫\n",
       "↪  ⎞    d         ⎪\n",
       "↪ )⎟  + ───(S₁(x))⎬\n",
       "↪  ⎠      2       ⎪\n",
       "↪       dx        ⎭"
      ]
     },
     "metadata": {},
     "output_type": "display_data"
    }
   ],
   "source": [
    "x, epsilon, delta = symbols('x epsilon delta')\n",
    "Q = Function('Q')(x)\n",
    "N = 2\n",
    "S_ = [Function(f'S_{i}')(x) for i in range(N)]\n",
    "y = exp(sum([delta**(i-1) * S_[i] for i in range(N)]))\n",
    "ddx = lambda f: f.diff(x)\n",
    "eqn = epsilon**2*ddx(ddx(y)) - Q*y\n",
    "eqn = (eqn/y).expand()\n",
    "eqn = eqn.subs(delta,epsilon).collect(epsilon,evaluate=False)\n",
    "display(eqn)"
   ]
  },
  {
   "cell_type": "markdown",
   "metadata": {},
   "source": [
    "From this, the most natural balance to make is to set $\\delta =\\epsilon,$ which has been already done.\n",
    "\n",
    "The first equation that must be solved is the eikonal equation $S_0' = Q$"
   ]
  },
  {
   "cell_type": "code",
   "execution_count": 79,
   "metadata": {},
   "outputs": [
    {
     "data": {
      "text/latex": [
       "$\\displaystyle \\frac{e^{\\frac{C_{1} + \\epsilon k_{1} - \\int \\sqrt{Q{\\left(x \\right)}}\\, dx}{\\epsilon}}}{\\sqrt[4]{Q{\\left(x \\right)}}}$"
      ],
      "text/plain": [
       "             ⌠            \n",
       "             ⎮   ______   \n",
       " C₁ + ε⋅k₁ - ⎮ ╲╱ Q(x)  dx\n",
       "             ⌡            \n",
       " ─────────────────────────\n",
       "             ε            \n",
       "ℯ                         \n",
       "──────────────────────────\n",
       "         4 ______         \n",
       "         ╲╱ Q(x)          "
      ]
     },
     "metadata": {},
     "output_type": "display_data"
    },
    {
     "data": {
      "text/latex": [
       "$\\displaystyle \\frac{e^{\\frac{C_{1} + \\epsilon k_{1} + \\int \\sqrt{Q{\\left(x \\right)}}\\, dx}{\\epsilon}}}{\\sqrt[4]{Q{\\left(x \\right)}}}$"
      ],
      "text/plain": [
       "             ⌠            \n",
       "             ⎮   ______   \n",
       " C₁ + ε⋅k₁ + ⎮ ╲╱ Q(x)  dx\n",
       "             ⌡            \n",
       " ─────────────────────────\n",
       "             ε            \n",
       "ℯ                         \n",
       "──────────────────────────\n",
       "         4 ______         \n",
       "         ╲╱ Q(x)          "
      ]
     },
     "metadata": {},
     "output_type": "display_data"
    },
    {
     "data": {
      "text/latex": [
       "$\\displaystyle \\left[ \\left\\{ \\delta : \\epsilon, \\  S_{0}{\\left(x \\right)} : C_{1} - \\int \\sqrt{Q{\\left(x \\right)}}\\, dx, \\  S_{1}{\\left(x \\right)} : k_{1} - \\frac{\\log{\\left(Q{\\left(x \\right)} \\right)}}{4}\\right\\}, \\  \\left\\{ \\delta : \\epsilon, \\  S_{0}{\\left(x \\right)} : C_{1} + \\int \\sqrt{Q{\\left(x \\right)}}\\, dx, \\  S_{1}{\\left(x \\right)} : k_{1} - \\frac{\\log{\\left(Q{\\left(x \\right)} \\right)}}{4}\\right\\}\\right]$"
      ],
      "text/plain": [
       "⎡⎧                  ⌠                                   ⎫  ⎧                   ↪\n",
       "⎢⎪                  ⎮   ______                 log(Q(x))⎪  ⎪                   ↪\n",
       "⎢⎨δ: ε, S₀(x): C₁ - ⎮ ╲╱ Q(x)  dx, S₁(x): k₁ - ─────────⎬, ⎨δ: ε, S₀(x): C₁ +  ↪\n",
       "⎢⎪                  ⌡                              4    ⎪  ⎪                   ↪\n",
       "⎣⎩                                                      ⎭  ⎩                   ↪\n",
       "\n",
       "↪ ⌠                                   ⎫⎤\n",
       "↪ ⎮   ______                 log(Q(x))⎪⎥\n",
       "↪ ⎮ ╲╱ Q(x)  dx, S₁(x): k₁ - ─────────⎬⎥\n",
       "↪ ⌡                              4    ⎪⎥\n",
       "↪                                     ⎭⎦"
      ]
     },
     "metadata": {},
     "output_type": "display_data"
    }
   ],
   "source": [
    "expansions = []\n",
    "x0, y0 = 0, 0\n",
    "#Solve eikonal equation\n",
    "solns = dsolve(eqn[1],S_[0])\n",
    "for s in solns:\n",
    "    expansions.append({s.lhs:s.rhs,delta:epsilon})\n",
    "#Solve first order equation\n",
    "for s in expansions:\n",
    "    soln = dsolve(eqn[epsilon].subs(s),S_[1])\n",
    "    s[soln.lhs] = soln.rhs.subs(Symbol('C1'),Symbol('k_1'))\n",
    "    display(y.subs(s).simplify())\n",
    "\n",
    "display(expansions)"
   ]
  },
  {
   "cell_type": "code",
   "execution_count": null,
   "metadata": {},
   "outputs": [],
   "source": []
  }
 ],
 "metadata": {
  "kernelspec": {
   "display_name": "Python 3",
   "language": "python",
   "name": "python3"
  },
  "language_info": {
   "codemirror_mode": {
    "name": "ipython",
    "version": 3
   },
   "file_extension": ".py",
   "mimetype": "text/x-python",
   "name": "python",
   "nbconvert_exporter": "python",
   "pygments_lexer": "ipython3",
   "version": "3.12.4"
  }
 },
 "nbformat": 4,
 "nbformat_minor": 2
}
