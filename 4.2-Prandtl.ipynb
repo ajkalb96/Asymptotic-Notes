{
 "cells": [
  {
   "cell_type": "code",
   "execution_count": 39,
   "metadata": {},
   "outputs": [],
   "source": [
    "from sympy import *\n",
    "import matplotlib.pyplot as plt\n",
    "import numpy as np\n",
    "from IPython.display import display\n",
    "init_printing(use_latex='mathjax')\n",
    "\n",
    "def clean(expr):\n",
    "    funcs = expr.atoms(Function)\n",
    "    reps = {}\n",
    "    for f in funcs:\n",
    "        reps[f] = Symbol(f.name)\n",
    "    return expr.subs(reps)\n",
    "\n",
    "def clean_dict(d):\n",
    "    return {k:clean(v) for k,v in d.items()}"
   ]
  },
  {
   "cell_type": "markdown",
   "metadata": {},
   "source": [
    "# Asymptotic Models\n",
    "\n",
    "One thing a reader may have noticed if they have been running the code throughout is that it can take Sympy some time to solve our equations analytically, which is worrying considering that the equations given to Sympy to solve in these examples are quite simple, and could be done with relative ease by the mathematician. And this is true. But in the physical sciences, asmyptotics can be used to rigorously simplify models, and having a tool to automate those calculations allows the end user to spend time validating the model. This chapter will go over some examples of how Sympy can be used to derive these models"
   ]
  },
  {
   "cell_type": "markdown",
   "metadata": {},
   "source": [
    "## Prandtl Boundary Layer Theory\n",
    "\n",
    "This work on weakly viscous fluids near a boundary from 1905 is the original singular perturbation problem that can be treated by MMAE.\n",
    "\n",
    "We begin with the non-dimensional, incompressible, two-dimensional Navier-Stokes equations $$u_t + uu_x + vu_y + p_x = \\epsilon(u_{xx}+u_{yy}), \\\\ v_t + uv_x + vv_y + p_y = \\epsilon(v_{xx}+v_{yy}), \\\\ u_x+v_y = 0,$$\n",
    "where $\\epsilon$ is the inverse Reynold's number, $u,v$ are the velocities in the $x,y$ directions, and $p$ is the pressure. The $\\epsilon = 0$ case are known as the Euler equations. Since both are first order in time, they can both take the same initial conditions $u(x,y,0) = u_0(x,y), v(x,y,0) = v_0(x,y),$ and no initial condition is needed for the pressure. However, since the Euler and NS equations have different orders of spatial derivatives, different boundary conditions are required. The Euler equations require the no-flow condition $\\langle u,v\\rangle\\cdot\\mathbf{n}=0$ for normal vector $\\mathbf{n},$ which negates velocities flowing out from a region. Tthe Navier Stokes equations require the no-slip boundary conditions $\\langle u,v\\rangle = 0,$ negating both the tangential and normal velocities on the boundary.\n",
    "\n",
    "In particular, we will consider a flat boundary at $y=0$ (the boundary layer is thin enough that the equations would not change for a smooth curved boundary).\n",
    "\n",
    "The leading order outer solution becomes from the Euler equations obtained when $\\epsilon = 0,$ which is located in $y>0$. We will denote the outer solution using lowercased variables. \n",
    "\n",
    "For the outer solution, we will use uppercased variables, which are unscaled except $Y = \\frac y\\delta, v = \\eta V.$ The following code will automate the generation of the scaled equations from our definitions. \n",
    "\n",
    "Among the code are several filters streamline the process of substitution, one of which (scaling) is set to a null dictionary, with the actual scaling commented out. Looking at the expression, one arrives at the dominant balance $\\eta = \\delta = \\sqrt{\\epsilon}$. By uncommenting the dictionary scaling, and the collect call on the inner line, one will arrive at the leading order outer and inner equations."
   ]
  },
  {
   "cell_type": "code",
   "execution_count": 40,
   "metadata": {},
   "outputs": [
    {
     "data": {
      "text/latex": [
       "$\\displaystyle \\left\\{ 1 : U \\frac{d}{d X} U + V \\frac{d}{d Y} U + \\frac{d}{d X} P + \\frac{d}{d T} U - \\frac{d^{2}}{d Y^{2}} U, \\  \\epsilon : - \\frac{d^{2}}{d X^{2}} U\\right\\}$"
      ],
      "text/plain": [
       "⎧                                        2           2    ⎫\n",
       "⎪     d         d       d       d       d           d     ⎪\n",
       "⎨1: U⋅──(U) + V⋅──(U) + ──(P) + ──(U) - ───(U), ε: -───(U)⎬\n",
       "⎪     dX        dY      dX      dT        2           2   ⎪\n",
       "⎩                                       dY          dX    ⎭"
      ]
     },
     "metadata": {},
     "output_type": "display_data"
    },
    {
     "data": {
      "text/latex": [
       "$\\displaystyle \\left\\{ 1 : u \\frac{d}{d x} u + v \\frac{d}{d y} u + \\frac{d}{d x} p + \\frac{d}{d t} u, \\  \\epsilon : - \\frac{d^{2}}{d x^{2}} u - \\frac{d^{2}}{d y^{2}} u\\right\\}$"
      ],
      "text/plain": [
       "⎧                                            2        2    ⎫\n",
       "⎪     d         d       d       d           d        d     ⎪\n",
       "⎨1: u⋅──(u) + v⋅──(u) + ──(p) + ──(u), ε: - ───(u) - ───(u)⎬\n",
       "⎪     dx        dy      dx      dt            2        2   ⎪\n",
       "⎩                                           dx       dy    ⎭"
      ]
     },
     "metadata": {},
     "output_type": "display_data"
    },
    {
     "data": {
      "text/latex": [
       "$\\displaystyle \\left\\{ \\frac{1}{\\sqrt{\\epsilon}} : \\frac{d}{d Y} P, \\  \\sqrt{\\epsilon} : U \\frac{d}{d X} V + V \\frac{d}{d Y} V + \\frac{d}{d T} V - \\frac{d^{2}}{d Y^{2}} V, \\  \\epsilon^{\\frac{3}{2}} : - \\frac{d^{2}}{d X^{2}} V\\right\\}$"
      ],
      "text/plain": [
       "⎧                                            2              2    ⎫\n",
       "⎪1   d            d         d       d       d        3/2   d     ⎪\n",
       "⎨──: ──(P), √ε: U⋅──(V) + V⋅──(V) + ──(V) - ───(V), ε   : -───(V)⎬\n",
       "⎪√ε  dY           dX        dY      dT        2              2   ⎪\n",
       "⎩                                           dY             dX    ⎭"
      ]
     },
     "metadata": {},
     "output_type": "display_data"
    },
    {
     "data": {
      "text/latex": [
       "$\\displaystyle \\left\\{ 1 : u \\frac{d}{d x} v + v \\frac{d}{d y} v + \\frac{d}{d y} p + \\frac{d}{d t} v, \\  \\epsilon : - \\frac{d^{2}}{d x^{2}} v - \\frac{d^{2}}{d y^{2}} v\\right\\}$"
      ],
      "text/plain": [
       "⎧                                            2        2    ⎫\n",
       "⎪     d         d       d       d           d        d     ⎪\n",
       "⎨1: u⋅──(v) + v⋅──(v) + ──(p) + ──(v), ε: - ───(v) - ───(v)⎬\n",
       "⎪     dx        dy      dy      dt            2        2   ⎪\n",
       "⎩                                           dx       dy    ⎭"
      ]
     },
     "metadata": {},
     "output_type": "display_data"
    },
    {
     "data": {
      "text/latex": [
       "$\\displaystyle \\left\\{ 1 : \\frac{d}{d X} U + \\frac{d}{d Y} V\\right\\}$"
      ],
      "text/plain": [
       "⎧   d       d    ⎫\n",
       "⎨1: ──(U) + ──(V)⎬\n",
       "⎩   dX      dY   ⎭"
      ]
     },
     "metadata": {},
     "output_type": "display_data"
    },
    {
     "data": {
      "text/latex": [
       "$\\displaystyle \\left\\{ 1 : \\frac{d}{d x} u + \\frac{d}{d y} v\\right\\}$"
      ],
      "text/plain": [
       "⎧   d       d    ⎫\n",
       "⎨1: ──(u) + ──(v)⎬\n",
       "⎩   dx      dy   ⎭"
      ]
     },
     "metadata": {},
     "output_type": "display_data"
    }
   ],
   "source": [
    "epsilon = symbols('epsilon')\n",
    "x, y, t = symbols('x y t')\n",
    "X, Y, T = symbols('X Y T')\n",
    "\n",
    "scales = symbols('eta delta')\n",
    "eps12 = epsilon**Rational(1,2)\n",
    "scaling = {scales[0]:eps12,scales[1]:eps12}\n",
    "\n",
    "outer_f = {c:Function(c)(x,y,t) for c in ['u','p','v']}\n",
    "inner_f = {c:Function(c.upper())(X,Y,T) for c in ['u','p','v']}\n",
    "s_filter = lambda d: {v:0 for v in d.values()}\n",
    "\n",
    "v = outer_f['v'] + scales[0]*inner_f['v']\n",
    "u = outer_f['u'] + inner_f['u']\n",
    "p = outer_f['p'] + inner_f['p']\n",
    "\n",
    "ddy = lambda f: f.diff(y) + f.diff(Y)/scales[1]\n",
    "ddx = lambda f: f.diff(x) + f.diff(X)\n",
    "ddt = lambda f: f.diff(t) + f.diff(T)\n",
    "\n",
    "eqns = []\n",
    "eqns.append(ddt(u) + u*ddx(u) + v*ddy(u) + ddx(p) - epsilon*(ddx(ddx(u)) + ddy(ddy(u))))\n",
    "eqns.append(ddt(v) + u*ddx(v) + v*ddy(v) + ddy(p) - epsilon*(ddx(ddx(v)) + ddy(ddy(v))))\n",
    "eqns.append(ddx(u) + ddy(v))\n",
    "\n",
    "for eqn in eqns:\n",
    "    eqn = eqn.expand()\n",
    "    outer = eqn.subs(s_filter(outer_f)|scaling).simplify().collect(epsilon,evaluate=False)\n",
    "    display(clean_dict(outer))\n",
    "    inner = eqn.subs(s_filter(inner_f)|scaling).simplify().collect(epsilon,evaluate=False)\n",
    "    display(clean_dict(inner))"
   ]
  },
  {
   "cell_type": "markdown",
   "metadata": {},
   "source": [
    "From examining and matching the leading order equations, we are able to build out the rest of the analysis. Since the inner boundary layer solution as $Y\\to\\infty$ must match the outer Euler solution as $y\\to0$ we get $U(X,Y,T)\\to U^*(X,T):=u(X,0,T), P(X,T) = P^*(X,T):= P(X,0,T)$ (Note that $P_Y=0$ makes the latter equality). Since this operates at $y=0, v=0,$ thus we get the compatibility relation $$U^*_T + U^*U^*_X +P^*_X=0.$$ From incompressibility, we get both that $$V(X,Y,T)\\sim U_X^*(X,T)Y\\text{ as }Y\\to\\infty$$ $$v(x,y,t)\\sim v_y(x,0,t)y = u_x(x,0,t)y \\text{ as }y\\to0.$$ As such, we do not require matching conditions on $V.$ We also match the intial data to the inner layer to get $U(X,Y,0) = u_0(X,Y).$ For steady flow with $U>0$, this reduces our equations to $$UU_X - U^*U^*_X + VU_Y = U_{YY}$$ $$U_X+V_Y = 0$$ $$U(X,Y)\\to U^*(X) \\text{ as } Y\\to\\infty$$ $$U(X,Y)\\sim U_0(Y)$$"
   ]
  }
 ],
 "metadata": {
  "kernelspec": {
   "display_name": "Python 3",
   "language": "python",
   "name": "python3"
  },
  "language_info": {
   "codemirror_mode": {
    "name": "ipython",
    "version": 3
   },
   "file_extension": ".py",
   "mimetype": "text/x-python",
   "name": "python",
   "nbconvert_exporter": "python",
   "pygments_lexer": "ipython3",
   "version": "3.12.4"
  }
 },
 "nbformat": 4,
 "nbformat_minor": 2
}
