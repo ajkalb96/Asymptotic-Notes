{
 "cells": [
  {
   "cell_type": "code",
   "execution_count": 1,
   "metadata": {},
   "outputs": [],
   "source": [
    "from sympy import *\n",
    "import matplotlib.pyplot as plt\n",
    "import numpy as np\n",
    "from IPython.display import display\n",
    "init_printing(use_latex='mathjax')\n",
    "\n",
    "def clean(expr):\n",
    "    if isinstance(expr,dict):\n",
    "        return {k:clean(v) for k,v in expr.items()}\n",
    "    elif isinstance(expr,list):\n",
    "        return [clean(l) for l in expr]\n",
    "    funcs = expr.atoms(Function)\n",
    "    reps = {}\n",
    "    for f in funcs:\n",
    "        reps[f] = Symbol(f.name)\n",
    "    return expr.subs(reps)\n",
    "\n",
    "dropO = lambda s: sympify(str(s).replace('O','0 *'))\n"
   ]
  },
  {
   "cell_type": "markdown",
   "metadata": {},
   "source": [
    "# Asymptotic Models\n",
    "\n",
    "One thing a reader may have noticed if they have been running the code throughout is that it can take Sympy some time to solve our equations analytically, which is worrying considering that the equations given to Sympy to solve in these examples are quite simple, and could be done with relative ease by the mathematician. And this is true. But in the physical sciences, asmyptotics can be used to rigorously simplify models, and having a tool to automate those calculations allows the end user to spend time validating the model. This chapter will go over some examples of how Sympy can be used to derive these models"
   ]
  },
  {
   "cell_type": "markdown",
   "metadata": {},
   "source": [
    "## Prandtl Boundary Layer Theory\n",
    "\n",
    "This work on weakly viscous fluids near a boundary from 1905 is the original singular perturbation problem that can be treated by MMAE.\n",
    "\n",
    "We begin with the non-dimensional, incompressible, two-dimensional Navier-Stokes equations $$u_t + uu_x + vu_y + p_x = \\epsilon(u_{xx}+u_{yy}), \\\\ v_t + uv_x + vv_y + p_y = \\epsilon(v_{xx}+v_{yy}), \\\\ u_x+v_y = 0,$$\n",
    "where $\\epsilon$ is the inverse Reynold's number, $u,v$ are the velocities in the $x,y$ directions, and $p$ is the pressure. The $\\epsilon = 0$ case are known as the Euler equations. Since both are first order in time, they can both take the same initial conditions $u(x,y,0) = u_0(x,y), v(x,y,0) = v_0(x,y),$ and no initial condition is needed for the pressure. However, since the Euler and NS equations have different orders of spatial derivatives, different boundary conditions are required. The Euler equations require the no-flow condition $\\langle u,v\\rangle\\cdot\\mathbf{n}=0$ for normal vector $\\mathbf{n},$ which negates velocities flowing out from a region. The Navier Stokes equations require the no-slip boundary conditions $\\langle u,v\\rangle = 0,$ negating both the tangential and normal velocities on the boundary.\n",
    "\n",
    "In particular, we will consider a flat boundary at $y=0$ (the boundary layer is thin enough that the equations would not change for a smooth curved boundary).\n",
    "\n",
    "The leading order outer solution becomes from the Euler equations obtained when $\\epsilon = 0,$ which is located in $y>0$. We will denote the outer solution using lowercased variables. \n",
    "\n",
    "For the inner solution, we will use uppercased variables, which are unscaled except $Y = \\frac y\\delta, v = \\gamma V.$ The following code will automate the generation of the scaled equations from our definitions. The leading order are the Prandtl boundary layer equations, but in code they are just the Prandtl equations.\n",
    "\n",
    "Among the code are several filters streamline the process of substitution, one of which `scaling` is set to a null dictionary, with the actual scaling commented out. Looking at the expression, one arrives at the dominant balance $\\gamma = \\delta = \\sqrt{\\epsilon}$. By uncommenting the dictionary `scaling`, and the collect call on the inner line, one will arrive at the leading order outer and inner equations."
   ]
  },
  {
   "cell_type": "code",
   "execution_count": 2,
   "metadata": {},
   "outputs": [
    {
     "data": {
      "text/latex": [
       "$\\displaystyle \\left\\{ 1 : u \\frac{d}{d x} u + v \\frac{d}{d y} u + \\frac{d}{d x} p + \\frac{d}{d t} u, \\  \\epsilon : - \\nu \\frac{d^{2}}{d x^{2}} u - \\nu \\frac{d^{2}}{d y^{2}} u\\right\\}$"
      ],
      "text/plain": [
       "⎧                                              2          2    ⎫\n",
       "⎪     d         d       d       d             d          d     ⎪\n",
       "⎨1: u⋅──(u) + v⋅──(u) + ──(p) + ──(u), ε: - ν⋅───(u) - ν⋅───(u)⎬\n",
       "⎪     dx        dy      dx      dt              2          2   ⎪\n",
       "⎩                                             dx         dy    ⎭"
      ]
     },
     "metadata": {},
     "output_type": "display_data"
    },
    {
     "data": {
      "text/latex": [
       "$\\displaystyle \\left\\{ 1 : u \\frac{d}{d x} v + v \\frac{d}{d y} v + \\frac{d}{d y} p + \\frac{d}{d t} v, \\  \\epsilon : - \\nu \\frac{d^{2}}{d x^{2}} v - \\nu \\frac{d^{2}}{d y^{2}} v\\right\\}$"
      ],
      "text/plain": [
       "⎧                                              2          2    ⎫\n",
       "⎪     d         d       d       d             d          d     ⎪\n",
       "⎨1: u⋅──(v) + v⋅──(v) + ──(p) + ──(v), ε: - ν⋅───(v) - ν⋅───(v)⎬\n",
       "⎪     dx        dy      dy      dt              2          2   ⎪\n",
       "⎩                                             dx         dy    ⎭"
      ]
     },
     "metadata": {},
     "output_type": "display_data"
    },
    {
     "data": {
      "text/latex": [
       "$\\displaystyle \\left\\{ 1 : \\frac{d}{d x} u + \\frac{d}{d y} v\\right\\}$"
      ],
      "text/plain": [
       "⎧   d       d    ⎫\n",
       "⎨1: ──(u) + ──(v)⎬\n",
       "⎩   dx      dy   ⎭"
      ]
     },
     "metadata": {},
     "output_type": "display_data"
    },
    {
     "data": {
      "text/latex": [
       "$\\displaystyle \\left\\{ 1 : U \\frac{d}{d X} U + V \\frac{d}{d Y} U - \\nu \\frac{d^{2}}{d Y^{2}} U + \\frac{d}{d X} P + \\frac{d}{d T} U, \\  \\epsilon : - \\nu \\frac{d^{2}}{d X^{2}} U\\right\\}$"
      ],
      "text/plain": [
       "⎧                          2                             2    ⎫\n",
       "⎪     d         d         d        d       d            d     ⎪\n",
       "⎨1: U⋅──(U) + V⋅──(U) - ν⋅───(U) + ──(P) + ──(U), ε: -ν⋅───(U)⎬\n",
       "⎪     dX        dY          2      dX      dT             2   ⎪\n",
       "⎩                         dY                            dX    ⎭"
      ]
     },
     "metadata": {},
     "output_type": "display_data"
    },
    {
     "data": {
      "text/latex": [
       "$\\displaystyle \\left\\{ \\frac{1}{\\sqrt{\\epsilon}} : \\frac{d}{d Y} P, \\  \\sqrt{\\epsilon} : U \\frac{d}{d X} V + V \\frac{d}{d Y} V - \\nu \\frac{d^{2}}{d Y^{2}} V + \\frac{d}{d T} V, \\  \\epsilon^{\\frac{3}{2}} : - \\nu \\frac{d^{2}}{d X^{2}} V\\right\\}$"
      ],
      "text/plain": [
       "⎧                                      2                        2    ⎫\n",
       "⎪1   d            d         d         d        d       3/2     d     ⎪\n",
       "⎨──: ──(P), √ε: U⋅──(V) + V⋅──(V) - ν⋅───(V) + ──(V), ε   : -ν⋅───(V)⎬\n",
       "⎪√ε  dY           dX        dY          2      dT                2   ⎪\n",
       "⎩                                     dY                       dX    ⎭"
      ]
     },
     "metadata": {},
     "output_type": "display_data"
    },
    {
     "data": {
      "text/latex": [
       "$\\displaystyle \\left\\{ 1 : \\frac{d}{d X} U + \\frac{d}{d Y} V\\right\\}$"
      ],
      "text/plain": [
       "⎧   d       d    ⎫\n",
       "⎨1: ──(U) + ──(V)⎬\n",
       "⎩   dX      dY   ⎭"
      ]
     },
     "metadata": {},
     "output_type": "display_data"
    }
   ],
   "source": [
    "epsilon, nu = symbols('epsilon nu',real=True,positive=True)\n",
    "x, y, t = symbols('x y t')\n",
    "X, Y, T = symbols('X Y T',real=True,positive=True)\n",
    "\n",
    "scales = symbols('delta0:2')\n",
    "eps12 = epsilon**Rational(1,2)\n",
    "scaling = {scales[0]:eps12,scales[1]:eps12}\n",
    "\n",
    "outer_f = {c:Function(c)(x,y,t) for c in ['u','p','v']}\n",
    "inner_f = {c:Function(c.upper())(X,Y,T) for c in ['u','p','v']}\n",
    "s_filter = lambda d: {v:0 for v in d.values()}\n",
    "\n",
    "v = outer_f['v'] + scales[0]*inner_f['v']\n",
    "u = outer_f['u'] + inner_f['u']\n",
    "p = outer_f['p'] + inner_f['p']\n",
    "\n",
    "ddy = lambda f: f.diff(y) + f.diff(Y)/scales[1]\n",
    "ddx = lambda f: f.diff(x) + f.diff(X)\n",
    "ddt = lambda f: f.diff(t) + f.diff(T)\n",
    "\n",
    "ns_eqns = {}\n",
    "ns_eqns['xmom'] = ddt(u) + u*ddx(u) + v*ddy(u) + ddx(p) - epsilon*nu*(ddx(ddx(u)) + ddy(ddy(u)))\n",
    "ns_eqns['ymom'] = ddt(v) + u*ddx(v) + v*ddy(v) + ddy(p) - epsilon*nu*(ddx(ddx(v)) + ddy(ddy(v)))\n",
    "ns_eqns['div'] = ddx(u) + ddy(v)\n",
    "\n",
    "euler_eqns = {k:eqn.subs(s_filter(inner_f)|scaling) \\\n",
    "        .expand().simplify() \\\n",
    "        .collect(epsilon,evaluate=False) \\\n",
    "        for k, eqn in ns_eqns.items()}\n",
    "for eqn in euler_eqns.values():\n",
    "    display(clean(eqn))\n",
    "\n",
    "prandtl_eqns = {k:eqn.subs(s_filter(outer_f)|scaling) \\\n",
    "        .expand().simplify() \\\n",
    "        .collect(epsilon,evaluate=False) \\\n",
    "        for k, eqn in ns_eqns.items()}\n",
    "for eqn in prandtl_eqns.values():\n",
    "    display(clean(eqn))\n",
    "\n",
    "#reduce to the leading order equations\n",
    "for k,val in {'xmom':1,'ymom':1/eps12,'div':1}.items():\n",
    "    prandtl_eqns[k] = prandtl_eqns[k][val]"
   ]
  },
  {
   "cell_type": "markdown",
   "metadata": {},
   "source": [
    "This scaling demonstrates the different dynamics away from and at the boundary layer respectively. \n",
    "\n",
    "For our continued analysis, we will not need the Euler equations. A number of similarity solutions to the Prandtl equations have been bound, which means that th solutions have the same structure up to some scaling factors, reducing this system of PDEs to simpler nonlinear ODEs. For our purpose, we will only examine one of these, the\n",
    "\n",
    "## Blasius boundary layer\n",
    "\n",
    "The Blasius boundary layer makes to assumptions to the Prandtl equations:\n",
    "- $\\frac{d}{dT} = 0$, or the equations are *steady* (true for the Prandtl equations)\n",
    "- $\\frac{dP}{dX} = 0$, or the pressure does not change parallel to the wall\n",
    "\n",
    "In which case, the Prandtl $x$-momentum is invariant under the transformation $x\\to c^2x, y\\to cy, u\\to u, v\\to \\frac vc,$ for some $c>0.$"
   ]
  },
  {
   "cell_type": "code",
   "execution_count": 3,
   "metadata": {},
   "outputs": [
    {
     "data": {
      "text/latex": [
       "$\\displaystyle \\left[ U \\frac{d}{d X} U + V \\frac{d}{d Y} U - \\nu \\frac{d^{2}}{d Y^{2}} U, \\  \\frac{d}{d Y} P, \\  \\frac{d}{d X} U + \\frac{d}{d Y} V\\right]$"
      ],
      "text/plain": [
       "⎡                       2                          ⎤\n",
       "⎢  d         d         d       d      d       d    ⎥\n",
       "⎢U⋅──(U) + V⋅──(U) - ν⋅───(U), ──(P), ──(U) + ──(V)⎥\n",
       "⎢  dX        dY          2     dY     dX      dY   ⎥\n",
       "⎣                      dY                          ⎦"
      ]
     },
     "metadata": {},
     "output_type": "display_data"
    }
   ],
   "source": [
    "#make blasius assumptions\n",
    "blasius_subs = {inner_f['p'].diff(X):0,inner_f['u'].diff(T):0} \n",
    "steady_prandtl_eqns = {k:v.subs(blasius_subs).simplify() for k,v in prandtl_eqns.items()}\n",
    "display(clean(list(steady_prandtl_eqns.values())))"
   ]
  },
  {
   "cell_type": "markdown",
   "metadata": {},
   "source": [
    "One simplification that we will use is that of the *streamfunction* $\\psi,$ which is setup to define $U = \\psi_Y, v = -\\psi_X,$ automatically ensuring $U_X + V_Y = 0.$ With this in mind, he introduced some self-similar variables $$\\psi := \\sqrt{\\nu U_\\infty X}f(\\eta),\\\\\\eta := Y\\sqrt{U_\\infty/\\nu X},$$ where $U_\\infty:=\\lim_{X\\to\\infty}U$ is the freestream velocity, where $f'$ defines a streamfunction profile. \n",
    "\n",
    "Taking these variables and makin the appropriate substitutions, we arrive at the Blasius equation"
   ]
  },
  {
   "cell_type": "code",
   "execution_count": 4,
   "metadata": {},
   "outputs": [
    {
     "data": {
      "text/latex": [
       "$\\displaystyle f{\\left(\\eta \\right)} \\frac{d^{2}}{d \\eta^{2}} f{\\left(\\eta \\right)} + 2 \\frac{d^{3}}{d \\eta^{3}} f{\\left(\\eta \\right)}$"
      ],
      "text/plain": [
       "      2             3       \n",
       "     d             d        \n",
       "f(η)⋅───(f(η)) + 2⋅───(f(η))\n",
       "       2             3      \n",
       "     dη            dη       "
      ]
     },
     "metadata": {},
     "output_type": "display_data"
    }
   ],
   "source": [
    "U_oo = symbols('U_\\\\infty',real=True,positive=True)\n",
    "eta_conversion = Y*sqrt(U_oo/(nu * X))\n",
    "profile = Function('f')(eta_conversion)\n",
    "stream_function = sqrt(nu*U_oo*X)*profile\n",
    "stream_sub = {inner_f['u']:stream_function.diff(Y).simplify(),inner_f['v']:-stream_function.diff(X)}\n",
    "blasius = (steady_prandtl_eqns['xmom'].subs(stream_sub)\\\n",
    "            .expand().simplify()\\\n",
    "            .subs(eta_conversion,Symbol('eta'))*(-2*X/U_oo**2)).simplify()\n",
    "display(blasius)"
   ]
  },
  {
   "cell_type": "markdown",
   "metadata": {},
   "source": [
    "This equation has two common sets of boundary conditions. Those on $f$ describe $v$, and those on $f'$ describe u. \n",
    "- The natural boundary conditions used by Blasius are $$f(0)=0,f'(0)=0, f'(\\infty) = 1,$$ which are the no-flux, no-slip, and matching conditions respectively to describe the effects of a fluid moving over a stationary plate. \n",
    "- There are also the boundary conditions of Sakiadis $$f(0)=0,f'(0)=1,f'(\\infty)=0,$$ where now the boundary itself moves with slip in a stationary fluid. \n",
    "\n",
    "In both cases, one can build series solutions $f_{sB},f_{sS}$ about $\\eta = 0,$ where both solutions strongly depends upon the wall shear parameter $\\kappa\\equiv f''(0).$ We build both series out below"
   ]
  },
  {
   "cell_type": "code",
   "execution_count": 5,
   "metadata": {},
   "outputs": [
    {
     "data": {
      "text/latex": [
       "$\\displaystyle f_{sB} = - \\frac{5 \\eta^{11} \\kappa^{4}}{4257792} + \\frac{11 \\eta^{8} \\kappa^{3}}{161280} - \\frac{\\eta^{5} \\kappa^{2}}{240} + \\frac{\\eta^{2} \\kappa}{2}$"
      ],
      "text/plain": [
       "              11  4       8  3    5  2    2  \n",
       "           5⋅η  ⋅κ    11⋅η ⋅κ    η ⋅κ    η ⋅κ\n",
       "f_{sB} = - ──────── + ──────── - ───── + ────\n",
       "           4257792     161280     240     2  "
      ]
     },
     "metadata": {},
     "output_type": "display_data"
    },
    {
     "data": {
      "text/latex": [
       "$\\displaystyle f_{sS} = \\frac{\\eta^{13} \\kappa^{2} \\left(18598 \\kappa^{2} - 9385\\right)}{66421555200} + \\eta^{12} \\left(\\frac{\\kappa^{3}}{725760} - \\frac{\\kappa}{16220160}\\right) + \\frac{\\eta^{11} \\kappa^{2} \\left(587 - 250 \\kappa^{2}\\right)}{212889600} + \\frac{\\eta^{10} \\kappa \\left(7 - 50 \\kappa^{2}\\right)}{3870720} - \\frac{43 \\eta^{9} \\kappa^{2}}{967680} + \\frac{\\eta^{8} \\kappa \\left(22 \\kappa^{2} - 15\\right)}{322560} + \\frac{11 \\eta^{7} \\kappa^{2}}{20160} + \\frac{\\eta^{6} \\kappa}{960} - \\frac{\\eta^{5} \\kappa^{2}}{240} - \\frac{\\eta^{4} \\kappa}{48} + \\frac{\\eta^{2} \\kappa}{2} + \\eta$"
      ],
      "text/plain": [
       "          13  2 ⎛       2       ⎞       ⎛   3             ⎞    11  2 ⎛         ↪\n",
       "         η  ⋅κ ⋅⎝18598⋅κ  - 9385⎠    12 ⎜  κ         κ    ⎟   η  ⋅κ ⋅⎝587 - 25 ↪\n",
       "f_{sS} = ──────────────────────── + η  ⋅⎜────── - ────────⎟ + ──────────────── ↪\n",
       "               66421555200              ⎝725760   16220160⎠         212889600  ↪\n",
       "\n",
       "↪    2⎞    10   ⎛        2⎞       9  2    8   ⎛    2     ⎞       7  2    6     ↪\n",
       "↪ 0⋅κ ⎠   η  ⋅κ⋅⎝7 - 50⋅κ ⎠   43⋅η ⋅κ    η ⋅κ⋅⎝22⋅κ  - 15⎠   11⋅η ⋅κ    η ⋅κ   ↪\n",
       "↪ ───── + ───────────────── - ──────── + ───────────────── + ──────── + ──── - ↪\n",
       "↪              3870720         967680         322560          20160     960    ↪\n",
       "\n",
       "↪   5  2    4      2      \n",
       "↪  η ⋅κ    η ⋅κ   η ⋅κ    \n",
       "↪  ───── - ──── + ──── + η\n",
       "↪   240     48     2      "
      ]
     },
     "metadata": {},
     "output_type": "display_data"
    }
   ],
   "source": [
    "eta, kappa = symbols('eta kappa')\n",
    "profile = Function('f')(eta)\n",
    "N = 14\n",
    "a_ = symbols(f'a0:{N}')\n",
    "f_s = sum([a_[n]*eta**n for n in range(N)])\n",
    "\n",
    "blasius_series_eqns = blasius.subs(profile,f_s) \\\n",
    "    .simplify().expand().collect(eta,evaluate=False)\n",
    "\n",
    "blasius_s_coeffs = {a_[0]:0,a_[1]:0,a_[2]:kappa/2}\n",
    "sakiadis_s_coeffs = {a_[0]:0,a_[1]:1,a_[2]:kappa/2}\n",
    "for i in range(N-3):\n",
    "    blasius_s_coeffs[a_[i+3]] = solve(blasius_series_eqns[eta**i].subs(blasius_s_coeffs),a_[i+3])[0]\n",
    "    sakiadis_s_coeffs[a_[i+3]] = solve(blasius_series_eqns[eta**i].subs(sakiadis_s_coeffs),a_[i+3])[0]\n",
    "\n",
    "f_s_blasius = f_s.subs(blasius_s_coeffs)\n",
    "f_s_sakiadis = f_s.subs(sakiadis_s_coeffs)\n",
    "display(Eq(Symbol('f_{sB}'),f_s_blasius))\n",
    "display(Eq(Symbol('f_{sS}'),f_s_sakiadis))\n"
   ]
  },
  {
   "cell_type": "markdown",
   "metadata": {},
   "source": [
    "This next batch of code is an symbolic-based implementation of Newton's method, which we will use to solve some upcoming nonlinear systems."
   ]
  },
  {
   "cell_type": "code",
   "execution_count": 36,
   "metadata": {},
   "outputs": [],
   "source": [
    "def sympy_newton(f,x_sym,x_0,iter_max=100,f_type=np.float64,tol=None):\n",
    "    tol = 10*np.finfo(f_type).eps if tol is None else tol\n",
    "    x_0 = [[i] for i in x_0]\n",
    "    f = Matrix(f)\n",
    "    J = Matrix([[f_i.diff(x_j) for x_j in x_sym] for f_i in f])\n",
    "    x = Matrix(x_sym)\n",
    "    iter_reached = True\n",
    "    for _ in range(iter_max):\n",
    "        x_dict = {x[i]:x_0[i][0] for i in range(len(x))}\n",
    "        J_n = np.array(J.subs(x_dict)).astype(f_type)\n",
    "        f_n = np.array(f.subs(x_dict)).astype(f_type)\n",
    "        if np.linalg.norm(f_n.transpose()) < tol:\n",
    "            iter_reached = False\n",
    "            break\n",
    "        x_n = np.array(x.subs(x_dict)).astype(f_type)\n",
    "        x_0 = x_n - np.linalg.solve(J_n,f_n) #newton iteration\n",
    "    if iter_reached:\n",
    "        print(f'Max iterations ({iter_max}) reached.')\n",
    "    return x_0.transpose().flatten().tolist()"
   ]
  },
  {
   "cell_type": "markdown",
   "metadata": {},
   "source": [
    "The following technique to approximate the solutions to these problems comes from Barlow et. al. (2017) where instead of a power series, an asymptotic approximant is used to get the desired asymptoic behaviors as $\\eta\\to\\infty$. So for the Blasius problem we get the approximant $$f_{AB} = \\eta + C - \\frac{C}{1+\\sum_{n=1}^N A_n\\eta^n},$$ and for the Sakiadis problem we get $$f_{AS} = C - \\frac{C}{1+\\sum_{n=1}^N A_n\\eta^n},$$ where $C$ in both cases captures an offset from the simplest behaviors $\\eta$ and $0$ respectively.\n",
    "\n",
    "Then what is dones is that we assume that $f_A = f_s$ for the first $N$ terms in a $\\eta$ power series expansion of both, with $A_{N-2} = A_{N-1} = 0,$ leaving a system of equations over $\\{A_{i}\\}_{i=0}^{N-3}, \\kappa$ and $C$. What we do next is reduce this system to a 2 by 2 system over $kappa,C,$ which is solved by `sympy_newton` above. Since this document is not about numerical analysis, we will say nothing about the accuracy and sensitivity of this method. In fact, one of the aims of this work is to promote the idea of unifying symbolic computation with more traditional numerical computations.\n",
    "\n",
    "From this, we can generate calculable expressions for both $f_As$, which is displayed at the end of the code"
   ]
  },
  {
   "cell_type": "code",
   "execution_count": 23,
   "metadata": {},
   "outputs": [
    {
     "data": {
      "text/latex": [
       "$\\displaystyle f_{AS} = 1.73097675578546 - \\frac{1.73097675578546}{1.29389315645905 \\cdot 10^{-8} \\eta^{11} + 1.79049516678273 \\cdot 10^{-7} \\eta^{10} + 1.17356051103746 \\cdot 10^{-6} \\eta^{9} + 4.15632354541974 \\cdot 10^{-6} \\eta^{8} + 7.44044870965781 \\cdot 10^{-6} \\eta^{7} + 2.68120851953251 \\cdot 10^{-5} \\eta^{6} + 0.000596949964396278 \\eta^{5} + 0.00707681444761763 \\eta^{4} + 0.0484001670971102 \\eta^{3} + 0.208763342563002 \\eta^{2} + 0.577708508596484 \\eta + 1}$"
      ],
      "text/plain": [
       "                                                                               ↪\n",
       "f_{AS} = 1.73097675578546 - ────────────────────────────────────────────────── ↪\n",
       "                                                 11                        10  ↪\n",
       "                            1.29389315645905e-8⋅η   + 1.79049516678273e-7⋅η    ↪\n",
       "\n",
       "↪                                                                              ↪\n",
       "↪ ──────────────────────────────────────────────────────────────────────────── ↪\n",
       "↪                        9                        8                        7   ↪\n",
       "↪ + 1.17356051103746e-6⋅η  + 4.15632354541974e-6⋅η  + 7.44044870965781e-6⋅η  + ↪\n",
       "\n",
       "↪   1.73097675578546                                                           ↪\n",
       "↪ ──────────────────────────────────────────────────────────────────────────── ↪\n",
       "↪                       6                         5                        4   ↪\n",
       "↪  2.68120851953251e-5⋅η  + 0.000596949964396278⋅η  + 0.00707681444761763⋅η  + ↪\n",
       "\n",
       "↪                                                                        \n",
       "↪ ───────────────────────────────────────────────────────────────────────\n",
       "↪                      3                      2                          \n",
       "↪  0.0484001670971102⋅η  + 0.208763342563002⋅η  + 0.577708508596484⋅η + 1"
      ]
     },
     "metadata": {},
     "output_type": "display_data"
    },
    {
     "data": {
      "text/latex": [
       "$\\displaystyle f_{AB} = \\eta - 1.81795203095548 + \\frac{1.81795203095548}{3.8991684640649 \\cdot 10^{-8} \\eta^{11} + 5.39729750801887 \\cdot 10^{-7} \\eta^{10} + 4.75133447558433 \\cdot 10^{-6} \\eta^{9} + 3.30740896985712 \\cdot 10^{-5} \\eta^{8} + 0.0001960994141443 \\eta^{7} + 0.00101919019336121 \\eta^{6} + 0.00470477503410937 \\eta^{5} + 0.0192518275243717 \\eta^{4} + 0.0693784531917212 \\eta^{3} + 0.214351588040816 \\eta^{2} + 0.550069519422039 \\eta + 1}$"
      ],
      "text/plain": [
       "                                                                               ↪\n",
       "f_{AB} = η - 1.81795203095548 + ────────────────────────────────────────────── ↪\n",
       "                                                    11                         ↪\n",
       "                                3.8991684640649e-8⋅η   + 5.39729750801887e-7⋅η ↪\n",
       "\n",
       "↪                                                                              ↪\n",
       "↪ ──────────────────────────────────────────────────────────────────────────── ↪\n",
       "↪ 10                        9                        8                       7 ↪\n",
       "↪    + 4.75133447558433e-6⋅η  + 3.30740896985712e-5⋅η  + 0.0001960994141443⋅η  ↪\n",
       "\n",
       "↪     1.81795203095548                                                         ↪\n",
       "↪ ──────────────────────────────────────────────────────────────────────────── ↪\n",
       "↪                         6                        5                       4   ↪\n",
       "↪  + 0.00101919019336121⋅η  + 0.00470477503410937⋅η  + 0.0192518275243717⋅η  + ↪\n",
       "\n",
       "↪                                                                        \n",
       "↪ ───────────────────────────────────────────────────────────────────────\n",
       "↪                      3                      2                          \n",
       "↪  0.0693784531917212⋅η  + 0.214351588040816⋅η  + 0.550069519422039⋅η + 1"
      ]
     },
     "metadata": {},
     "output_type": "display_data"
    }
   ],
   "source": [
    "A_ = symbols(f'A0:{N}')\n",
    "C = symbols('C')\n",
    "f_A_sakiadis = C - C/(1+sum([A_[n]*eta**n for n in range(1,N)]))\n",
    "f_A_blasius = eta + C - C/(1+sum([A_[n]*eta**n for n in range(1,N)]))\n",
    "\n",
    "sakiadis_A_eqn = dropO(f_s_sakiadis - series(f_A_sakiadis,eta,n=N))\\\n",
    "    .expand().powsimp().collect(eta,evaluate=False)\n",
    "blasius_A_eqn = dropO(f_s_blasius - series(f_A_blasius,eta,n=N))\\\n",
    "    .expand().powsimp().collect(eta,evaluate=False)\n",
    "#[display(Eq(O(k),v)) for k,v in sakiadis_A_eqn.items()]\n",
    "\n",
    "sakiadis_A_coeffs = {A_[N-1]:0,A_[N-2]:0}\n",
    "blasius_A_coeffs = {A_[N-1]:0,A_[N-2]:0}\n",
    "for n in range(1,N-2):\n",
    "    s = solve(sakiadis_A_eqn[eta**n].subs(sakiadis_A_coeffs),A_[n])\n",
    "    sakiadis_A_coeffs[A_[n]] = s[0]\n",
    "    s = solve(blasius_A_eqn[eta**n].subs(blasius_A_coeffs),A_[n])\n",
    "    blasius_A_coeffs[A_[n]] = s[0]\n",
    "\n",
    "\n",
    "sakiadis_A_p = [(sakiadis_A_eqn[eta**(N-1)].subs(sakiadis_A_coeffs)*C**(N-2)).expand().simplify(),\\\n",
    "(sakiadis_A_eqn[eta**(N-2)].subs(sakiadis_A_coeffs)*C**(N-3)).expand().simplify()]\n",
    "blasius_A_p = [(blasius_A_eqn[eta**(N-1)].subs(blasius_A_coeffs)*C**(N-2)).expand().simplify(),\\\n",
    "(blasius_A_eqn[eta**(N-2)].subs(blasius_A_coeffs)*C**(N-3)).expand().simplify()]\n",
    "\n",
    "sakiadis_A_coeffs[kappa], sakiadis_A_coeffs[C] = sympy_newton(sakiadis_A_p,[kappa,C],[-0.5,1.5])\n",
    "blasius_A_coeffs[kappa], blasius_A_coeffs[C] = sympy_newton(blasius_A_p,[kappa,C],[0.332,-1.721])\n",
    "\n",
    "f_A_sakiadis = f_A_sakiadis.subs(sakiadis_A_coeffs)\n",
    "f_A_blasius = f_A_blasius.subs(blasius_A_coeffs)\n",
    "\n",
    "display(Eq(Symbol('f_{AS}'),f_A_sakiadis))\n",
    "display(Eq(Symbol('f_{AB}'),f_A_blasius))"
   ]
  },
  {
   "cell_type": "markdown",
   "metadata": {},
   "source": [
    "This next block plots the different solutions to the different equations, followed by the residuals ($2f_A''' + f_Af_A''$) for both versions of $f_A$ "
   ]
  },
  {
   "cell_type": "code",
   "execution_count": 34,
   "metadata": {},
   "outputs": [
    {
     "data": {
      "image/png": "[encoded data removed]",
      "text/plain": [
       "<Figure size 640x480 with 1 Axes>"
      ]
     },
     "metadata": {},
     "output_type": "display_data"
    },
    {
     "data": {
      "image/png": "[encoded data removed]",
      "text/plain": [
       "<Figure size 640x480 with 1 Axes>"
      ]
     },
     "metadata": {},
     "output_type": "display_data"
    }
   ],
   "source": [
    "p = plotting.plot(f_A_sakiadis,xlim=(0,10),ylim=(-10,10),show=False,legend=True,label='f_{AS}')\n",
    "p.extend(plotting.plot(f_s_sakiadis.subs(sakiadis_A_coeffs),show=False,label='f_{sS}'))\n",
    "p.extend(plotting.plot(f_A_blasius,show=False,label='f_{AB}'))\n",
    "p.extend(plotting.plot(f_s_blasius.subs(blasius_A_coeffs),show=False,label='f_{sB}'))\n",
    "p.show()\n",
    "p = plotting.plot(blasius.subs(profile,f_A_sakiadis).simplify(),xlim=(0,10),ylim=(-0.1,0.1),show=False,legend=True,label='r_{AS}')\n",
    "p.extend(plotting.plot(blasius.subs(profile,f_A_blasius).simplify(),show=False,label='r_{AB}'))\n",
    "p.show()"
   ]
  },
  {
   "cell_type": "code",
   "execution_count": null,
   "metadata": {},
   "outputs": [],
   "source": []
  }
 ],
 "metadata": {
  "kernelspec": {
   "display_name": "Python 3",
   "language": "python",
   "name": "python3"
  },
  "language_info": {
   "codemirror_mode": {
    "name": "ipython",
    "version": 3
   },
   "file_extension": ".py",
   "mimetype": "text/x-python",
   "name": "python",
   "nbconvert_exporter": "python",
   "pygments_lexer": "ipython3",
   "version": "3.12.4"
  }
 },
 "nbformat": 4,
 "nbformat_minor": 2
}
