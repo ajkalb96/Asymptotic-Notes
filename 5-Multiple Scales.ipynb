{
 "cells": [
  {
   "cell_type": "code",
   "execution_count": 1,
   "metadata": {},
   "outputs": [],
   "source": [
    "from sympy import *\n",
    "from IPython.display import display\n",
    "init_printing(use_latex='mathjax')"
   ]
  },
  {
   "cell_type": "markdown",
   "metadata": {},
   "source": [
    "# Method of Multiple Scales\n",
    "\n",
    "The method of multiple scales is a technique used to construct uniformly valid approximations to the perturbed solutions, both for small and large values of the independent variables. It is particularly useful in systems characterized by disparate time scales, such as when weak effects become significant on long time scales.\n",
    "\n",
    "## Nonlinear Oscillators and the Poincare-Linstedt Method\n",
    "\n",
    "The first examples of the method of multiple scales are built upon the nonlinear oscillators, who in their unperturbed state both form the equation $$\\ddot{y_0} + y_0 = 0,$$ whose solutions are some sinusoid $A\\cos(\\omega t+\\phi),$ which has frequency $\\omega = 1$. Lower orders are often described by some forced equation $$\\ddot{y_1} + y_1 = F(y_0).$$ Since $y_0$ is a sinusoid, there is a reasonable chance that the forcing will resonate, resulting in a solution of the form $t\\cos(t),$ which on a sufficiently large time scale will come to dominate the behavior. But this is not what is observed, and for oscillators, this is rectified via an asymptotic expansion in $\\omega$ and/or the amplitude $A$. This expansion ultimately modifies the resonant terms in $F,$ allowing for a *solvability condition* to emerge so as to nullify the effects of these resonance terms. \n",
    "\n",
    "When applied to periodic functions, as we are in these oscillator cases, this is known as the Poincare-Linstedt Method."
   ]
  },
  {
   "cell_type": "markdown",
   "metadata": {},
   "source": [
    "### Duffing's equation\n",
    "\n",
    "Our first example comes from Duffing's nonlinear oscillator $$\\ddot{y} + y + \\epsilon y^3,$$ with $y(0)=1, y'(0) = 0.$ The following code solve this equation by a normal asymptotic method from the previous chapter. As we can see, the output contains a *secular term* $t\\sin(t)$ that grows linearly in $t$. As such, this approximation is only valid when $t\\ll\\epsilon^{-1}$."
   ]
  },
  {
   "cell_type": "code",
   "execution_count": 36,
   "metadata": {},
   "outputs": [
    {
     "data": {
      "text/latex": [
       "$\\displaystyle \\left\\{ 1 : y_{0}{\\left(t \\right)} + \\frac{d^{2}}{d t^{2}} y_{0}{\\left(t \\right)}, \\  \\epsilon : y_{0}^{3}{\\left(t \\right)} + y_{1}{\\left(t \\right)} + \\frac{d^{2}}{d t^{2}} y_{1}{\\left(t \\right)}, \\  \\epsilon^{2} : 3 y_{0}^{2}{\\left(t \\right)} y_{1}{\\left(t \\right)}, \\  \\epsilon^{3} : 3 y_{0}{\\left(t \\right)} y_{1}^{2}{\\left(t \\right)}, \\  \\epsilon^{4} : y_{1}^{3}{\\left(t \\right)}\\right\\}$"
      ],
      "text/plain": [
       "⎧            2                               2                                 ↪\n",
       "⎪           d                3              d            2      2            3 ↪\n",
       "⎨1: y₀(t) + ───(y₀(t)), ε: y₀ (t) + y₁(t) + ───(y₁(t)), ε : 3⋅y₀ (t)⋅y₁(t), ε  ↪\n",
       "⎪             2                               2                                ↪\n",
       "⎩           dt                              dt                                 ↪\n",
       "\n",
       "↪                             ⎫\n",
       "↪             2      4    3   ⎪\n",
       "↪ : 3⋅y₀(t)⋅y₁ (t), ε : y₁ (t)⎬\n",
       "↪                             ⎪\n",
       "↪                             ⎭"
      ]
     },
     "metadata": {},
     "output_type": "display_data"
    },
    {
     "data": {
      "text/latex": [
       "$\\displaystyle y_{0}{\\left(t \\right)} = \\cos{\\left(t \\right)}$"
      ],
      "text/plain": [
       "y₀(t) = cos(t)"
      ]
     },
     "metadata": {},
     "output_type": "display_data"
    },
    {
     "data": {
      "text/latex": [
       "$\\displaystyle y_{1}{\\left(t \\right)} = \\left(- \\frac{3 t}{8} - \\frac{\\sin{\\left(2 t \\right)}}{4} - \\frac{\\sin{\\left(4 t \\right)}}{32}\\right) \\sin{\\left(t \\right)} - \\frac{\\cos^{5}{\\left(t \\right)}}{4} + \\frac{\\cos{\\left(t \\right)}}{4}$"
      ],
      "text/plain": [
       "                                                  5            \n",
       "        ⎛  3⋅t   sin(2⋅t)   sin(4⋅t)⎞          cos (t)   cos(t)\n",
       "y₁(t) = ⎜- ─── - ──────── - ────────⎟⋅sin(t) - ─────── + ──────\n",
       "        ⎝   8       4          32   ⎠             4        4   "
      ]
     },
     "metadata": {},
     "output_type": "display_data"
    },
    {
     "data": {
      "text/latex": [
       "$\\displaystyle \\epsilon \\left(\\left(- \\frac{3 t}{8} - \\frac{\\sin{\\left(2 t \\right)}}{4} - \\frac{\\sin{\\left(4 t \\right)}}{32}\\right) \\sin{\\left(t \\right)} - \\frac{\\cos^{5}{\\left(t \\right)}}{4} + \\frac{\\cos{\\left(t \\right)}}{4}\\right) + \\cos{\\left(t \\right)}$"
      ],
      "text/plain": [
       "  ⎛                                          5            ⎞         \n",
       "  ⎜⎛  3⋅t   sin(2⋅t)   sin(4⋅t)⎞          cos (t)   cos(t)⎟         \n",
       "ε⋅⎜⎜- ─── - ──────── - ────────⎟⋅sin(t) - ─────── + ──────⎟ + cos(t)\n",
       "  ⎝⎝   8       4          32   ⎠             4        4   ⎠         "
      ]
     },
     "metadata": {},
     "output_type": "display_data"
    }
   ],
   "source": [
    "t, epsilon = symbols('t epsilon')\n",
    "N = 2\n",
    "y_ = [Function(f'y_{i}')(t) for i in range(N)]\n",
    "y = sum([epsilon**i * y_[i] for i in range(N)])\n",
    "ddt = lambda f: f.diff(t)\n",
    "eqn = ddt(ddt(y)) + y + epsilon*y**3\n",
    "eqn = eqn.expand().collect(epsilon,evaluate=False)\n",
    "display(eqn)\n",
    "#Define zero ICs/BCs (Sympy puts them all under the term ICs)\n",
    "ics = []\n",
    "for i in range(N):\n",
    "    ics.append({y_[i].subs(t,0):0,y_[i].diff(t).subs(t,0):0})\n",
    "#update other ICs/BCs\n",
    "ics[0][y_[0].subs(t,0)] = 1\n",
    "\n",
    "#solve the ODEs\n",
    "replacements = []\n",
    "for i in range(N):\n",
    "    soln = dsolve(eqn[epsilon**i].subs(replacements),y_[i],ics=ics[i])\n",
    "    display(soln)\n",
    "    replacements.append((soln.lhs,soln.rhs))\n",
    "display(y.subs(replacements))"
   ]
  },
  {
   "cell_type": "markdown",
   "metadata": {},
   "source": [
    "To construct a valid solution for all time, we introduce a stretched time variable $\\tau = \\omega(\\epsilon)t,$ which implies that $\\frac{d}{dt} = \\omega\\frac{d}{d\\tau},$ and by construction $\\omega = \\omega + \\epsilon\\omega_1$"
   ]
  },
  {
   "cell_type": "code",
   "execution_count": 58,
   "metadata": {},
   "outputs": [
    {
     "data": {
      "text/latex": [
       "$\\displaystyle \\left\\{ 1 : \\omega_{0}^{2} \\frac{d^{2}}{d \\tau^{2}} y_{0}{\\left(\\tau \\right)} + y_{0}{\\left(\\tau \\right)}, \\  \\epsilon : \\omega_{0}^{2} \\frac{d^{2}}{d \\tau^{2}} y_{1}{\\left(\\tau \\right)} + 2 \\omega_{0} \\omega_{1} \\frac{d^{2}}{d \\tau^{2}} y_{0}{\\left(\\tau \\right)} + y_{0}^{3}{\\left(\\tau \\right)} + y_{1}{\\left(\\tau \\right)}, \\  \\epsilon^{2} : 2 \\omega_{0} \\omega_{1} \\frac{d^{2}}{d \\tau^{2}} y_{1}{\\left(\\tau \\right)} + \\omega_{1}^{2} \\frac{d^{2}}{d \\tau^{2}} y_{0}{\\left(\\tau \\right)} + 3 y_{0}^{2}{\\left(\\tau \\right)} y_{1}{\\left(\\tau \\right)}, \\  \\epsilon^{3} : \\omega_{1}^{2} \\frac{d^{2}}{d \\tau^{2}} y_{1}{\\left(\\tau \\right)} + 3 y_{0}{\\left(\\tau \\right)} y_{1}^{2}{\\left(\\tau \\right)}, \\  \\epsilon^{4} : y_{1}^{3}{\\left(\\tau \\right)}\\right\\}$"
      ],
      "text/plain": [
       "⎧        2                          2                    2                     ↪\n",
       "⎪     2 d                        2 d                    d              3       ↪\n",
       "⎨1: ω₀ ⋅───(y₀(τ)) + y₀(τ), ε: ω₀ ⋅───(y₁(τ)) + 2⋅ω₀⋅ω₁⋅───(y₀(τ)) + y₀ (τ) +  ↪\n",
       "⎪         2                          2                    2                    ↪\n",
       "⎩       dτ                         dτ                   dτ                     ↪\n",
       "\n",
       "↪                     2                2                                    2  ↪\n",
       "↪         2          d              2 d                2            3    2 d   ↪\n",
       "↪ y₁(τ), ε : 2⋅ω₀⋅ω₁⋅───(y₁(τ)) + ω₁ ⋅───(y₀(τ)) + 3⋅y₀ (τ)⋅y₁(τ), ε : ω₁ ⋅─── ↪\n",
       "↪                      2                2                                    2 ↪\n",
       "↪                    dτ               dτ                                   dτ  ↪\n",
       "\n",
       "↪                                     ⎫\n",
       "↪                     2      4    3   ⎪\n",
       "↪ (y₁(τ)) + 3⋅y₀(τ)⋅y₁ (τ), ε : y₁ (τ)⎬\n",
       "↪                                     ⎪\n",
       "↪                                     ⎭"
      ]
     },
     "metadata": {},
     "output_type": "display_data"
    },
    {
     "data": {
      "text/latex": [
       "$\\displaystyle y_{0}{\\left(\\tau \\right)} = \\frac{e^{\\frac{i \\tau}{\\omega_{0}}}}{2} + \\frac{e^{- \\frac{i \\tau}{\\omega_{0}}}}{2}$"
      ],
      "text/plain": [
       "         ⅈ⋅τ    -ⅈ⋅τ \n",
       "         ───    ─────\n",
       "         ω₀      ω₀  \n",
       "        ℯ      ℯ     \n",
       "y₀(τ) = ──── + ──────\n",
       "         2       2   "
      ]
     },
     "metadata": {},
     "output_type": "display_data"
    },
    {
     "data": {
      "text/latex": [
       "$\\displaystyle y_{1}{\\left(\\tau \\right)} = \\left(- \\frac{1}{64} - \\frac{3 i \\tau}{16 \\omega_{0}} + \\frac{i \\omega_{1} \\tau}{2 \\omega_{0}^{2}}\\right) e^{- \\frac{i \\tau}{\\omega_{0}}} + \\left(- \\frac{1}{64} + \\frac{3 i \\tau}{16 \\omega_{0}} - \\frac{i \\omega_{1} \\tau}{2 \\omega_{0}^{2}}\\right) e^{\\frac{i \\tau}{\\omega_{0}}} + \\frac{e^{\\frac{3 i \\tau}{\\omega_{0}}}}{64} + \\frac{e^{- \\frac{3 i \\tau}{\\omega_{0}}}}{64}$"
      ],
      "text/plain": [
       "                                                                         3⋅ⅈ⋅τ ↪\n",
       "                                 -ⅈ⋅τ                             ⅈ⋅τ    ───── ↪\n",
       "                                 ─────                            ───     ω₀   ↪\n",
       "        ⎛  1    3⋅ⅈ⋅τ   ⅈ⋅ω₁⋅τ⎞   ω₀     ⎛  1    3⋅ⅈ⋅τ   ⅈ⋅ω₁⋅τ⎞  ω₀    ℯ      ↪\n",
       "y₁(τ) = ⎜- ── - ───── + ──────⎟⋅ℯ      + ⎜- ── + ───── - ──────⎟⋅ℯ    + ────── ↪\n",
       "        ⎜  64   16⋅ω₀       2 ⎟          ⎜  64   16⋅ω₀       2 ⎟          64   ↪\n",
       "        ⎝               2⋅ω₀  ⎠          ⎝               2⋅ω₀  ⎠               ↪\n",
       "\n",
       "↪     -3⋅ⅈ⋅τ \n",
       "↪     ───────\n",
       "↪       ω₀   \n",
       "↪    ℯ       \n",
       "↪  + ────────\n",
       "↪       64   \n",
       "↪            "
      ]
     },
     "metadata": {},
     "output_type": "display_data"
    },
    {
     "data": {
      "text/latex": [
       "$\\displaystyle \\frac{\\epsilon \\left(\\cos{\\left(\\frac{3 t \\left(3 \\epsilon + 8\\right)}{8} \\right)} - \\cos{\\left(\\frac{3 \\epsilon t}{8} + t \\right)}\\right)}{32} + \\cos{\\left(\\frac{3 \\epsilon t}{8} + t \\right)}$"
      ],
      "text/plain": [
       "  ⎛   ⎛3⋅t⋅(3⋅ε + 8)⎞      ⎛3⋅ε⋅t    ⎞⎞                 \n",
       "ε⋅⎜cos⎜─────────────⎟ - cos⎜───── + t⎟⎟                 \n",
       "  ⎝   ⎝      8      ⎠      ⎝  8      ⎠⎠      ⎛3⋅ε⋅t    ⎞\n",
       "─────────────────────────────────────── + cos⎜───── + t⎟\n",
       "                  32                         ⎝  8      ⎠"
      ]
     },
     "metadata": {},
     "output_type": "display_data"
    }
   ],
   "source": [
    "epsilon = symbols('epsilon')\n",
    "tau = symbols('tau')\n",
    "N = 2\n",
    "y_ = [Function(f'y_{i}')(tau) for i in range(N)]\n",
    "y = sum([epsilon**i * y_[i] for i in range(N)])\n",
    "omega_ = [Symbol(f'omega_{i}')for i in range(N)]\n",
    "omega = sum([epsilon**i * omega_[i] for i in range(N)])\n",
    "\n",
    "ddt = lambda f: omega*f.diff(tau)\n",
    "eqn = ddt(ddt(y)) + y + epsilon*y**3\n",
    "eqn = eqn.expand().collect(epsilon,evaluate=False)\n",
    "display(eqn)\n",
    "#Define zero ICs/BCs (Sympy puts them all under the term ICs)\n",
    "ics = []\n",
    "for i in range(N):\n",
    "    ics.append({y_[i].subs(tau,0):0,y_[i].diff(tau).subs(tau,0):0})\n",
    "#update other ICs/BCs\n",
    "ics[0][y_[0].subs(tau,0)] = 1\n",
    "\n",
    "#solve the ODEs\n",
    "replacements = []\n",
    "for i in range(N):\n",
    "    #display(eqn[epsilon**i].subs(replacements))\n",
    "    soln = dsolve(eqn[epsilon**i].subs(replacements),y_[i],ics=ics[i])\n",
    "    display(soln)\n",
    "    replacements.append((soln.lhs,soln.rhs))\n",
    "#replacements.extend([(tau,omega*symbols('t')),(omega_[1],Rational(3,8)*omega_[0])])\n",
    "display(y.subs(replacements).rewrite(cos).simplify())\n",
    "\n"
   ]
  },
  {
   "cell_type": "markdown",
   "metadata": {},
   "source": [
    "From this, we can observe that the secular term will vanish under the condition that $\\omega_1 = \\frac38\\omega_0,$ and a line of code that makes this substitution. We note that while we utilize this solvability condition as part of the secular term directly, it is also possible to see the solvability condition in the equation, as seen in another commented out line of code.\n",
    "\n",
    "### Van der Pol Oscillator\n",
    "\n",
    "While the Duffing Oscillator had a perturbation expansion for the frequency, but the Van der Pol Oscillator also has an expansion in the amplitude. The equation at hand is $$\\ddot{y} + \\epsilon(y^2-1)y' + y = 0,$$ with $y(0)=a_0 + \\epsilon a_1, y'(0) = 0.$ We perform a similar $\\omega$ substitution as done in the Duffing Oscillator."
   ]
  },
  {
   "cell_type": "code",
   "execution_count": 60,
   "metadata": {},
   "outputs": [
    {
     "data": {
      "text/latex": [
       "$\\displaystyle \\left\\{ 1 : \\omega_{0}^{2} \\frac{d^{2}}{d \\tau^{2}} y_{0}{\\left(\\tau \\right)} + y_{0}{\\left(\\tau \\right)}, \\  \\epsilon : \\omega_{0}^{2} \\frac{d^{2}}{d \\tau^{2}} y_{1}{\\left(\\tau \\right)} + 2 \\omega_{0} \\omega_{1} \\frac{d^{2}}{d \\tau^{2}} y_{0}{\\left(\\tau \\right)} + \\omega_{0} y_{0}^{2}{\\left(\\tau \\right)} \\frac{d}{d \\tau} y_{0}{\\left(\\tau \\right)} - \\omega_{0} \\frac{d}{d \\tau} y_{0}{\\left(\\tau \\right)} + y_{1}{\\left(\\tau \\right)}, \\  \\epsilon^{2} : 2 \\omega_{0} \\omega_{1} \\frac{d^{2}}{d \\tau^{2}} y_{1}{\\left(\\tau \\right)} + \\omega_{0} y_{0}^{2}{\\left(\\tau \\right)} \\frac{d}{d \\tau} y_{1}{\\left(\\tau \\right)} + 2 \\omega_{0} y_{0}{\\left(\\tau \\right)} y_{1}{\\left(\\tau \\right)} \\frac{d}{d \\tau} y_{0}{\\left(\\tau \\right)} - \\omega_{0} \\frac{d}{d \\tau} y_{1}{\\left(\\tau \\right)} + \\omega_{1}^{2} \\frac{d^{2}}{d \\tau^{2}} y_{0}{\\left(\\tau \\right)} + \\omega_{1} y_{0}^{2}{\\left(\\tau \\right)} \\frac{d}{d \\tau} y_{0}{\\left(\\tau \\right)} - \\omega_{1} \\frac{d}{d \\tau} y_{0}{\\left(\\tau \\right)}, \\  \\epsilon^{3} : 2 \\omega_{0} y_{0}{\\left(\\tau \\right)} y_{1}{\\left(\\tau \\right)} \\frac{d}{d \\tau} y_{1}{\\left(\\tau \\right)} + \\omega_{0} y_{1}^{2}{\\left(\\tau \\right)} \\frac{d}{d \\tau} y_{0}{\\left(\\tau \\right)} + \\omega_{1}^{2} \\frac{d^{2}}{d \\tau^{2}} y_{1}{\\left(\\tau \\right)} + \\omega_{1} y_{0}^{2}{\\left(\\tau \\right)} \\frac{d}{d \\tau} y_{1}{\\left(\\tau \\right)} + 2 \\omega_{1} y_{0}{\\left(\\tau \\right)} y_{1}{\\left(\\tau \\right)} \\frac{d}{d \\tau} y_{0}{\\left(\\tau \\right)} - \\omega_{1} \\frac{d}{d \\tau} y_{1}{\\left(\\tau \\right)}, \\  \\epsilon^{4} : \\omega_{0} y_{1}^{2}{\\left(\\tau \\right)} \\frac{d}{d \\tau} y_{1}{\\left(\\tau \\right)} + 2 \\omega_{1} y_{0}{\\left(\\tau \\right)} y_{1}{\\left(\\tau \\right)} \\frac{d}{d \\tau} y_{1}{\\left(\\tau \\right)} + \\omega_{1} y_{1}^{2}{\\left(\\tau \\right)} \\frac{d}{d \\tau} y_{0}{\\left(\\tau \\right)}, \\  \\epsilon^{5} : \\omega_{1} y_{1}^{2}{\\left(\\tau \\right)} \\frac{d}{d \\tau} y_{1}{\\left(\\tau \\right)}\\right\\}$"
      ],
      "text/plain": [
       "⎧        2                          2                    2                     ↪\n",
       "⎪     2 d                        2 d                    d                 2    ↪\n",
       "⎨1: ω₀ ⋅───(y₀(τ)) + y₀(τ), ε: ω₀ ⋅───(y₁(τ)) + 2⋅ω₀⋅ω₁⋅───(y₀(τ)) + ω₀⋅y₀ (τ) ↪\n",
       "⎪         2                          2                    2                    ↪\n",
       "⎩       dτ                         dτ                   dτ                     ↪\n",
       "\n",
       "↪                                                 2                            ↪\n",
       "↪  d              d                   2          d                 2    d      ↪\n",
       "↪ ⋅──(y₀(τ)) - ω₀⋅──(y₀(τ)) + y₁(τ), ε : 2⋅ω₀⋅ω₁⋅───(y₁(τ)) + ω₀⋅y₀ (τ)⋅──(y₁( ↪\n",
       "↪  dτ             dτ                               2                    dτ     ↪\n",
       "↪                                                dτ                            ↪\n",
       "\n",
       "↪                                                        2                     ↪\n",
       "↪                        d              d             2 d                 2    ↪\n",
       "↪ τ)) + 2⋅ω₀⋅y₀(τ)⋅y₁(τ)⋅──(y₀(τ)) - ω₀⋅──(y₁(τ)) + ω₁ ⋅───(y₀(τ)) + ω₁⋅y₀ (τ) ↪\n",
       "↪                        dτ             dτ                2                    ↪\n",
       "↪                                                       dτ                     ↪\n",
       "\n",
       "↪                                                                              ↪\n",
       "↪  d              d           3                   d                2    d      ↪\n",
       "↪ ⋅──(y₀(τ)) - ω₁⋅──(y₀(τ)), ε : 2⋅ω₀⋅y₀(τ)⋅y₁(τ)⋅──(y₁(τ)) + ω₀⋅y₁ (τ)⋅──(y₀( ↪\n",
       "↪  dτ             dτ                              dτ                    dτ     ↪\n",
       "↪                                                                              ↪\n",
       "\n",
       "↪            2                                                                 ↪\n",
       "↪         2 d                 2    d                            d              ↪\n",
       "↪ τ)) + ω₁ ⋅───(y₁(τ)) + ω₁⋅y₀ (τ)⋅──(y₁(τ)) + 2⋅ω₁⋅y₀(τ)⋅y₁(τ)⋅──(y₀(τ)) - ω₁ ↪\n",
       "↪             2                    dτ                           dτ             ↪\n",
       "↪           dτ                                                                 ↪\n",
       "\n",
       "↪                                                                              ↪\n",
       "↪  d           4       2    d                            d                2    ↪\n",
       "↪ ⋅──(y₁(τ)), ε : ω₀⋅y₁ (τ)⋅──(y₁(τ)) + 2⋅ω₁⋅y₀(τ)⋅y₁(τ)⋅──(y₁(τ)) + ω₁⋅y₁ (τ) ↪\n",
       "↪  dτ                       dτ                           dτ                    ↪\n",
       "↪                                                                              ↪\n",
       "\n",
       "↪                                    ⎫\n",
       "↪  d           5       2    d        ⎪\n",
       "↪ ⋅──(y₀(τ)), ε : ω₁⋅y₁ (τ)⋅──(y₁(τ))⎬\n",
       "↪  dτ                       dτ       ⎪\n",
       "↪                                    ⎭"
      ]
     },
     "metadata": {},
     "output_type": "display_data"
    },
    {
     "data": {
      "text/latex": [
       "$\\displaystyle y_{0}{\\left(\\tau \\right)} = \\frac{a_{0} e^{\\frac{i \\tau}{\\omega_{0}}}}{2} + \\frac{a_{0} e^{- \\frac{i \\tau}{\\omega_{0}}}}{2}$"
      ],
      "text/plain": [
       "            ⅈ⋅τ       -ⅈ⋅τ \n",
       "            ───       ─────\n",
       "            ω₀         ω₀  \n",
       "        a₀⋅ℯ      a₀⋅ℯ     \n",
       "y₀(τ) = ─────── + ─────────\n",
       "           2          2    "
      ]
     },
     "metadata": {},
     "output_type": "display_data"
    },
    {
     "data": {
      "text/latex": [
       "$\\displaystyle y_{1}{\\left(\\tau \\right)} = \\frac{i a_{0}^{3} e^{\\frac{3 i \\tau}{\\omega_{0}}}}{64} - \\frac{i a_{0}^{3} e^{- \\frac{3 i \\tau}{\\omega_{0}}}}{64} + \\left(- \\frac{7 i a_{0}^{3}}{64} - \\frac{a_{0}^{3} \\tau}{16 \\omega_{0}} + \\frac{i a_{0}}{4} + \\frac{a_{0} \\tau}{4 \\omega_{0}} - \\frac{i a_{0} \\omega_{1} \\tau}{2 \\omega_{0}^{2}} + \\frac{a_{1}}{2}\\right) e^{\\frac{i \\tau}{\\omega_{0}}} + \\left(\\frac{7 i a_{0}^{3}}{64} - \\frac{a_{0}^{3} \\tau}{16 \\omega_{0}} - \\frac{i a_{0}}{4} + \\frac{a_{0} \\tau}{4 \\omega_{0}} + \\frac{i a_{0} \\omega_{1} \\tau}{2 \\omega_{0}^{2}} + \\frac{a_{1}}{2}\\right) e^{- \\frac{i \\tau}{\\omega_{0}}}$"
      ],
      "text/plain": [
       "               3⋅ⅈ⋅τ          -3⋅ⅈ⋅τ                                           ↪\n",
       "               ─────          ───────                                          ↪\n",
       "            3   ω₀         3    ω₀      ⎛        3     3                       ↪\n",
       "        ⅈ⋅a₀ ⋅ℯ        ⅈ⋅a₀ ⋅ℯ          ⎜  7⋅ⅈ⋅a₀    a₀ ⋅τ   ⅈ⋅a₀   a₀⋅τ   ⅈ⋅a ↪\n",
       "y₁(τ) = ──────────── - ────────────── + ⎜- ─────── - ───── + ──── + ──── - ─── ↪\n",
       "             64              64         ⎜    64      16⋅ω₀    4     4⋅ω₀       ↪\n",
       "                                        ⎝                                    2 ↪\n",
       "\n",
       "↪                                                                            \n",
       "↪               ⅈ⋅τ                                                     -ⅈ⋅τ \n",
       "↪            ⎞  ───   ⎛      3     3                                 ⎞  ─────\n",
       "↪ ₀⋅ω₁⋅τ   a₁⎟  ω₀    ⎜7⋅ⅈ⋅a₀    a₀ ⋅τ   ⅈ⋅a₀   a₀⋅τ   ⅈ⋅a₀⋅ω₁⋅τ   a₁⎟   ω₀  \n",
       "↪ ────── + ──⎟⋅ℯ    + ⎜─────── - ───── - ──── + ──── + ───────── + ──⎟⋅ℯ     \n",
       "↪    2     2 ⎟        ⎜  64      16⋅ω₀    4     4⋅ω₀         2     2 ⎟       \n",
       "↪ ⋅ω₀        ⎠        ⎝                                  2⋅ω₀        ⎠       "
      ]
     },
     "metadata": {},
     "output_type": "display_data"
    },
    {
     "data": {
      "text/latex": [
       "$\\displaystyle a_{1} \\epsilon \\cos{\\left(t \\right)} + \\frac{3 \\epsilon \\sin{\\left(t \\right)}}{4} - \\frac{\\epsilon \\sin{\\left(3 t \\right)}}{4} + 2 \\cos{\\left(t \\right)}$"
      ],
      "text/plain": [
       "              3⋅ε⋅sin(t)   ε⋅sin(3⋅t)           \n",
       "a₁⋅ε⋅cos(t) + ────────── - ────────── + 2⋅cos(t)\n",
       "                  4            4                "
      ]
     },
     "metadata": {},
     "output_type": "display_data"
    }
   ],
   "source": [
    "epsilon = symbols('epsilon')\n",
    "tau = symbols('tau')\n",
    "N = 2\n",
    "y_ = [Function(f'y_{i}')(tau) for i in range(N)]\n",
    "y = sum([epsilon**i * y_[i] for i in range(N)])\n",
    "omega_ = [Symbol(f'omega_{i}') for i in range(N)]\n",
    "omega = sum([epsilon**i * omega_[i] for i in range(N)])\n",
    "a_ = [Symbol(f'a_{i}') for i in range(N)]\n",
    "\n",
    "ddt = lambda f: omega*f.diff(tau)\n",
    "eqn = ddt(ddt(y)) + y + epsilon*(y**2-1)*ddt(y)\n",
    "eqn = eqn.expand().collect(epsilon,evaluate=False)\n",
    "display(eqn)\n",
    "#Define zero ICs/BCs (Sympy puts them all under the term ICs)\n",
    "ics = []\n",
    "for i in range(N):\n",
    "    ics.append({y_[i].subs(tau,0):a_[i],y_[i].diff(tau).subs(tau,0):0})\n",
    "#update other ICs/BCs\n",
    "\n",
    "#solve the ODEs\n",
    "replacements = []\n",
    "for i in range(N):\n",
    "    soln = dsolve(eqn[epsilon**i].subs(replacements),y_[i],ics=ics[i])\n",
    "    display(soln)\n",
    "    replacements.append((soln.lhs,soln.rhs))\n",
    "replacements.extend([(tau,omega*symbols('t')),(omega_[1],0),(a_[0],2)])\n",
    "display(y.subs(replacements).rewrite(cos).simplify())"
   ]
  },
  {
   "cell_type": "markdown",
   "metadata": {},
   "source": [
    "To eliminate the secular terms, we require first that $\\omega_1 = 0,$ then we get the condition $a_0^3 - 4a_0 = 0,$ which in turn means that $a_0 = 0,\\pm 2.$ We note that the $\\pm2$ cases both produce the same solution up to a $180^\\circ$ phase offset. $a_1, \\omega_2$ can be used to satisfy the next order solvability conditions, as this process can be repeated for the higher orders."
   ]
  },
  {
   "cell_type": "markdown",
   "metadata": {},
   "source": [
    "## Method of Multiple Scales (MMS)\n",
    "\n",
    "While the Poincare-Linstedt method works well for purely periodic problems, it cannot be used when solutions evolve over slow time-scales. MMS works more generally by including several independent variables for each scale of interest. In this section, we will apply the method to time variables, but it can just as easily be applied to spatial variables too, and there may even be cases of multiple time scales and multiple spatial scales; see the notebook entitled IMMD for an example.\n",
    "\n",
    "Let time $t$ be broken into several time scales, our 'fast' scale $t = t_0$, and slower time scales $t_n = f_n(\\epsilon)t_0$ for some natural numbers $n$. One important aspect of this method is that since time now depends on several times scales at once, total derivatives must now be broken into its components. So we get a derivative rule $$\\frac{d}{dt} = \\partial_{t_0} + \\frac{dt_1}{dt_0}\\partial_{t_1} + \\frac{dt_2}{dt_0}\\partial_{t_2} + ...$$ $$\\frac{d}{dt} = \\partial_{t_0} + f_1(\\epsilon)\\partial_{t_1} + f_2(\\epsilon)\\partial_{t_2} + ...,$$\n",
    "and such expansions apply multiple times for higher order derivaties (e.g. in an wave-like equation)\n",
    "\n",
    "### Mathieu Equation\n",
    "\n",
    "We consider the Mathieu equation $$\\ddot{y} + (1+\\epsilon\\delta+\\epsilon\\cos(kt))y$$ which describes a linear oscillator whose frequency changes sinusoidally. This has been scaled such that $\\delta = O(1)$ as $\\epsilon\\to0$. Here, we will introduce a second time scale $\\tau=\\epsilon t$, and we prescribe our solutions will take the form $y(t,\\tau),$ with the expansion $y = y_0 + \\epsilon y_1$. Here we extract the $O(1),O(\\epsilon)$ equations."
   ]
  },
  {
   "cell_type": "code",
   "execution_count": 23,
   "metadata": {},
   "outputs": [
    {
     "data": {
      "text/latex": [
       "$\\displaystyle y_{0}{\\left(t,\\tau \\right)} + \\frac{\\partial^{2}}{\\partial t^{2}} y_{0}{\\left(t,\\tau \\right)}$"
      ],
      "text/plain": [
       "            2           \n",
       "           ∂            \n",
       "y₀(t, τ) + ───(y₀(t, τ))\n",
       "             2          \n",
       "           ∂t           "
      ]
     },
     "metadata": {},
     "output_type": "display_data"
    },
    {
     "data": {
      "text/latex": [
       "$\\displaystyle \\delta y_{0}{\\left(t,\\tau \\right)} + y_{0}{\\left(t,\\tau \\right)} \\cos{\\left(k t \\right)} + y_{1}{\\left(t,\\tau \\right)} + \\frac{\\partial^{2}}{\\partial t^{2}} y_{1}{\\left(t,\\tau \\right)} + 2 \\frac{\\partial^{2}}{\\partial \\tau\\partial t} y_{0}{\\left(t,\\tau \\right)}$"
      ],
      "text/plain": [
       "                                             2                  2            \n",
       "                                            ∂                  ∂             \n",
       "δ⋅y₀(t, τ) + y₀(t, τ)⋅cos(k⋅t) + y₁(t, τ) + ───(y₁(t, τ)) + 2⋅─────(y₀(t, τ))\n",
       "                                              2               ∂τ ∂t          \n",
       "                                            ∂t                               "
      ]
     },
     "metadata": {},
     "output_type": "display_data"
    }
   ],
   "source": [
    "t, tau, epsilon = symbols('t tau epsilon')\n",
    "delta, k = symbols('delta k')\n",
    "\n",
    "N = 2\n",
    "y_ = [Function(f'y_{i}')(t,epsilon*t) for i in range(N)]\n",
    "y = sum([epsilon**i * y_[i] for i in range(N)])\n",
    "ddt = lambda f: f.diff(t)\n",
    "eqn = ddt(ddt(y)) + (1+epsilon*(delta+cos(k*t)))*y\n",
    "eqn = eqn.expand().collect(epsilon,evaluate=False)\n",
    "#define in terms of tau\n",
    "eqn = {k:v.subs(epsilon*t,tau).simplify() for k,v in eqn.items()}\n",
    "y_ = [i.subs(epsilon*t,tau) for i in y_]\n",
    "y = y.subs(epsilon*t,tau)\n",
    "\n",
    "display(eqn[1],eqn[epsilon])"
   ]
  },
  {
   "cell_type": "markdown",
   "metadata": {},
   "source": [
    "The solution to this first equation is $y_0 = A(\\tau)e^{it} + \\overline{A(\\tau)}e^{-it},$ for some amplitude function $A$, where the overline denotes the complex conjugate. If we make the substitution into the $O(\\epsilon)$ equation under the case $k=2,$ we get the following, with terms separated by their frequency in $t$."
   ]
  },
  {
   "cell_type": "code",
   "execution_count": 63,
   "metadata": {},
   "outputs": [
    {
     "data": {
      "text/latex": [
       "$\\displaystyle \\left(\\delta A{\\left(\\tau \\right)} + \\frac{\\overline{A{\\left(\\tau \\right)}}}{2} + 2 i \\frac{d}{d \\tau} A{\\left(\\tau \\right)}\\right) e^{i t} + \\left(\\delta \\overline{A{\\left(\\tau \\right)}} + \\frac{A{\\left(\\tau \\right)}}{2} - 2 i \\frac{d}{d \\tau} \\overline{A{\\left(\\tau \\right)}}\\right) e^{- i t} + \\frac{A{\\left(\\tau \\right)} e^{3 i t}}{2} + y_{1}{\\left(t,\\tau \\right)} + \\frac{\\partial^{2}}{\\partial t^{2}} y_{1}{\\left(t,\\tau \\right)} + \\frac{e^{- 3 i t} \\overline{A{\\left(\\tau \\right)}}}{2}$"
      ],
      "text/plain": [
       "⎛         ____               ⎞                                                 ↪\n",
       "⎜         A(τ)       d       ⎟  ⅈ⋅t   ⎛  ____   A(τ)       d ⎛____⎞⎞  -ⅈ⋅t   A ↪\n",
       "⎜δ⋅A(τ) + ──── + 2⋅ⅈ⋅──(A(τ))⎟⋅ℯ    + ⎜δ⋅A(τ) + ──── - 2⋅ⅈ⋅──⎝A(τ)⎠⎟⋅ℯ     + ─ ↪\n",
       "⎝          2         dτ      ⎠        ⎝          2         dτ      ⎠           ↪\n",
       "                                                                               ↪\n",
       "\n",
       "↪      3⋅ⅈ⋅t               2               -3⋅ⅈ⋅t ____\n",
       "↪ (τ)⋅ℯ                   ∂               ℯ      ⋅A(τ)\n",
       "↪ ────────── + y₁(t, τ) + ───(y₁(t, τ)) + ────────────\n",
       "↪     2                     2                  2      \n",
       "↪                         ∂t                          "
      ]
     },
     "metadata": {},
     "output_type": "display_data"
    }
   ],
   "source": [
    "amplitude = Function('A')(tau)\n",
    "y_0 = amplitude*exp(I*t) + conjugate(amplitude)*exp(-I*t)\n",
    "display(eqn[epsilon].subs({y_[0]:y_0,k:2})\n",
    "        .rewrite(exp).simplify().expand()\n",
    "        .collect(exp(I*t)))"
   ]
  },
  {
   "cell_type": "markdown",
   "metadata": {},
   "source": [
    "Code Note: Sympy currently has trouble running `collect()` with anything that looks like a mixed partial derivative. This is why we do the $\\epsilon t\\to\\tau$ substitutions rather than use $\\tau$ directly. Other computer algebra systems likely do not have this specific quirk, but you get what you pay for.\n",
    "\n",
    "Back to the mathematics, we can identify the coefficient of the resonant terms $$2i\\frac{dA}{d\\tau} + \\delta A(\\tau) + \\frac12\\overline{A(\\tau)} + \\text{ complex conjugate }$$ Therefore, $y_1$ does not contain secular terms if and only if the coefficents are zero, which implies that $A(\\tau)$ must satisfy the ODE $$2i\\frac{dA}{d\\tau} + \\delta A(\\tau) + \\frac12\\overline{A(\\tau)} = 0.$$ Most other values of $k$ produce the simpler $$2i\\frac{dA}{d\\tau} + \\delta A(\\tau)=0,$$ which has the solution proprtional to $e^{i\\delta\\tau/2}$.\n",
    "\n",
    "Often, solvability conditions produce new differential equations, but this is not inherently a problem. These solvability conditions by construction neglect what happens on the small scales, which in a computational setting is a huge boon, since the calculation of small scale effects can often take the most program time (since each step must be done many times) with marginal gains to accuracy. \n"
   ]
  },
  {
   "cell_type": "code",
   "execution_count": null,
   "metadata": {},
   "outputs": [],
   "source": []
  }
 ],
 "metadata": {
  "kernelspec": {
   "display_name": "Python 3",
   "language": "python",
   "name": "python3"
  },
  "language_info": {
   "codemirror_mode": {
    "name": "ipython",
    "version": 3
   },
   "file_extension": ".py",
   "mimetype": "text/x-python",
   "name": "python",
   "nbconvert_exporter": "python",
   "pygments_lexer": "ipython3",
   "version": "3.12.4"
  }
 },
 "nbformat": 4,
 "nbformat_minor": 2
}
