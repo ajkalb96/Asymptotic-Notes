{
 "cells": [
  {
   "cell_type": "code",
   "execution_count": 1,
   "metadata": {},
   "outputs": [],
   "source": [
    "from sympy import *\n",
    "#import matplotlib.pyplot as plt\n",
    "#import numpy as np\n",
    "from IPython.display import display\n",
    "init_printing(use_latex='mathjax')\n",
    "\n",
    "def clean(expr):\n",
    "    funcs = expr.atoms(Function)\n",
    "    reps = {}\n",
    "    for f in funcs:\n",
    "        reps[f] = Symbol(f.name)\n",
    "    return expr.subs(reps)\n",
    "\n",
    "def clean_dict(d):\n",
    "    return {k:clean(v) for k,v in d.items()}"
   ]
  },
  {
   "cell_type": "markdown",
   "metadata": {},
   "source": [
    "# IMMD\n",
    "\n",
    "This notebook is used to demonstrate how the method of multiples scales is used in an actual research environment.\n",
    "\n",
    "This represents the bulk of the calculations in deriving the epynomous model of \"Intraseaonsal Multi-Scale Moist Dynamics of the Tropical Troposhere,\" by Biello and Majda (2010) which can be found in section 3 and through Appendix A of the paper. This code exemplifies how such asymptotic methods can be automated."
   ]
  },
  {
   "cell_type": "code",
   "execution_count": 2,
   "metadata": {},
   "outputs": [
    {
     "data": {
      "text/latex": [
       "$\\displaystyle U y + \\frac{d}{d y} P$"
      ],
      "text/plain": [
       "      d    \n",
       "U⋅y + ──(P)\n",
       "      dy   "
      ]
     },
     "metadata": {},
     "output_type": "display_data"
    },
    {
     "data": {
      "text/latex": [
       "$\\displaystyle - \\Theta + \\frac{d}{d z} P$"
      ],
      "text/plain": [
       "     d    \n",
       "-Θ + ──(P)\n",
       "     dz   "
      ]
     },
     "metadata": {},
     "output_type": "display_data"
    }
   ],
   "source": [
    "#create variables (3.1ff)\n",
    "epsilon = symbols('epsilon')\n",
    "drag = {'u':symbols('d_u'),'theta':symbols('d_\\\\theta')}\n",
    "x, X, y, t, T, z = symbols('x X y t T z')\n",
    "\n",
    "#Create functions (3.3 and 3.7)\n",
    "fields = ['u','v','w','p','\\\\theta','H']\n",
    "big = {c: Function(f'{c.upper()}')(X,T,y,z) for c in fields}\n",
    "mean = {c: Function(f'\\\\langle\\\\bar {c}\\\\rangle')(X,T,y,z) for c in fields}\n",
    "#two ways of defining the perturbation terms\n",
    "tilde = {c: Function(f'\\\\tilde{{ {c} }} ')(X,t,T,y,z) for c in fields}\n",
    "pert = {c: Function(f'{c}_1')(x,X,t,T,y,z) for c in fields}\n",
    "#tilde = {c: 0 for c in fields}\n",
    "#pert = {c: Function(f'{c}_1^*')(x,X,t,T,y,z) for c in fields}\n",
    "o2 = {c: Function(f'{c}_2')(x,X,t,T,y,z) for c in fields}\n",
    "\n",
    "#Helper function to allow for these to be removed from expansions by operations\n",
    "#used to emulate the filtering by (3.8-3.11)\n",
    "s_filter = lambda d: {v:0 for v in d.values()}\n",
    "\n",
    "#define the expansions (3.7)\n",
    "u = big['u'] + epsilon*(tilde['u'] + pert['u'] + mean['u']) + epsilon**2*o2['u']\n",
    "v = epsilon*(tilde['v'] + pert['v'] + mean['v']) + epsilon**2*o2['v']\n",
    "w = epsilon*(tilde['w'] + pert['w'] + mean['w']) + epsilon**2*o2['w']\n",
    "p = big['p'] + epsilon*(tilde['p'] + pert['p'] + mean['p']) + epsilon**2*o2['p']\n",
    "H = (tilde['H'] + pert['H'] + mean['H']) + epsilon**2*o2['H']\n",
    "theta = Function('Theta')(X,T,y,z) + \\\n",
    "        epsilon*(tilde['\\\\theta'] + pert['\\\\theta'] + mean['\\\\theta']) + epsilon**2*o2['\\\\theta']\n",
    "#display(u,v,w,p,theta)\n",
    "\n",
    "#define Derivatives (3.6, 3.15)\n",
    "ddx = lambda f: f.diff(x) + epsilon*f.diff(X)\n",
    "ddy = lambda f: f.diff(y)\n",
    "ddz = lambda f: f.diff(z)\n",
    "ddt = lambda f: f.diff(t) + epsilon*f.diff(T)\n",
    "DDt = lambda f: ddt(f) + u*ddx(f) + v*ddy(f) + w*ddz(f)\n",
    "cor = lambda f: y*f\n",
    "\n",
    "#define the equations (3.2)\n",
    "eqns = []\n",
    "eqns.append(DDt(u) - cor(v) + ddx(p) + epsilon*drag['u']*u)\n",
    "eqns.append(DDt(v) + cor(u) + ddy(p) + epsilon*drag['u']*v)\n",
    "eqns.append(DDt(theta) + w - epsilon*H + epsilon*drag['theta']*theta)\n",
    "eqns.append(ddz(p) - theta)\n",
    "eqns.append(ddx(u) + ddy(v) + ddz(w))\n",
    "\n",
    "eqns = [eqn.expand().collect(epsilon,evaluate=False) for eqn in eqns]\n",
    "\n",
    "#Display O(1) eqns (3.12)\n",
    "for eqn in eqns:\n",
    "    if 1 in eqn.keys():\n",
    "        display(clean(eqn[1]))\n"
   ]
  },
  {
   "cell_type": "code",
   "execution_count": 3,
   "metadata": {},
   "outputs": [
    {
     "data": {
      "text/latex": [
       "$\\displaystyle U d_{u} + U \\frac{d}{d X} U - \\langle\\bar v\\rangle y + \\langle\\bar v\\rangle \\frac{d}{d y} U + \\langle\\bar w\\rangle \\frac{d}{d z} U + \\frac{d}{d X} P + \\frac{d}{d T} U$"
      ],
      "text/plain": [
       "         d                                                     d               ↪\n",
       "U⋅dᵤ + U⋅──(U) - \\langle\\bar v\\rangle⋅y + \\langle\\bar v\\rangle⋅──(U) + \\langle ↪\n",
       "         dX                                                    dy              ↪\n",
       "\n",
       "↪               d       d       d    \n",
       "↪ \\bar w\\rangle⋅──(U) + ──(P) + ──(U)\n",
       "↪               dz      dX      dT   "
      ]
     },
     "metadata": {},
     "output_type": "display_data"
    },
    {
     "data": {
      "text/latex": [
       "$\\displaystyle \\langle\\bar u\\rangle y + \\frac{d}{d y} \\langle\\bar p\\rangle$"
      ],
      "text/plain": [
       "                         d                       \n",
       "\\langle\\bar u\\rangle⋅y + ──(\\langle\\bar p\\rangle)\n",
       "                         dy                      "
      ]
     },
     "metadata": {},
     "output_type": "display_data"
    },
    {
     "data": {
      "text/latex": [
       "$\\displaystyle \\Theta d_{\\theta} + U \\frac{d}{d X} \\Theta - \\langle\\bar H\\rangle + \\langle\\bar v\\rangle \\frac{d}{d y} \\Theta + \\langle\\bar w\\rangle \\frac{d}{d z} \\Theta + \\langle\\bar w\\rangle + \\frac{d}{d T} \\Theta$"
      ],
      "text/plain": [
       "               d                                                   d           ↪\n",
       "Θ⋅d_\\theta + U⋅──(Θ) - \\langle\\bar H\\rangle + \\langle\\bar v\\rangle⋅──(Θ) + \\la ↪\n",
       "               dX                                                  dy          ↪\n",
       "\n",
       "↪                   d                              d    \n",
       "↪ ngle\\bar w\\rangle⋅──(Θ) + \\langle\\bar w\\rangle + ──(Θ)\n",
       "↪                   dz                             dT   "
      ]
     },
     "metadata": {},
     "output_type": "display_data"
    },
    {
     "data": {
      "text/latex": [
       "$\\displaystyle - \\langle\\bar \\theta\\rangle + \\frac{d}{d z} \\langle\\bar p\\rangle$"
      ],
      "text/plain": [
       "                             d                       \n",
       "-\\langle\\bar \\theta\\rangle + ──(\\langle\\bar p\\rangle)\n",
       "                             dz                      "
      ]
     },
     "metadata": {},
     "output_type": "display_data"
    },
    {
     "data": {
      "text/latex": [
       "$\\displaystyle \\frac{d}{d X} U + \\frac{d}{d y} \\langle\\bar v\\rangle + \\frac{d}{d z} \\langle\\bar w\\rangle$"
      ],
      "text/plain": [
       "d       d                          d                       \n",
       "──(U) + ──(\\langle\\bar v\\rangle) + ──(\\langle\\bar w\\rangle)\n",
       "dX      dy                         dz                      "
      ]
     },
     "metadata": {},
     "output_type": "display_data"
    }
   ],
   "source": [
    "#Compute O(epsilon) eqns, display mean equations (3.13)\n",
    "mean_eqns = []\n",
    "pert_eqns = []\n",
    "tilde_eqns = []\n",
    "for eqn in eqns:\n",
    "    #filter terms simulate the averaging process\n",
    "    mean_eqn = eqn[epsilon].subs(s_filter(pert)|s_filter(tilde)).simplify()\n",
    "    pert_eqn = (eqn[epsilon] - mean_eqn).subs(s_filter(tilde)).simplify()\n",
    "    tilde_eqn = (eqn[epsilon] - mean_eqn - pert_eqn).simplify()\n",
    "    mean_eqns.append(mean_eqn)\n",
    "    pert_eqns.append(pert_eqn)\n",
    "    tilde_eqns.append(tilde_eqn)\n",
    "    display(clean(mean_eqn))"
   ]
  },
  {
   "cell_type": "markdown",
   "metadata": {},
   "source": [
    "We note that Equation (3.14) is not used in the above output, but could be done using a subs call (Exercise: implement this)"
   ]
  },
  {
   "cell_type": "code",
   "execution_count": 4,
   "metadata": {},
   "outputs": [
    {
     "data": {
      "text/latex": [
       "$\\displaystyle U \\frac{d}{d x} u_{1} - v_{1} y + v_{1} \\frac{d}{d y} U + w_{1} \\frac{d}{d z} U + \\frac{d}{d x} p_{1} + \\frac{d}{d t} u_{1}$"
      ],
      "text/plain": [
       "  d                  d          d       d        d     \n",
       "U⋅──(u₁) - v₁⋅y + v₁⋅──(U) + w₁⋅──(U) + ──(p₁) + ──(u₁)\n",
       "  dx                 dy         dz      dx       dt    "
      ]
     },
     "metadata": {},
     "output_type": "display_data"
    },
    {
     "data": {
      "text/latex": [
       "$\\displaystyle U \\frac{d}{d x} v_{1} + u_{1} y + \\frac{d}{d y} p_{1} + \\frac{d}{d t} v_{1}$"
      ],
      "text/plain": [
       "  d               d        d     \n",
       "U⋅──(v₁) + u₁⋅y + ──(p₁) + ──(v₁)\n",
       "  dx              dy       dt    "
      ]
     },
     "metadata": {},
     "output_type": "display_data"
    },
    {
     "data": {
      "text/latex": [
       "$\\displaystyle - H_{1} + U \\frac{d}{d x} \\theta_{1} + v_{1} \\frac{d}{d y} \\Theta + w_{1} \\frac{d}{d z} \\Theta + w_{1} + \\frac{d}{d t} \\theta_{1}$"
      ],
      "text/plain": [
       "        d                d          d            d          \n",
       "-H₁ + U⋅──(\\theta₁) + v₁⋅──(Θ) + w₁⋅──(Θ) + w₁ + ──(\\theta₁)\n",
       "        dx               dy         dz           dt         "
      ]
     },
     "metadata": {},
     "output_type": "display_data"
    },
    {
     "data": {
      "text/latex": [
       "$\\displaystyle - \\theta_{1} + \\frac{d}{d z} p_{1}$"
      ],
      "text/plain": [
       "           d     \n",
       "-\\theta₁ + ──(p₁)\n",
       "           dz    "
      ]
     },
     "metadata": {},
     "output_type": "display_data"
    },
    {
     "data": {
      "text/latex": [
       "$\\displaystyle \\frac{d}{d x} u_{1} + \\frac{d}{d y} v_{1} + \\frac{d}{d z} w_{1}$"
      ],
      "text/plain": [
       "d        d        d     \n",
       "──(u₁) + ──(v₁) + ──(w₁)\n",
       "dx       dy       dz    "
      ]
     },
     "metadata": {},
     "output_type": "display_data"
    }
   ],
   "source": [
    "#Display perturbation O(epsilon) eqns (3.16)\n",
    "for eqn in pert_eqns:\n",
    "    display(clean(eqn))"
   ]
  },
  {
   "cell_type": "code",
   "execution_count": 5,
   "metadata": {},
   "outputs": [
    {
     "data": {
      "text/latex": [
       "$\\displaystyle - \\tilde{ v }  y + \\tilde{ v }  \\frac{d}{d y} U + \\tilde{ w }  \\frac{d}{d z} U + \\frac{d}{d t} \\tilde{ u } $"
      ],
      "text/plain": [
       "                               d                    d       d               \n",
       "-\\tilde{ v } ⋅y + \\tilde{ v } ⋅──(U) + \\tilde{ w } ⋅──(U) + ──(\\tilde{ u } )\n",
       "                               dy                   dz      dt              "
      ]
     },
     "metadata": {},
     "output_type": "display_data"
    },
    {
     "data": {
      "text/latex": [
       "$\\displaystyle \\tilde{ u }  y + \\frac{d}{d y} \\tilde{ p }  + \\frac{d}{d t} \\tilde{ v } $"
      ],
      "text/plain": [
       "                 d                  d               \n",
       "\\tilde{ u } ⋅y + ──(\\tilde{ p } ) + ──(\\tilde{ v } )\n",
       "                 dy                 dt              "
      ]
     },
     "metadata": {},
     "output_type": "display_data"
    },
    {
     "data": {
      "text/latex": [
       "$\\displaystyle - \\tilde{ H }  + \\tilde{ v }  \\frac{d}{d y} \\Theta + \\tilde{ w }  \\frac{d}{d z} \\Theta + \\tilde{ w }  + \\frac{d}{d t} \\tilde{ \\theta } $"
      ],
      "text/plain": [
       "                             d                    d                      d     ↪\n",
       "-\\tilde{ H }  + \\tilde{ v } ⋅──(Θ) + \\tilde{ w } ⋅──(Θ) + \\tilde{ w }  + ──(\\t ↪\n",
       "                             dy                   dz                     dt    ↪\n",
       "\n",
       "↪                 \n",
       "↪ ilde{ \\theta } )\n",
       "↪                 "
      ]
     },
     "metadata": {},
     "output_type": "display_data"
    },
    {
     "data": {
      "text/latex": [
       "$\\displaystyle - \\tilde{ \\theta }  + \\frac{d}{d z} \\tilde{ p } $"
      ],
      "text/plain": [
       "                     d               \n",
       "-\\tilde{ \\theta }  + ──(\\tilde{ p } )\n",
       "                     dz              "
      ]
     },
     "metadata": {},
     "output_type": "display_data"
    },
    {
     "data": {
      "text/latex": [
       "$\\displaystyle \\frac{d}{d y} \\tilde{ v }  + \\frac{d}{d z} \\tilde{ w } $"
      ],
      "text/plain": [
       "d                  d               \n",
       "──(\\tilde{ v } ) + ──(\\tilde{ w } )\n",
       "dy                 dz              "
      ]
     },
     "metadata": {},
     "output_type": "display_data"
    }
   ],
   "source": [
    "#Display tilde O(epsilon) eqns (3.18)\n",
    "for eqn in tilde_eqns:\n",
    "    display(clean(eqn))"
   ]
  },
  {
   "cell_type": "markdown",
   "metadata": {},
   "source": [
    "At the $O(\\epsilon^2)$ equations the raw output starts to appear a bit different from (3.19ff) Some of this can be attributed to different notations, the usage of incompressibility, but we first present the spatio-temporal average in (3.23) plus (3.22)"
   ]
  },
  {
   "cell_type": "code",
   "execution_count": 6,
   "metadata": {},
   "outputs": [
    {
     "data": {
      "text/latex": [
       "$\\displaystyle U \\frac{d}{d X} \\langle\\bar u\\rangle + U \\frac{d}{d x} u_{2} + \\langle\\bar u\\rangle d_{u} + \\langle\\bar u\\rangle \\frac{d}{d X} U + \\langle\\bar v\\rangle \\frac{d}{d y} \\langle\\bar u\\rangle + \\langle\\bar w\\rangle \\frac{d}{d z} \\langle\\bar u\\rangle - v_{2} y + v_{2} \\frac{d}{d y} U + w_{2} \\frac{d}{d z} U + \\frac{d}{d X} \\langle\\bar p\\rangle + \\frac{d}{d T} \\langle\\bar u\\rangle + \\frac{d}{d x} p_{2} + \\frac{d}{d t} u_{2}$"
      ],
      "text/plain": [
       "  d                            d                                               ↪\n",
       "U⋅──(\\langle\\bar u\\rangle) + U⋅──(u₂) + \\langle\\bar u\\rangle⋅dᵤ + \\langle\\bar  ↪\n",
       "  dX                           dx                                              ↪\n",
       "\n",
       "↪          d                            d                                      ↪\n",
       "↪ u\\rangle⋅──(U) + \\langle\\bar v\\rangle⋅──(\\langle\\bar u\\rangle) + \\langle\\bar ↪\n",
       "↪          dX                           dy                                     ↪\n",
       "\n",
       "↪           d                                    d          d       d          ↪\n",
       "↪  w\\rangle⋅──(\\langle\\bar u\\rangle) - v₂⋅y + v₂⋅──(U) + w₂⋅──(U) + ──(\\langle ↪\n",
       "↪           dz                                   dy         dz      dX         ↪\n",
       "\n",
       "↪                  d                          d        d     \n",
       "↪ \\bar p\\rangle) + ──(\\langle\\bar u\\rangle) + ──(p₂) + ──(u₂)\n",
       "↪                  dT                         dx       dt    "
      ]
     },
     "metadata": {},
     "output_type": "display_data"
    },
    {
     "data": {
      "text/latex": [
       "$\\displaystyle U \\frac{d}{d X} \\langle\\bar v\\rangle + U \\frac{d}{d x} v_{2} + \\langle\\bar v\\rangle d_{u} + \\langle\\bar v\\rangle \\frac{d}{d y} \\langle\\bar v\\rangle + \\langle\\bar w\\rangle \\frac{d}{d z} \\langle\\bar v\\rangle + u_{2} y + \\frac{d}{d T} \\langle\\bar v\\rangle + \\frac{d}{d y} p_{2} + \\frac{d}{d t} v_{2}$"
      ],
      "text/plain": [
       "  d                            d                                               ↪\n",
       "U⋅──(\\langle\\bar v\\rangle) + U⋅──(v₂) + \\langle\\bar v\\rangle⋅dᵤ + \\langle\\bar  ↪\n",
       "  dX                           dx                                              ↪\n",
       "\n",
       "↪          d                                               d                   ↪\n",
       "↪ v\\rangle⋅──(\\langle\\bar v\\rangle) + \\langle\\bar w\\rangle⋅──(\\langle\\bar v\\ra ↪\n",
       "↪          dy                                              dz                  ↪\n",
       "\n",
       "↪                d                          d        d     \n",
       "↪ ngle) + u₂⋅y + ──(\\langle\\bar v\\rangle) + ──(p₂) + ──(v₂)\n",
       "↪                dT                         dy       dt    "
      ]
     },
     "metadata": {},
     "output_type": "display_data"
    },
    {
     "data": {
      "text/latex": [
       "$\\displaystyle U \\frac{d}{d X} \\langle\\bar \\theta\\rangle + U \\frac{d}{d x} \\theta_{2} + \\langle\\bar \\theta\\rangle d_{\\theta} + \\langle\\bar u\\rangle \\frac{d}{d X} \\Theta + \\langle\\bar v\\rangle \\frac{d}{d y} \\langle\\bar \\theta\\rangle + \\langle\\bar w\\rangle \\frac{d}{d z} \\langle\\bar \\theta\\rangle + v_{2} \\frac{d}{d y} \\Theta + w_{2} \\frac{d}{d z} \\Theta + w_{2} + \\frac{d}{d T} \\langle\\bar \\theta\\rangle + \\frac{d}{d t} \\theta_{2}$"
      ],
      "text/plain": [
       "  d                                 d                                          ↪\n",
       "U⋅──(\\langle\\bar \\theta\\rangle) + U⋅──(\\theta₂) + \\langle\\bar \\theta\\rangle⋅d_ ↪\n",
       "  dX                                dx                                         ↪\n",
       "\n",
       "↪                               d                            d                 ↪\n",
       "↪ \\theta + \\langle\\bar u\\rangle⋅──(Θ) + \\langle\\bar v\\rangle⋅──(\\langle\\bar \\t ↪\n",
       "↪                               dX                           dy                ↪\n",
       "\n",
       "↪                                     d                                  d     ↪\n",
       "↪ heta\\rangle) + \\langle\\bar w\\rangle⋅──(\\langle\\bar \\theta\\rangle) + v₂⋅──(Θ) ↪\n",
       "↪                                     dz                                 dy    ↪\n",
       "\n",
       "↪       d            d                               d          \n",
       "↪  + w₂⋅──(Θ) + w₂ + ──(\\langle\\bar \\theta\\rangle) + ──(\\theta₂)\n",
       "↪       dz           dT                              dt         "
      ]
     },
     "metadata": {},
     "output_type": "display_data"
    },
    {
     "data": {
      "text/latex": [
       "$\\displaystyle - \\theta_{2} + \\frac{d}{d z} p_{2}$"
      ],
      "text/plain": [
       "           d     \n",
       "-\\theta₂ + ──(p₂)\n",
       "           dz    "
      ]
     },
     "metadata": {},
     "output_type": "display_data"
    },
    {
     "data": {
      "text/latex": [
       "$\\displaystyle \\frac{d}{d X} \\langle\\bar u\\rangle + \\frac{d}{d x} u_{2} + \\frac{d}{d y} v_{2} + \\frac{d}{d z} w_{2}$"
      ],
      "text/plain": [
       "d                          d        d        d     \n",
       "──(\\langle\\bar u\\rangle) + ──(u₂) + ──(v₂) + ──(w₂)\n",
       "dX                         dx       dy       dz    "
      ]
     },
     "metadata": {},
     "output_type": "display_data"
    }
   ],
   "source": [
    "#Display O(epsilon^2) eqns\n",
    "fluxes = [] \n",
    "for eqn in eqns:\n",
    "    cond = eqn[epsilon**2].subs(s_filter(tilde)|s_filter(pert)).simplify()\n",
    "    fluxes.append((eqn[epsilon**2]-cond).simplify())\n",
    "    display(clean(cond))"
   ]
  },
  {
   "cell_type": "markdown",
   "metadata": {},
   "source": [
    "Followed by all the remaining nonlinear terms. Most of these would be negated by the averaging process leaving only the fluxes, but unfortunately this must be done by hand. Even so, then end results of the hand-computed fluxes could readily be copy-pasted from the notebook into some $\\LaTeX$ or equivalent document with all negated terms simply deleted, which is achieved in the commented line."
   ]
  },
  {
   "cell_type": "code",
   "execution_count": 13,
   "metadata": {},
   "outputs": [
    {
     "data": {
      "text/latex": [
       "$\\displaystyle U \\frac{d}{d X} \\tilde{ u }  + U \\frac{d}{d X} u_{1} + \\langle\\bar u\\rangle \\frac{d}{d x} u_{1} + \\langle\\bar v\\rangle \\frac{d}{d y} \\tilde{ u }  + \\langle\\bar v\\rangle \\frac{d}{d y} u_{1} + \\langle\\bar w\\rangle \\frac{d}{d z} \\tilde{ u }  + \\langle\\bar w\\rangle \\frac{d}{d z} u_{1} + \\tilde{ u }  d_{u} + \\tilde{ u }  \\frac{d}{d X} U + \\tilde{ u }  \\frac{d}{d x} u_{1} + \\tilde{ v }  \\frac{d}{d y} \\langle\\bar u\\rangle + \\tilde{ v }  \\frac{d}{d y} \\tilde{ u }  + \\tilde{ v }  \\frac{d}{d y} u_{1} + \\tilde{ w }  \\frac{d}{d z} \\langle\\bar u\\rangle + \\tilde{ w }  \\frac{d}{d z} \\tilde{ u }  + \\tilde{ w }  \\frac{d}{d z} u_{1} + d_{u} u_{1} + u_{1} \\frac{d}{d X} U + u_{1} \\frac{d}{d x} u_{1} + v_{1} \\frac{d}{d y} \\langle\\bar u\\rangle + v_{1} \\frac{d}{d y} \\tilde{ u }  + v_{1} \\frac{d}{d y} u_{1} + w_{1} \\frac{d}{d z} \\langle\\bar u\\rangle + w_{1} \\frac{d}{d z} \\tilde{ u }  + w_{1} \\frac{d}{d z} u_{1} + \\frac{d}{d X} \\tilde{ p }  + \\frac{d}{d T} \\tilde{ u }  + \\frac{d}{d X} p_{1} + \\frac{d}{d T} u_{1}$"
      ],
      "text/plain": [
       "  d                    d                             d                         ↪\n",
       "U⋅──(\\tilde{ u } ) + U⋅──(u₁) + \\langle\\bar u\\rangle⋅──(u₁) + \\langle\\bar v\\ra ↪\n",
       "  dX                   dX                            dx                        ↪\n",
       "\n",
       "↪      d                                       d                             d ↪\n",
       "↪ ngle⋅──(\\tilde{ u } ) + \\langle\\bar v\\rangle⋅──(u₁) + \\langle\\bar w\\rangle⋅─ ↪\n",
       "↪      dy                                      dy                            d ↪\n",
       "\n",
       "↪                                        d                                     ↪\n",
       "↪ ─(\\tilde{ u } ) + \\langle\\bar w\\rangle⋅──(u₁) + \\tilde{ u } ⋅dᵤ + \\tilde{ u  ↪\n",
       "↪ z                                      dz                                    ↪\n",
       "\n",
       "↪    d                    d                     d                              ↪\n",
       "↪ } ⋅──(U) + \\tilde{ u } ⋅──(u₁) + \\tilde{ v } ⋅──(\\langle\\bar u\\rangle) + \\ti ↪\n",
       "↪    dX                   dx                    dy                             ↪\n",
       "\n",
       "↪           d                               d                     d            ↪\n",
       "↪ lde{ v } ⋅──(\\tilde{ u } ) + \\tilde{ v } ⋅──(u₁) + \\tilde{ w } ⋅──(\\langle\\b ↪\n",
       "↪           dy                              dy                    dz           ↪\n",
       "\n",
       "↪                             d                               d                ↪\n",
       "↪ ar u\\rangle) + \\tilde{ w } ⋅──(\\tilde{ u } ) + \\tilde{ w } ⋅──(u₁) + dᵤ⋅u₁ + ↪\n",
       "↪                             dz                              dz               ↪\n",
       "\n",
       "↪     d          d           d                             d                   ↪\n",
       "↪  u₁⋅──(U) + u₁⋅──(u₁) + v₁⋅──(\\langle\\bar u\\rangle) + v₁⋅──(\\tilde{ u } ) +  ↪\n",
       "↪     dX         dx          dy                            dy                  ↪\n",
       "\n",
       "↪    d           d                             d                     d         ↪\n",
       "↪ v₁⋅──(u₁) + w₁⋅──(\\langle\\bar u\\rangle) + w₁⋅──(\\tilde{ u } ) + w₁⋅──(u₁) +  ↪\n",
       "↪    dy          dz                            dz                    dz        ↪\n",
       "\n",
       "↪ d                  d                  d        d     \n",
       "↪ ──(\\tilde{ p } ) + ──(\\tilde{ u } ) + ──(p₁) + ──(u₁)\n",
       "↪ dX                 dT                 dX       dT    "
      ]
     },
     "metadata": {},
     "output_type": "display_data"
    },
    {
     "data": {
      "text/latex": [
       "$\\displaystyle U \\frac{d}{d X} \\tilde{ v }  + U \\frac{d}{d X} v_{1} + \\langle\\bar u\\rangle \\frac{d}{d x} v_{1} + \\langle\\bar v\\rangle \\frac{d}{d y} \\tilde{ v }  + \\langle\\bar v\\rangle \\frac{d}{d y} v_{1} + \\langle\\bar w\\rangle \\frac{d}{d z} \\tilde{ v }  + \\langle\\bar w\\rangle \\frac{d}{d z} v_{1} + \\tilde{ u }  \\frac{d}{d x} v_{1} + \\tilde{ v }  d_{u} + \\tilde{ v }  \\frac{d}{d y} \\langle\\bar v\\rangle + \\tilde{ v }  \\frac{d}{d y} \\tilde{ v }  + \\tilde{ v }  \\frac{d}{d y} v_{1} + \\tilde{ w }  \\frac{d}{d z} \\langle\\bar v\\rangle + \\tilde{ w }  \\frac{d}{d z} \\tilde{ v }  + \\tilde{ w }  \\frac{d}{d z} v_{1} + d_{u} v_{1} + u_{1} \\frac{d}{d x} v_{1} + v_{1} \\frac{d}{d y} \\langle\\bar v\\rangle + v_{1} \\frac{d}{d y} \\tilde{ v }  + v_{1} \\frac{d}{d y} v_{1} + w_{1} \\frac{d}{d z} \\langle\\bar v\\rangle + w_{1} \\frac{d}{d z} \\tilde{ v }  + w_{1} \\frac{d}{d z} v_{1} + \\frac{d}{d T} \\tilde{ v }  + \\frac{d}{d T} v_{1}$"
      ],
      "text/plain": [
       "  d                    d                             d                         ↪\n",
       "U⋅──(\\tilde{ v } ) + U⋅──(v₁) + \\langle\\bar u\\rangle⋅──(v₁) + \\langle\\bar v\\ra ↪\n",
       "  dX                   dX                            dx                        ↪\n",
       "\n",
       "↪      d                                       d                             d ↪\n",
       "↪ ngle⋅──(\\tilde{ v } ) + \\langle\\bar v\\rangle⋅──(v₁) + \\langle\\bar w\\rangle⋅─ ↪\n",
       "↪      dy                                      dy                            d ↪\n",
       "\n",
       "↪                                        d                     d               ↪\n",
       "↪ ─(\\tilde{ v } ) + \\langle\\bar w\\rangle⋅──(v₁) + \\tilde{ u } ⋅──(v₁) + \\tilde ↪\n",
       "↪ z                                      dz                    dx              ↪\n",
       "\n",
       "↪                          d                                       d           ↪\n",
       "↪ { v } ⋅dᵤ + \\tilde{ v } ⋅──(\\langle\\bar v\\rangle) + \\tilde{ v } ⋅──(\\tilde{  ↪\n",
       "↪                          dy                                      dy          ↪\n",
       "\n",
       "↪                      d                     d                                 ↪\n",
       "↪ v } ) + \\tilde{ v } ⋅──(v₁) + \\tilde{ w } ⋅──(\\langle\\bar v\\rangle) + \\tilde ↪\n",
       "↪                      dy                    dz                                ↪\n",
       "\n",
       "↪        d                               d                   d           d     ↪\n",
       "↪ { w } ⋅──(\\tilde{ v } ) + \\tilde{ w } ⋅──(v₁) + dᵤ⋅v₁ + u₁⋅──(v₁) + v₁⋅──(\\l ↪\n",
       "↪        dz                              dz                  dx          dy    ↪\n",
       "\n",
       "↪                          d                     d           d                 ↪\n",
       "↪ angle\\bar v\\rangle) + v₁⋅──(\\tilde{ v } ) + v₁⋅──(v₁) + w₁⋅──(\\langle\\bar v\\ ↪\n",
       "↪                          dy                    dy          dz                ↪\n",
       "\n",
       "↪              d                     d        d                  d     \n",
       "↪ rangle) + w₁⋅──(\\tilde{ v } ) + w₁⋅──(v₁) + ──(\\tilde{ v } ) + ──(v₁)\n",
       "↪              dz                    dz       dT                 dT    "
      ]
     },
     "metadata": {},
     "output_type": "display_data"
    },
    {
     "data": {
      "text/latex": [
       "$\\displaystyle U \\frac{d}{d X} \\theta_{1} + U \\frac{d}{d X} \\tilde{ \\theta }  + \\langle\\bar u\\rangle \\frac{d}{d x} \\theta_{1} + \\langle\\bar v\\rangle \\frac{d}{d y} \\theta_{1} + \\langle\\bar v\\rangle \\frac{d}{d y} \\tilde{ \\theta }  + \\langle\\bar w\\rangle \\frac{d}{d z} \\theta_{1} + \\langle\\bar w\\rangle \\frac{d}{d z} \\tilde{ \\theta }  + \\theta_{1} d_{\\theta} + \\tilde{ \\theta }  d_{\\theta} + \\tilde{ u }  \\frac{d}{d X} \\Theta + \\tilde{ u }  \\frac{d}{d x} \\theta_{1} + \\tilde{ v }  \\frac{d}{d y} \\langle\\bar \\theta\\rangle + \\tilde{ v }  \\frac{d}{d y} \\theta_{1} + \\tilde{ v }  \\frac{d}{d y} \\tilde{ \\theta }  + \\tilde{ w }  \\frac{d}{d z} \\langle\\bar \\theta\\rangle + \\tilde{ w }  \\frac{d}{d z} \\theta_{1} + \\tilde{ w }  \\frac{d}{d z} \\tilde{ \\theta }  + u_{1} \\frac{d}{d X} \\Theta + u_{1} \\frac{d}{d x} \\theta_{1} + v_{1} \\frac{d}{d y} \\langle\\bar \\theta\\rangle + v_{1} \\frac{d}{d y} \\theta_{1} + v_{1} \\frac{d}{d y} \\tilde{ \\theta }  + w_{1} \\frac{d}{d z} \\langle\\bar \\theta\\rangle + w_{1} \\frac{d}{d z} \\theta_{1} + w_{1} \\frac{d}{d z} \\tilde{ \\theta }  + \\frac{d}{d T} \\theta_{1} + \\frac{d}{d T} \\tilde{ \\theta } $"
      ],
      "text/plain": [
       "  d               d                                            d               ↪\n",
       "U⋅──(\\theta₁) + U⋅──(\\tilde{ \\theta } ) + \\langle\\bar u\\rangle⋅──(\\theta₁) + \\ ↪\n",
       "  dX              dX                                           dx              ↪\n",
       "\n",
       "↪                     d                                  d                     ↪\n",
       "↪ langle\\bar v\\rangle⋅──(\\theta₁) + \\langle\\bar v\\rangle⋅──(\\tilde{ \\theta } ) ↪\n",
       "↪                     dy                                 dy                    ↪\n",
       "\n",
       "↪                         d                                  d                 ↪\n",
       "↪  + \\langle\\bar w\\rangle⋅──(\\theta₁) + \\langle\\bar w\\rangle⋅──(\\tilde{ \\theta ↪\n",
       "↪                         dz                                 dz                ↪\n",
       "\n",
       "↪                                                                     d        ↪\n",
       "↪  } ) + \\theta₁⋅d_\\theta + \\tilde{ \\theta } ⋅d_\\theta + \\tilde{ u } ⋅──(Θ) +  ↪\n",
       "↪                                                                     dX       ↪\n",
       "\n",
       "↪              d                          d                                    ↪\n",
       "↪ \\tilde{ u } ⋅──(\\theta₁) + \\tilde{ v } ⋅──(\\langle\\bar \\theta\\rangle) + \\til ↪\n",
       "↪              dx                         dy                                   ↪\n",
       "\n",
       "↪          d                          d                                    d   ↪\n",
       "↪ de{ v } ⋅──(\\theta₁) + \\tilde{ v } ⋅──(\\tilde{ \\theta } ) + \\tilde{ w } ⋅──( ↪\n",
       "↪          dy                         dy                                   dz  ↪\n",
       "\n",
       "↪                                           d                          d       ↪\n",
       "↪ \\langle\\bar \\theta\\rangle) + \\tilde{ w } ⋅──(\\theta₁) + \\tilde{ w } ⋅──(\\til ↪\n",
       "↪                                           dz                         dz      ↪\n",
       "\n",
       "↪                     d          d                d                            ↪\n",
       "↪ de{ \\theta } ) + u₁⋅──(Θ) + u₁⋅──(\\theta₁) + v₁⋅──(\\langle\\bar \\theta\\rangle ↪\n",
       "↪                     dX         dx               dy                           ↪\n",
       "\n",
       "↪        d                d                          d                         ↪\n",
       "↪ ) + v₁⋅──(\\theta₁) + v₁⋅──(\\tilde{ \\theta } ) + w₁⋅──(\\langle\\bar \\theta\\ran ↪\n",
       "↪        dy               dy                         dz                        ↪\n",
       "\n",
       "↪           d                d                       d             d           ↪\n",
       "↪ gle) + w₁⋅──(\\theta₁) + w₁⋅──(\\tilde{ \\theta } ) + ──(\\theta₁) + ──(\\tilde{  ↪\n",
       "↪           dz               dz                      dT            dT          ↪\n",
       "\n",
       "↪           \n",
       "↪ \\theta } )\n",
       "↪           "
      ]
     },
     "metadata": {},
     "output_type": "display_data"
    },
    {
     "data": {
      "text/latex": [
       "$\\displaystyle 0$"
      ],
      "text/plain": [
       "0"
      ]
     },
     "metadata": {},
     "output_type": "display_data"
    },
    {
     "data": {
      "text/latex": [
       "$\\displaystyle \\frac{d}{d X} \\tilde{ u }  + \\frac{d}{d X} u_{1}$"
      ],
      "text/plain": [
       "d                  d     \n",
       "──(\\tilde{ u } ) + ──(u₁)\n",
       "dX                 dX    "
      ]
     },
     "metadata": {},
     "output_type": "display_data"
    }
   ],
   "source": [
    "for flux in fluxes:\n",
    "    display(clean(flux))\n",
    "    #print(latex(clean(flux)))"
   ]
  },
  {
   "cell_type": "code",
   "execution_count": null,
   "metadata": {},
   "outputs": [],
   "source": []
  }
 ],
 "metadata": {
  "kernelspec": {
   "display_name": "Python 3",
   "language": "python",
   "name": "python3"
  },
  "language_info": {
   "codemirror_mode": {
    "name": "ipython",
    "version": 3
   },
   "file_extension": ".py",
   "mimetype": "text/x-python",
   "name": "python",
   "nbconvert_exporter": "python",
   "pygments_lexer": "ipython3",
   "version": "3.12.4"
  }
 },
 "nbformat": 4,
 "nbformat_minor": 2
}
