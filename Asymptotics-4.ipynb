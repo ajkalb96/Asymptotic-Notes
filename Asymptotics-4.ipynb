{
 "cells": [
  {
   "cell_type": "code",
   "execution_count": 3,
   "metadata": {},
   "outputs": [],
   "source": [
    "from sympy import *\n",
    "import matplotlib.pyplot as plt\n",
    "import numpy as np\n",
    "from IPython.display import display\n",
    "init_printing(use_latex='mathjax')"
   ]
  },
  {
   "cell_type": "markdown",
   "metadata": {},
   "source": [
    "# Asymptotic expansions in Differential equations\n",
    "\n",
    "The use cases of perturbation theory are widespread throughout differential equations.\n",
    "\n",
    "## Introductory Examples\n",
    "We begin our analysis with the second order linear ODE $$y'' + 2\\epsilon y + y = 0,$$ with boundary conditions as $y(0) = 0, y(1) = 1$. In the case that $\\epsilon\\to0,$ we approach the sinusoids of unperturbed behavior. But as we introduce this \"damping\" to the system, the sinusoid approximation still does a relatively good job, but it needs correction. This is an example of a regular perturbation. As such we define a series solution $y(x) = y_0(x) + \\epsilon _1(x) + O(\\epsilon^2).$ \n",
    "Looking at the solution, we would see the first terms of the actual solution $\\sin(\\sqrt{1-\\epsilon^2}x)e^{-\\epsilon x}$\n",
    "\n",
    "Note: initial and boundary conditions can and should be broken up to be in the appropriate terms in asymptotic expansions, e.g. we could allow $y(0)=\\epsilon,$ which would imply the boundary conditions $y_0(0)=0,y_1(0)=1$. \n"
   ]
  },
  {
   "cell_type": "code",
   "execution_count": 14,
   "metadata": {},
   "outputs": [
    {
     "data": {
      "text/latex": [
       "$\\displaystyle \\left\\{ 1 : y_{0}{\\left(x \\right)} + \\frac{d^{2}}{d x^{2}} y_{0}{\\left(x \\right)}, \\  \\epsilon : y_{1}{\\left(x \\right)} + 2 \\frac{d}{d x} y_{0}{\\left(x \\right)} + \\frac{d^{2}}{d x^{2}} y_{1}{\\left(x \\right)}, \\  \\epsilon^{2} : y_{2}{\\left(x \\right)} + 2 \\frac{d}{d x} y_{1}{\\left(x \\right)} + \\frac{d^{2}}{d x^{2}} y_{2}{\\left(x \\right)}, \\  \\epsilon^{3} : y_{3}{\\left(x \\right)} + 2 \\frac{d}{d x} y_{2}{\\left(x \\right)} + \\frac{d^{2}}{d x^{2}} y_{3}{\\left(x \\right)}, \\  \\epsilon^{4} : 2 \\frac{d}{d x} y_{3}{\\left(x \\right)}\\right\\}$"
      ],
      "text/plain": [
       "⎧            2                                    2                            ↪\n",
       "⎪           d                        d           d            2            d   ↪\n",
       "⎨1: y₀(x) + ───(y₀(x)), ε: y₁(x) + 2⋅──(y₀(x)) + ───(y₁(x)), ε : y₂(x) + 2⋅──( ↪\n",
       "⎪             2                      dx            2                       dx  ↪\n",
       "⎩           dx                                   dx                            ↪\n",
       "\n",
       "↪           2                                     2                         ⎫\n",
       "↪          d            3            d           d            4    d        ⎪\n",
       "↪ y₁(x)) + ───(y₂(x)), ε : y₃(x) + 2⋅──(y₂(x)) + ───(y₃(x)), ε : 2⋅──(y₃(x))⎬\n",
       "↪            2                       dx            2               dx       ⎪\n",
       "↪          dx                                    dx                         ⎭"
      ]
     },
     "metadata": {},
     "output_type": "display_data"
    },
    {
     "data": {
      "text/latex": [
       "$\\displaystyle y_{0}{\\left(x \\right)} = \\frac{\\sin{\\left(x \\right)}}{\\sin{\\left(1 \\right)}}$"
      ],
      "text/plain": [
       "        sin(x)\n",
       "y₀(x) = ──────\n",
       "        sin(1)"
      ]
     },
     "metadata": {},
     "output_type": "display_data"
    },
    {
     "data": {
      "text/latex": [
       "$\\displaystyle y_{1}{\\left(x \\right)} = \\left(- \\frac{x}{\\sin{\\left(1 \\right)}} + \\frac{1}{\\sin{\\left(1 \\right)}}\\right) \\sin{\\left(x \\right)}$"
      ],
      "text/plain": [
       "        ⎛    x        1   ⎞       \n",
       "y₁(x) = ⎜- ────── + ──────⎟⋅sin(x)\n",
       "        ⎝  sin(1)   sin(1)⎠       "
      ]
     },
     "metadata": {},
     "output_type": "display_data"
    },
    {
     "data": {
      "text/latex": [
       "$\\displaystyle y_{2}{\\left(x \\right)} = - \\frac{x \\cos{\\left(x \\right)}}{2 \\sin{\\left(1 \\right)}} + \\left(\\frac{x^{2}}{2 \\sin{\\left(1 \\right)}} - \\frac{x}{\\sin{\\left(1 \\right)}} + \\frac{\\cos{\\left(1 \\right)} + \\sin{\\left(1 \\right)}}{2 \\sin^{2}{\\left(1 \\right)}}\\right) \\sin{\\left(x \\right)}$"
      ],
      "text/plain": [
       "                     ⎛    2                              ⎞       \n",
       "          x⋅cos(x)   ⎜   x         x      cos(1) + sin(1)⎟       \n",
       "y₂(x) = - ──────── + ⎜──────── - ────── + ───────────────⎟⋅sin(x)\n",
       "          2⋅sin(1)   ⎜2⋅sin(1)   sin(1)           2      ⎟       \n",
       "                     ⎝                       2⋅sin (1)   ⎠       "
      ]
     },
     "metadata": {},
     "output_type": "display_data"
    },
    {
     "data": {
      "text/latex": [
       "$\\displaystyle y_{3}{\\left(x \\right)} = \\frac{\\sqrt{2} x^{2} \\sin{\\left(x + \\frac{\\pi}{4} \\right)}}{2 \\sin{\\left(1 \\right)}} - \\frac{\\sqrt{2} x \\cos{\\left(x + \\frac{\\pi}{4} \\right)}}{2 \\sin{\\left(1 \\right)}} + \\left(- \\frac{x^{3}}{6 \\sin{\\left(1 \\right)}} - \\frac{x}{\\sin{\\left(1 \\right)}} - \\frac{x}{2 \\sin{\\left(1 \\right)} \\tan{\\left(1 \\right)}} - \\frac{\\sqrt{2} \\sin{\\left(\\frac{\\pi}{4} + 1 \\right)}}{2 \\sin^{2}{\\left(1 \\right)}} + \\frac{\\sqrt{2} \\cos{\\left(\\frac{\\pi}{4} + 1 \\right)}}{2 \\sin^{2}{\\left(1 \\right)}} + \\frac{1}{2 \\sin{\\left(1 \\right)} \\tan{\\left(1 \\right)}} + \\frac{7}{6 \\sin{\\left(1 \\right)}}\\right) \\sin{\\left(x \\right)}$"
      ],
      "text/plain": [
       "            2    ⎛    π⎞           ⎛    π⎞   ⎛                                 ↪\n",
       "        √2⋅x ⋅sin⎜x + ─⎟   √2⋅x⋅cos⎜x + ─⎟   ⎜      3                          ↪\n",
       "                 ⎝    4⎠           ⎝    4⎠   ⎜     x         x             x   ↪\n",
       "y₃(x) = ──────────────── - ─────────────── + ⎜- ──────── - ────── - ────────── ↪\n",
       "            2⋅sin(1)          2⋅sin(1)       ⎜  6⋅sin(1)   sin(1)   2⋅sin(1)⋅t ↪\n",
       "                                             ⎝                                 ↪\n",
       "\n",
       "↪               ⎛π    ⎞         ⎛π    ⎞                             ⎞       \n",
       "↪         √2⋅sin⎜─ + 1⎟   √2⋅cos⎜─ + 1⎟                             ⎟       \n",
       "↪               ⎝4    ⎠         ⎝4    ⎠          1             7    ⎟       \n",
       "↪ ───── - ───────────── + ───────────── + ─────────────── + ────────⎟⋅sin(x)\n",
       "↪ an(1)          2               2        2⋅sin(1)⋅tan(1)   6⋅sin(1)⎟       \n",
       "↪           2⋅sin (1)       2⋅sin (1)                               ⎠       "
      ]
     },
     "metadata": {},
     "output_type": "display_data"
    },
    {
     "data": {
      "text/latex": [
       "$\\displaystyle \\epsilon^{3} \\left(\\frac{\\sqrt{2} x^{2} \\sin{\\left(x + \\frac{\\pi}{4} \\right)}}{2 \\sin{\\left(1 \\right)}} - \\frac{\\sqrt{2} x \\cos{\\left(x + \\frac{\\pi}{4} \\right)}}{2 \\sin{\\left(1 \\right)}} + \\left(- \\frac{x^{3}}{6 \\sin{\\left(1 \\right)}} - \\frac{x}{\\sin{\\left(1 \\right)}} - \\frac{x}{2 \\sin{\\left(1 \\right)} \\tan{\\left(1 \\right)}} - \\frac{\\sqrt{2} \\sin{\\left(\\frac{\\pi}{4} + 1 \\right)}}{2 \\sin^{2}{\\left(1 \\right)}} + \\frac{\\sqrt{2} \\cos{\\left(\\frac{\\pi}{4} + 1 \\right)}}{2 \\sin^{2}{\\left(1 \\right)}} + \\frac{1}{2 \\sin{\\left(1 \\right)} \\tan{\\left(1 \\right)}} + \\frac{7}{6 \\sin{\\left(1 \\right)}}\\right) \\sin{\\left(x \\right)}\\right) + \\epsilon^{2} \\left(- \\frac{x \\cos{\\left(x \\right)}}{2 \\sin{\\left(1 \\right)}} + \\left(\\frac{x^{2}}{2 \\sin{\\left(1 \\right)}} - \\frac{x}{\\sin{\\left(1 \\right)}} + \\frac{\\cos{\\left(1 \\right)} + \\sin{\\left(1 \\right)}}{2 \\sin^{2}{\\left(1 \\right)}}\\right) \\sin{\\left(x \\right)}\\right) + \\epsilon \\left(- \\frac{x}{\\sin{\\left(1 \\right)}} + \\frac{1}{\\sin{\\left(1 \\right)}}\\right) \\sin{\\left(x \\right)} + \\frac{\\sin{\\left(x \\right)}}{\\sin{\\left(1 \\right)}}$"
      ],
      "text/plain": [
       "   ⎛    2    ⎛    π⎞           ⎛    π⎞   ⎛                                     ↪\n",
       "   ⎜√2⋅x ⋅sin⎜x + ─⎟   √2⋅x⋅cos⎜x + ─⎟   ⎜      3                              ↪\n",
       " 3 ⎜         ⎝    4⎠           ⎝    4⎠   ⎜     x         x             x       ↪\n",
       "ε ⋅⎜──────────────── - ─────────────── + ⎜- ──────── - ────── - ────────────── ↪\n",
       "   ⎜    2⋅sin(1)          2⋅sin(1)       ⎜  6⋅sin(1)   sin(1)   2⋅sin(1)⋅tan(1 ↪\n",
       "   ⎝                                     ⎝                                     ↪\n",
       "\n",
       "↪           ⎛π    ⎞         ⎛π    ⎞                             ⎞       ⎞      ↪\n",
       "↪     √2⋅sin⎜─ + 1⎟   √2⋅cos⎜─ + 1⎟                             ⎟       ⎟      ↪\n",
       "↪           ⎝4    ⎠         ⎝4    ⎠          1             7    ⎟       ⎟    2 ↪\n",
       "↪ ─ - ───────────── + ───────────── + ─────────────── + ────────⎟⋅sin(x)⎟ + ε  ↪\n",
       "↪ )          2               2        2⋅sin(1)⋅tan(1)   6⋅sin(1)⎟       ⎟      ↪\n",
       "↪       2⋅sin (1)       2⋅sin (1)                               ⎠       ⎠      ↪\n",
       "\n",
       "↪                                                                              ↪\n",
       "↪  ⎛             ⎛    2                              ⎞       ⎞                 ↪\n",
       "↪  ⎜  x⋅cos(x)   ⎜   x         x      cos(1) + sin(1)⎟       ⎟     ⎛    x      ↪\n",
       "↪ ⋅⎜- ──────── + ⎜──────── - ────── + ───────────────⎟⋅sin(x)⎟ + ε⋅⎜- ────── + ↪\n",
       "↪  ⎜  2⋅sin(1)   ⎜2⋅sin(1)   sin(1)           2      ⎟       ⎟     ⎝  sin(1)   ↪\n",
       "↪  ⎝             ⎝                       2⋅sin (1)   ⎠       ⎠                 ↪\n",
       "\n",
       "↪                         \n",
       "↪                         \n",
       "↪    1   ⎞          sin(x)\n",
       "↪  ──────⎟⋅sin(x) + ──────\n",
       "↪  sin(1)⎠          sin(1)\n",
       "↪                         "
      ]
     },
     "metadata": {},
     "output_type": "display_data"
    }
   ],
   "source": [
    "x, epsilon = symbols('x epsilon')\n",
    "N = 4\n",
    "y_ = [Function(f'y_{i}')(x) for i in range(N)]\n",
    "y = sum([epsilon**i * y_[i] for i in range(N)])\n",
    "ddx = lambda f: f.diff(x)\n",
    "eqn = ddx(ddx(y)) + 2*epsilon*ddx(y) + y\n",
    "eqn = eqn.expand().collect(epsilon,evaluate=False)\n",
    "display(eqn)\n",
    "#Define zero ICs/BCs (Sympy puts them all under the term ICs)\n",
    "ics = []\n",
    "for i in range(N):\n",
    "    ics.append({y_[i].subs(x,0):0,y_[i].subs(x,1):0})\n",
    "#update other ICs/BCs\n",
    "ics[0][y_[0].subs(x,1)] = 1\n",
    "\n",
    "#solve the ODEs\n",
    "replacements = []\n",
    "for i in range(N):\n",
    "    soln = dsolve(eqn[epsilon**i].subs(replacements),y_[i],ics=ics[i])\n",
    "    display(soln)\n",
    "    replacements.append((soln.lhs,soln.rhs))\n",
    "display(y.subs(replacements))\n",
    "\n"
   ]
  },
  {
   "cell_type": "markdown",
   "metadata": {},
   "source": [
    "\n",
    "**Exercise:** Implement the above concepts to the equation $$\\ddot x + 2\\dot x + \\epsilon x = 0$$ in the following code block. Describe how this corresponds to the expected behavior. Then play around with different boundary and initials conditions, describe how these affect the solutions.\n"
   ]
  },
  {
   "cell_type": "code",
   "execution_count": null,
   "metadata": {},
   "outputs": [],
   "source": [
    "#Insert code here"
   ]
  },
  {
   "cell_type": "markdown",
   "metadata": {},
   "source": [
    "## Boundary Layer\n",
    "\n",
    "The final variation of perturbation is $$\\epsilon \\ddot x + 2\\dot x + x = 0,$$ with boundary conditions $x(0)=0, x(1) = 1$. This is a singular perturbation, which indicates a qualitative difference between the unperturbed behavior and the perturbed correction.\n",
    "\n",
    "The key to solving for this behavior is the **method of matched asymptotics** (MMAE). We will generate an outer solutions which solves $2\\dot x + x = 0,$ which operates over most of the domain. We will then use a stretched independent variable to handle the situations where derivatives of $x$ become large (this is also known as a boundary layer).\n",
    "\n",
    "This first block of code will setup the outer solution, which behaves much like the regular perturbations above, where we first solve $2\\dot x_0 + x_0 = 0$. Note that this problem has two boundary conditions, which means we will consider both as separate solutions (the method will eventually discard one because it does not produce a consistent answer)."
   ]
  },
  {
   "cell_type": "code",
   "execution_count": 35,
   "metadata": {},
   "outputs": [
    {
     "data": {
      "text/latex": [
       "$\\displaystyle \\left\\{ 1 : y_{0}{\\left(x \\right)} + 2 \\frac{d}{d x} y_{0}{\\left(x \\right)}, \\  \\epsilon : y_{1}{\\left(x \\right)} + \\frac{d^{2}}{d x^{2}} y_{0}{\\left(x \\right)} + 2 \\frac{d}{d x} y_{1}{\\left(x \\right)}, \\  \\epsilon^{2} : \\frac{d^{2}}{d x^{2}} y_{1}{\\left(x \\right)}\\right\\}$"
      ],
      "text/plain": [
       "⎧                                    2                             2        ⎫\n",
       "⎪             d                     d              d           2  d         ⎪\n",
       "⎨1: y₀(x) + 2⋅──(y₀(x)), ε: y₁(x) + ───(y₀(x)) + 2⋅──(y₁(x)), ε : ───(y₁(x))⎬\n",
       "⎪             dx                      2            dx               2       ⎪\n",
       "⎩                                   dx                            dx        ⎭"
      ]
     },
     "metadata": {},
     "output_type": "display_data"
    },
    {
     "data": {
      "text/latex": [
       "$\\displaystyle y_{0}{\\left(x \\right)} = 0$"
      ],
      "text/plain": [
       "y₀(x) = 0"
      ]
     },
     "metadata": {},
     "output_type": "display_data"
    },
    {
     "data": {
      "text/latex": [
       "$\\displaystyle y_{0}{\\left(x \\right)} = e^{\\frac{1}{2}} e^{- \\frac{x}{2}}$"
      ],
      "text/plain": [
       "              -x \n",
       "              ───\n",
       "         1/2   2 \n",
       "y₀(x) = ℯ   ⋅ℯ   "
      ]
     },
     "metadata": {},
     "output_type": "display_data"
    }
   ],
   "source": [
    "x, epsilon = symbols('x epsilon')\n",
    "N = 2\n",
    "y_ = [Function(f'y_{i}')(x) for i in range(N)]\n",
    "y = sum([epsilon**i * y_[i] for i in range(N)])\n",
    "ddx = lambda f: f.diff(x)\n",
    "eqn = epsilon*ddx(ddx(y)) + 2*ddx(y) + y\n",
    "eqn = eqn.expand().collect(epsilon,evaluate=False)\n",
    "display(eqn)\n",
    "\n",
    "#solve the outer problem with left and right boundary conditions\n",
    "left_BC_y_0 = dsolve(eqn[1],y_[0],ics={y_[0].subs(x,0):0})\n",
    "right_BC_y_0 = dsolve(eqn[1],y_[0],ics={y_[0].subs(x,1):1})\n",
    "display(left_BC_y_0,right_BC_y_0)\n"
   ]
  },
  {
   "cell_type": "markdown",
   "metadata": {},
   "source": [
    "From this, we will now consider the boundary layer solutions, which in either case will be near the unresolved boundary. Given a particular outer solution, we will define the variable $X = x/\\delta$ or $X = (x-1)/\\delta$ to capture the boundary layer. Doing so will force us to define $Y(x,\\epsilon) = y(x,\\epsilon)$ and $\\frac{d}{dx} = \\frac{1}{\\delta}\\frac{d}{dX}$ which we demonstrate the consequences of in this block of code."
   ]
  },
  {
   "cell_type": "code",
   "execution_count": 40,
   "metadata": {},
   "outputs": [
    {
     "data": {
      "text/latex": [
       "$\\displaystyle \\epsilon Y_{1}{\\left(X \\right)} + Y_{0}{\\left(X \\right)} + \\frac{2 \\epsilon \\frac{d}{d X} Y_{1}{\\left(X \\right)}}{\\delta} + \\frac{2 \\frac{d}{d X} Y_{0}{\\left(X \\right)}}{\\delta} + \\frac{\\epsilon^{2} \\frac{d^{2}}{d X^{2}} Y_{1}{\\left(X \\right)}}{\\delta^{2}} + \\frac{\\epsilon \\frac{d^{2}}{d X^{2}} Y_{0}{\\left(X \\right)}}{\\delta^{2}}$"
      ],
      "text/plain": [
       "                                                    2              2        \n",
       "                                                 2 d              d         \n",
       "                      d             d           ε ⋅───(Y₁(X))   ε⋅───(Y₀(X))\n",
       "                  2⋅ε⋅──(Y₁(X))   2⋅──(Y₀(X))        2              2       \n",
       "                      dX            dX             dX             dX        \n",
       "ε⋅Y₁(X) + Y₀(X) + ───────────── + ─────────── + ───────────── + ────────────\n",
       "                        δ              δ              2               2     \n",
       "                                                     δ               δ      "
      ]
     },
     "metadata": {},
     "output_type": "display_data"
    }
   ],
   "source": [
    "X, delta = symbols('X delta')\n",
    "N = 2\n",
    "Y_ = [Function(f'Y_{i}')(X) for i in range(N)]\n",
    "Y = sum([epsilon**i * Y_[i] for i in range(N)])\n",
    "ddx = lambda f: f.diff(X)/delta\n",
    "eqn = epsilon*ddx(ddx(Y)) + 2*ddx(Y) + Y\n",
    "eqn = eqn.expand()\n",
    "display(eqn)"
   ]
  },
  {
   "cell_type": "markdown",
   "metadata": {},
   "source": [
    "There are two dominant balances to this equation: $\\delta =1,$ which leads to the outer solution, and $\\delta = \\epsilon$ which leads to our boundary layer solutions. This also tells us that the boundary layer has thickness $O(\\epsilon)$. We make the substitution, find the dominant equation at $O(\\epsilon^{-1}).$ We then solve for $Y_0$ using the other boundary condition; here we use the $y(0)$ = 0 condition."
   ]
  },
  {
   "cell_type": "code",
   "execution_count": 45,
   "metadata": {},
   "outputs": [
    {
     "data": {
      "text/latex": [
       "$\\displaystyle \\left\\{ 1 : Y_{0}{\\left(X \\right)} + 2 \\frac{d}{d X} Y_{1}{\\left(X \\right)} + \\frac{d^{2}}{d X^{2}} Y_{1}{\\left(X \\right)}, \\  \\frac{1}{\\epsilon} : 2 \\frac{d}{d X} Y_{0}{\\left(X \\right)} + \\frac{d^{2}}{d X^{2}} Y_{0}{\\left(X \\right)}, \\  \\epsilon : Y_{1}{\\left(X \\right)}\\right\\}$"
      ],
      "text/plain": [
       "⎧                          2                            2                  ⎫\n",
       "⎪             d           d           1    d           d                   ⎪\n",
       "⎨1: Y₀(X) + 2⋅──(Y₁(X)) + ───(Y₁(X)), ─: 2⋅──(Y₀(X)) + ───(Y₀(X)), ε: Y₁(X)⎬\n",
       "⎪             dX            2         ε    dX            2                 ⎪\n",
       "⎩                         dX                           dX                  ⎭"
      ]
     },
     "metadata": {},
     "output_type": "display_data"
    },
    {
     "data": {
      "text/latex": [
       "$\\displaystyle Y_{0}{\\left(X \\right)} = - C_{2} + C_{2} e^{- 2 X}$"
      ],
      "text/plain": [
       "                  -2⋅X\n",
       "Y₀(X) = -C₂ + C₂⋅ℯ    "
      ]
     },
     "metadata": {},
     "output_type": "display_data"
    }
   ],
   "source": [
    "eqn_mod = eqn.subs({delta:epsilon}).collect(epsilon,evaluate=False)\n",
    "display(eqn_mod)\n",
    "\n",
    "left_BC_Y_0 = dsolve(eqn_mod[epsilon**-1],Y_[0],ics={Y_[0].subs(X,0):0})\n",
    "display(left_BC_Y_0)"
   ]
  },
  {
   "cell_type": "markdown",
   "metadata": {},
   "source": [
    "While having two solutions $y_0,Y_0$ is nice, we still have an arbitrary constant, which we can determine by imposing the matching condition (this is why the method is called that of matched asymptotics): $$\\lim_{x\\to 0^+} y_0 = \\lim_{X\\to\\infty}Y_0.$$ By inspection, it is easy to see that $C_2 = -e^{1/2}.$ \n",
    "\n",
    "If we had assumed the boundary layer was near $x=1,$ then the matching would fail in all cases. Demonstrating this in code is left as an exercise to the reader."
   ]
  }
 ],
 "metadata": {
  "kernelspec": {
   "display_name": "Python 3",
   "language": "python",
   "name": "python3"
  },
  "language_info": {
   "codemirror_mode": {
    "name": "ipython",
    "version": 3
   },
   "file_extension": ".py",
   "mimetype": "text/x-python",
   "name": "python",
   "nbconvert_exporter": "python",
   "pygments_lexer": "ipython3",
   "version": "3.12.4"
  }
 },
 "nbformat": 4,
 "nbformat_minor": 2
}
