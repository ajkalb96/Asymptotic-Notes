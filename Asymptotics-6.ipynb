{
 "cells": [
  {
   "cell_type": "code",
   "execution_count": 1,
   "metadata": {},
   "outputs": [],
   "source": [
    "from sympy import *\n",
    "import matplotlib.pyplot as plt\n",
    "import numpy as np\n",
    "from IPython.display import display\n",
    "init_printing(use_latex='mathjax')"
   ]
  },
  {
   "cell_type": "markdown",
   "metadata": {},
   "source": [
    "# Asymptotic Models\n",
    "\n",
    "One thing a reader may have noticed if they have been running the code throughout is that it can take Sympy some time to solve our equations analytically, which is worrying considering that the equations given to Sympy to solve in these examples are quite simple, and could be done with relative ease by the mathematician. And this is true. But in the physical sciences, asmyptotics can be used to rigorously simplify models, and having a tool to automate those calculations allows the end user to spend time validating the model. This chapter will go over some examples of how Sympy can be used to derive these models"
   ]
  },
  {
   "cell_type": "markdown",
   "metadata": {},
   "source": [
    "## Prandtl Boundary Layer Theory\n",
    "\n",
    "This work on weakly viscous fluids near a boundary from 1905 is the original singular perturbation problem that can be treated by MMAE.\n",
    "\n",
    "We begin with the non-dimensional, incompressible, two-dimensional Navier-Stokes equations $$u_t + uu_x + vu_y + p_x = \\epsilon(u_{xx}+u_{yy}), \\\\ v_t + uv_x + vv_y + p_y = \\epsilon(v_{xx}+v_{yy}), \\\\ u_x+v_y = 0,$$\n",
    "where $\\epsilon$ is the inverse Reynold's number, $u,v$ are the velocities in the $x,y$ directions, and $p$ is the pressure. The $\\epsilon = 0$ case are known as the Euler equations. Since both are first order in time, they can both take the same initial conditions $u(x,y,0) = u_0(x,y), v(x,y,0) = v_0(x,y),$ and no initial condition is needed for the pressure. However, since the Euler and NS equations have different orders of spatial derivatives, different boundary conditions are required. The Euler equations require the no-flow condition $\\langle u,v\\rangle\\cdot\\mathbf{n}=0$ for normal vector $\\mathbf{n},$ which negates velocities flowing out from a region. Tthe Navier Stokes equations require the no-slip boundary conditions $\\langle u,v\\rangle = 0,$ negating both the tangential and normal velocities on the boundary.\n",
    "\n",
    "In particular, we will consider a flat boundary at $y=0$ (the boundary layer is thin enough that the equations would not change for a smooth curved boundary).\n",
    "\n",
    "The leading order outer solution becomes from the Euler equations obtained when $\\epsilon = 0,$ which is located in $y>0$. We will denote the outer solution using lowercased variables. \n",
    "\n",
    "For the outer solution, we will use uppercased variables, which are unscaled except $Y = \\frac y\\delta, v = \\eta V.$ The following code will automate the generation of the scaled equations from our definitions. \n",
    "\n",
    "Among the code are several filters streamline the process of substitution, one of which (scaling) is set to a null dictionary, with the actual scaling commented out. Looking at the expression, one arrives at the dominant balance $\\eta = \\delta = \\sqrt{\\epsilon}$. By uncommenting the dictionary scaling, and the collect call on the inner line, one will arrive at the leading order outer and inner equations."
   ]
  },
  {
   "cell_type": "code",
   "execution_count": 22,
   "metadata": {},
   "outputs": [
    {
     "data": {
      "text/latex": [
       "$\\displaystyle \\left\\{ 1 : u{\\left(x,y,t \\right)} \\frac{\\partial}{\\partial x} u{\\left(x,y,t \\right)} + v{\\left(x,y,t \\right)} \\frac{\\partial}{\\partial y} u{\\left(x,y,t \\right)} + \\frac{\\partial}{\\partial x} p{\\left(x,y,t \\right)} + \\frac{\\partial}{\\partial t} u{\\left(x,y,t \\right)}, \\  \\epsilon : - \\frac{\\partial^{2}}{\\partial x^{2}} u{\\left(x,y,t \\right)} - \\frac{\\partial^{2}}{\\partial y^{2}} u{\\left(x,y,t \\right)}\\right\\}$"
      ],
      "text/plain": [
       "⎧                                                                              ↪\n",
       "⎪              ∂                           ∂                ∂                ∂ ↪\n",
       "⎨1: u(x, y, t)⋅──(u(x, y, t)) + v(x, y, t)⋅──(u(x, y, t)) + ──(p(x, y, t)) + ─ ↪\n",
       "⎪              ∂x                          ∂y               ∂x               ∂ ↪\n",
       "⎩                                                                              ↪\n",
       "\n",
       "↪                      2                 2             ⎫\n",
       "↪                     ∂                 ∂              ⎪\n",
       "↪ ─(u(x, y, t)), ε: - ───(u(x, y, t)) - ───(u(x, y, t))⎬\n",
       "↪ t                     2                 2            ⎪\n",
       "↪                     ∂x                ∂y             ⎭"
      ]
     },
     "metadata": {},
     "output_type": "display_data"
    },
    {
     "data": {
      "text/latex": [
       "$\\displaystyle \\left\\{ 1 : U{\\left(X,Y,T \\right)} \\frac{\\partial}{\\partial X} U{\\left(X,Y,T \\right)} + V{\\left(X,Y,T \\right)} \\frac{\\partial}{\\partial Y} U{\\left(X,Y,T \\right)} + \\frac{\\partial}{\\partial X} P{\\left(X,Y,T \\right)} + \\frac{\\partial}{\\partial T} U{\\left(X,Y,T \\right)} - \\frac{\\partial^{2}}{\\partial Y^{2}} U{\\left(X,Y,T \\right)}, \\  \\epsilon : - \\frac{\\partial^{2}}{\\partial X^{2}} U{\\left(X,Y,T \\right)}\\right\\}$"
      ],
      "text/plain": [
       "⎧                                                                              ↪\n",
       "⎪              ∂                           ∂                ∂                ∂ ↪\n",
       "⎨1: U(X, Y, T)⋅──(U(X, Y, T)) + V(X, Y, T)⋅──(U(X, Y, T)) + ──(P(X, Y, T)) + ─ ↪\n",
       "⎪              ∂X                          ∂Y               ∂X               ∂ ↪\n",
       "⎩                                                                              ↪\n",
       "\n",
       "↪                  2                    2             ⎫\n",
       "↪                 ∂                    ∂              ⎪\n",
       "↪ ─(U(X, Y, T)) - ───(U(X, Y, T)), ε: -───(U(X, Y, T))⎬\n",
       "↪ T                 2                    2            ⎪\n",
       "↪                 ∂Y                   ∂X             ⎭"
      ]
     },
     "metadata": {},
     "output_type": "display_data"
    },
    {
     "data": {
      "text/latex": [
       "$\\displaystyle \\left\\{ 1 : u{\\left(x,y,t \\right)} \\frac{\\partial}{\\partial x} v{\\left(x,y,t \\right)} + v{\\left(x,y,t \\right)} \\frac{\\partial}{\\partial y} v{\\left(x,y,t \\right)} + \\frac{\\partial}{\\partial y} p{\\left(x,y,t \\right)} + \\frac{\\partial}{\\partial t} v{\\left(x,y,t \\right)}, \\  \\epsilon : - \\frac{\\partial^{2}}{\\partial x^{2}} v{\\left(x,y,t \\right)} - \\frac{\\partial^{2}}{\\partial y^{2}} v{\\left(x,y,t \\right)}\\right\\}$"
      ],
      "text/plain": [
       "⎧                                                                              ↪\n",
       "⎪              ∂                           ∂                ∂                ∂ ↪\n",
       "⎨1: u(x, y, t)⋅──(v(x, y, t)) + v(x, y, t)⋅──(v(x, y, t)) + ──(p(x, y, t)) + ─ ↪\n",
       "⎪              ∂x                          ∂y               ∂y               ∂ ↪\n",
       "⎩                                                                              ↪\n",
       "\n",
       "↪                      2                 2             ⎫\n",
       "↪                     ∂                 ∂              ⎪\n",
       "↪ ─(v(x, y, t)), ε: - ───(v(x, y, t)) - ───(v(x, y, t))⎬\n",
       "↪ t                     2                 2            ⎪\n",
       "↪                     ∂x                ∂y             ⎭"
      ]
     },
     "metadata": {},
     "output_type": "display_data"
    },
    {
     "data": {
      "text/latex": [
       "$\\displaystyle \\left\\{ \\frac{1}{\\sqrt{\\epsilon}} : \\frac{\\partial}{\\partial Y} P{\\left(X,Y,T \\right)}, \\  \\sqrt{\\epsilon} : U{\\left(X,Y,T \\right)} \\frac{\\partial}{\\partial X} V{\\left(X,Y,T \\right)} + V{\\left(X,Y,T \\right)} \\frac{\\partial}{\\partial Y} V{\\left(X,Y,T \\right)} + \\frac{\\partial}{\\partial T} V{\\left(X,Y,T \\right)} - \\frac{\\partial^{2}}{\\partial Y^{2}} V{\\left(X,Y,T \\right)}, \\  \\epsilon^{\\frac{3}{2}} : - \\frac{\\partial^{2}}{\\partial X^{2}} V{\\left(X,Y,T \\right)}\\right\\}$"
      ],
      "text/plain": [
       "⎧                                                                              ↪\n",
       "⎪1   ∂                              ∂                           ∂              ↪\n",
       "⎨──: ──(P(X, Y, T)), √ε: U(X, Y, T)⋅──(V(X, Y, T)) + V(X, Y, T)⋅──(V(X, Y, T)) ↪\n",
       "⎪√ε  ∂Y                             ∂X                          ∂Y             ↪\n",
       "⎩                                                                              ↪\n",
       "\n",
       "↪                      2                       2             ⎫\n",
       "↪    ∂                ∂                 3/2   ∂              ⎪\n",
       "↪  + ──(V(X, Y, T)) - ───(V(X, Y, T)), ε   : -───(V(X, Y, T))⎬\n",
       "↪    ∂T                 2                       2            ⎪\n",
       "↪                     ∂Y                      ∂X             ⎭"
      ]
     },
     "metadata": {},
     "output_type": "display_data"
    },
    {
     "data": {
      "text/latex": [
       "$\\displaystyle \\left\\{ 1 : \\frac{\\partial}{\\partial x} u{\\left(x,y,t \\right)} + \\frac{\\partial}{\\partial y} v{\\left(x,y,t \\right)}\\right\\}$"
      ],
      "text/plain": [
       "⎧   ∂                ∂             ⎫\n",
       "⎨1: ──(u(x, y, t)) + ──(v(x, y, t))⎬\n",
       "⎩   ∂x               ∂y            ⎭"
      ]
     },
     "metadata": {},
     "output_type": "display_data"
    },
    {
     "data": {
      "text/latex": [
       "$\\displaystyle \\left\\{ 1 : \\frac{\\partial}{\\partial X} U{\\left(X,Y,T \\right)} + \\frac{\\partial}{\\partial Y} V{\\left(X,Y,T \\right)}\\right\\}$"
      ],
      "text/plain": [
       "⎧   ∂                ∂             ⎫\n",
       "⎨1: ──(U(X, Y, T)) + ──(V(X, Y, T))⎬\n",
       "⎩   ∂X               ∂Y            ⎭"
      ]
     },
     "metadata": {},
     "output_type": "display_data"
    }
   ],
   "source": [
    "epsilon = symbols('epsilon')\n",
    "x, y, t = symbols('x y t')\n",
    "X, Y, T = symbols('X Y T')\n",
    "u, p = [Function(c)(x,y,t) + Function(c.upper())(X,Y,T) for c in ['u','p']]\n",
    "ddx = lambda f: f.diff(x) + f.diff(X)\n",
    "ddt = lambda f: f.diff(t) + f.diff(T)\n",
    "\n",
    "scales = symbols('eta delta')\n",
    "v = Function('v')(x,y,t) + scales[0]*Function('V')(X,Y,T)\n",
    "ddy = lambda f: f.diff(y) + f.diff(Y)/scales[1]\n",
    "\n",
    "eqns = []\n",
    "eqns.append(ddt(u) + u*ddx(u) + v*ddy(u) + ddx(p) - epsilon*(ddx(ddx(u)) + ddy(ddy(u))))\n",
    "eqns.append(ddt(v) + u*ddx(v) + v*ddy(v) + ddy(p) - epsilon*(ddx(ddx(v)) + ddy(ddy(v))))\n",
    "eqns.append(ddx(u) + ddy(v))\n",
    "\n",
    "#generate filters for substitution\n",
    "no_upper = {Function(c)(X,Y,T):0 for c in ['U','V','P']}\n",
    "no_lower = {Function(c)(x,y,t):0 for c in ['u','v','p']}\n",
    "eps12 = epsilon**Rational(1,2)\n",
    "scaling = {}#{scales[0]:eps12,scales[1]:eps12}\n",
    "\n",
    "for eqn in eqns:\n",
    "    eqn = eqn.expand()\n",
    "    outer = eqn.subs(no_upper).simplify().collect(epsilon,evaluate=False)\n",
    "    display(outer)\n",
    "    inner = eqn.subs(no_lower).subs(scaling).simplify()#.collect(epsilon,evaluate=False)\n",
    "    display(inner)\n",
    "\n",
    "\n"
   ]
  },
  {
   "cell_type": "markdown",
   "metadata": {},
   "source": [
    "From examining and matching the leading order equations, we are able to build out the rest of the analysis. Since the inner boundary layer solution as $Y\\to\\infty$ must match the outer Euler solution as $y\\to0$ we get $U(X,Y,T)\\to U^*(X,T):=u(X,0,T), P(X,T) = P^*(X,T):= P(X,0,T)$ (Note that $P_Y=0$ makes the latter equality). Since this operates at $y=0, v=0,$ thus we get the compatibility relation $$U^*_T + U^*U^*_X +P^*_X=0.$$ From incompressibility, we get both that $$V(X,Y,T)\\sim U_X^*(X,T)Y\\text{ as }Y\\to\\infty$$ $$v(x,y,t)\\sim v_y(x,0,t)y = u_x(x,0,t)y \\text{ as }y\\to0.$$ As such, we do not require matching conditions on $V.$ We also match the intial data to the inner layer to get $U(X,Y,0) = u_0(X,Y).$ For steady flow with $U>0$, this reduces our equations to $$UU_X - U^*U^*_X + VU_Y = U_{YY}$$ $$U_X+V_Y = 0$$ $$U(X,Y)\\to U^*(X) \\text{ as } Y\\to\\infty$$ $$U(X,Y)\\sim U_0(Y)$$\n",
    "\n"
   ]
  },
  {
   "cell_type": "code",
   "execution_count": null,
   "metadata": {},
   "outputs": [],
   "source": []
  }
 ],
 "metadata": {
  "kernelspec": {
   "display_name": "Python 3",
   "language": "python",
   "name": "python3"
  },
  "language_info": {
   "codemirror_mode": {
    "name": "ipython",
    "version": 3
   },
   "file_extension": ".py",
   "mimetype": "text/x-python",
   "name": "python",
   "nbconvert_exporter": "python",
   "pygments_lexer": "ipython3",
   "version": "3.12.4"
  }
 },
 "nbformat": 4,
 "nbformat_minor": 2
}
